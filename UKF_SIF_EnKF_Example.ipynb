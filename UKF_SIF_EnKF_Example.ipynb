{
 "cells": [
  {
   "cell_type": "markdown",
   "metadata": {},
   "source": [
    "\n",
    "# Benchmark Compairison between EKF, UKF, EnKF, and SIF\n"
   ]
  },
  {
   "cell_type": "markdown",
   "metadata": {},
   "source": [
    "This example shows how multiple trackers can be compared against each other using the same\n",
    "set of detections.\n",
    "\n"
   ]
  },
  {
   "cell_type": "markdown",
   "metadata": {},
   "source": [
    "This notebook creates groundtruth with manoeuvring motion, generates detections using a sensor,\n",
    "and attempts to track the groundtruth using the\n",
    "Extended Kalman Filter (EKF), Unscented Kalman Filter (UKF), Stochastic Integration Filter (SIF), the Ensemble Kalman Filter, and\n",
    "the Particle Filter (PF)\n",
    "\n",
    "Each of these trackers assumes a constant velocity transition model. The trackers are compared\n",
    "against each other using distance-error metrics, with the capability of displaying other metrics\n",
    "for the user to explore."
   ]
  },
  {
   "cell_type": "markdown",
   "metadata": {},
   "source": [
    "## Layout\n",
    "The layout of this example is as follows:\n",
    "\n",
    "1) The ground truth is created using multiple transition models\n",
    "2) The non-linear detections are generated once per time step using a bearing-range sensor\n",
    "3) Each tracker is initialised and run on the detections\n",
    "4) The results are plotted, and tracking metrics displayed for the user to explore\n",
    "5) Weakly Nonlinear Simulation, constant velocity model, Bearing Range radar type measurement model.\n"
   ]
  },
  {
   "cell_type": "markdown",
   "metadata": {},
   "source": [
    "## 1) Create Groundtruth\n",
    "Firstly, we initialise the ground truth states:\n",
    "\n"
   ]
  },
  {
   "cell_type": "code",
   "execution_count": 36,
   "metadata": {
    "collapsed": false,
    "jupyter": {
     "outputs_hidden": false
    }
   },
   "outputs": [],
   "source": [
    "import numpy as np\n",
    "import datetime\n",
    "from stonesoup.types.array import StateVector, CovarianceMatrix\n",
    "from stonesoup.types.state import State, GaussianState\n",
    "\n",
    "start_time = datetime.datetime.now()\n",
    "#np.random.seed(4)\n",
    "rng = np.random.default_rng()\n",
    "initial_x = rng.uniform(-10,0)\n",
    "initial_xv = rng.uniform(0,2.5)\n",
    "initial_y = rng.uniform(30,40)\n",
    "initial_yv = rng.uniform(-2.5,2.5)\n",
    "\n",
    "initial_state_mean = StateVector([[initial_x], [initial_xv], [initial_y], [initial_yv]])\n",
    "initial_state_covariance = CovarianceMatrix(np.diag([1, 0, 1, 0]))\n",
    "timestep_size = datetime.timedelta(seconds=1)\n",
    "number_steps = 50\n",
    "initial_state = GaussianState(initial_state_mean, initial_state_covariance)"
   ]
  },
  {
   "cell_type": "markdown",
   "metadata": {},
   "source": [
    "Next, we initialise the transition models used to generate the ground truth. Here, we say that\n",
    "the targets will mostly go straight ahead with a constant velocity, but will sometimes turn\n",
    "left or right. This is implemented using the :class:`~.SwitchMultiTargetGroundTruthSimulator`.\n",
    "\n"
   ]
  },
  {
   "cell_type": "code",
   "execution_count": 37,
   "metadata": {
    "collapsed": false,
    "jupyter": {
     "outputs_hidden": false
    }
   },
   "outputs": [],
   "source": [
    "from stonesoup.models.transition.linear import CombinedLinearGaussianTransitionModel, ConstantVelocity\n",
    "\n",
    "# initialise the transition models the ground truth can use\n",
    "q_x = 0.05\n",
    "q_y = 0.05\n",
    "transition_model = CombinedLinearGaussianTransitionModel(\n",
    "    [ConstantVelocity(q_x), ConstantVelocity(q_y)])"
   ]
  },
  {
   "cell_type": "markdown",
   "metadata": {},
   "source": [
    "Now we have initialised everything, we can generate the ground truth. Here we use a Single Target simulator.\n",
    "\n"
   ]
  },
  {
   "cell_type": "code",
   "execution_count": 38,
   "metadata": {
    "collapsed": false,
    "jupyter": {
     "outputs_hidden": false
    }
   },
   "outputs": [],
   "source": [
    "from stonesoup.simulator.simple import SingleTargetGroundTruthSimulator\n",
    "from stonesoup.types.state import GaussianState\n",
    "# generate truths\n",
    "ground_truth_gen = SingleTargetGroundTruthSimulator(\n",
    "    transition_model=transition_model,\n",
    "    initial_state=initial_state,\n",
    "    timestep=timestep_size,\n",
    "    number_steps=number_steps,\n",
    ")"
   ]
  },
  {
   "cell_type": "markdown",
   "metadata": {},
   "source": [
    "## 2) Generate detections using a bearing-range sensor\n",
    "\n",
    "The next step is to create a sensor and use it to generate detections from the targets.\n",
    "The sensor we use in this example is a radar with imperfect measurements in bearing-range space.\n",
    "\n",
    "First we initialise the radar:\n",
    "\n"
   ]
  },
  {
   "cell_type": "code",
   "execution_count": 39,
   "metadata": {
    "collapsed": false,
    "jupyter": {
     "outputs_hidden": false
    }
   },
   "outputs": [],
   "source": [
    "from stonesoup.sensor.radar import RadarBearingRange\n",
    "\n",
    "# Create the sensor\n",
    "sensor = RadarBearingRange(\n",
    "    ndim_state=4,\n",
    "    position_mapping=[0, 2],  # Detecting x and y\n",
    "    noise_covar=np.diag([np.radians(0.2), 0.1]),  # 3 Degrees error in bearing, Error in Range\n",
    "    clutter_model=None,  # Can add clutter model in future if desired\n",
    ")"
   ]
  },
  {
   "cell_type": "markdown",
   "metadata": {},
   "source": [
    "Now we place the sensor into the simulation:\n",
    "\n"
   ]
  },
  {
   "cell_type": "code",
   "execution_count": 40,
   "metadata": {
    "collapsed": false,
    "jupyter": {
     "outputs_hidden": false
    }
   },
   "outputs": [],
   "source": [
    "from stonesoup.platform import FixedPlatform\n",
    "platform = FixedPlatform(State(StateVector([0, 0, 0, 0])), position_mapping=[0, 2], # 40\n",
    "                         sensors=[sensor])"
   ]
  },
  {
   "cell_type": "markdown",
   "metadata": {},
   "source": [
    "Now we run the sensor and create detections:\n",
    "\n"
   ]
  },
  {
   "cell_type": "code",
   "execution_count": 41,
   "metadata": {
    "collapsed": false,
    "jupyter": {
     "outputs_hidden": false
    }
   },
   "outputs": [],
   "source": [
    "from itertools import tee\n",
    "from stonesoup.simulator.platform import PlatformDetectionSimulator\n",
    "\n",
    "detector = PlatformDetectionSimulator(ground_truth_gen, platforms=[platform])\n",
    "detector, *detectors = tee(detector, 6)\n",
    "# Enables multiple trackers to run on the same detections"
   ]
  },
  {
   "cell_type": "markdown",
   "metadata": {},
   "source": [
    "We put the detections and ground truths into sets so that we can plot them:\n",
    "\n"
   ]
  },
  {
   "cell_type": "code",
   "execution_count": 42,
   "metadata": {
    "collapsed": false,
    "jupyter": {
     "outputs_hidden": false
    }
   },
   "outputs": [],
   "source": [
    "detections = set()\n",
    "ground_truth = set()\n",
    "\n",
    "for time, dets in detector:\n",
    "    detections |= dets\n",
    "    ground_truth |= ground_truth_gen.groundtruth_paths"
   ]
  },
  {
   "cell_type": "markdown",
   "metadata": {},
   "source": [
    "And now we plot the ground truth and detections:\n",
    "\n"
   ]
  },
  {
   "cell_type": "code",
   "execution_count": 43,
   "metadata": {
    "collapsed": false,
    "jupyter": {
     "outputs_hidden": false
    }
   },
   "outputs": [
    {
     "data": {
      "application/vnd.plotly.v1+json": {
       "config": {
        "plotlyServerURL": "https://plot.ly"
       },
       "data": [
        {
         "legendgroup": "Ground Truth",
         "legendrank": 100,
         "line": {
          "dash": "dash"
         },
         "mode": "lines",
         "name": "Ground Truth",
         "showlegend": true,
         "text": [
          "GroundTruthState<br>[[-6.07545779]\n [ 1.48826829]\n [34.45923919]\n [ 1.51259057]]<br>2024-03-10 00:54:59.405794<br>index: 0",
          "GroundTruthState<br>[[-4.50698663]\n [ 1.64447391]\n [36.08742888]\n [ 1.59253279]]<br>2024-03-10 00:55:00.405794<br>index: 0",
          "GroundTruthState<br>[[-2.83689718]\n [ 1.66300898]\n [37.62212417]\n [ 1.59830827]]<br>2024-03-10 00:55:01.405794<br>index: 0",
          "GroundTruthState<br>[[-1.26057902]\n [ 1.53237055]\n [39.22622618]\n [ 1.52667044]]<br>2024-03-10 00:55:02.405794<br>index: 0",
          "GroundTruthState<br>[[ 0.32916317]\n [ 1.57019834]\n [40.80097993]\n [ 1.58579426]]<br>2024-03-10 00:55:03.405794<br>index: 0",
          "GroundTruthState<br>[[ 1.88501759]\n [ 1.53078305]\n [42.26872646]\n [ 1.48451762]]<br>2024-03-10 00:55:04.405794<br>index: 0",
          "GroundTruthState<br>[[ 3.39060067]\n [ 1.48443336]\n [43.83864665]\n [ 1.59241079]]<br>2024-03-10 00:55:05.405794<br>index: 0",
          "GroundTruthState<br>[[ 4.86253452]\n [ 1.47626276]\n [45.54459497]\n [ 1.66030742]]<br>2024-03-10 00:55:06.405794<br>index: 0",
          "GroundTruthState<br>[[ 6.33207338]\n [ 1.3943761 ]\n [47.28214746]\n [ 1.66087961]]<br>2024-03-10 00:55:07.405794<br>index: 0",
          "GroundTruthState<br>[[ 7.72032083]\n [ 1.55462522]\n [49.13474826]\n [ 1.79492795]]<br>2024-03-10 00:55:08.405794<br>index: 0",
          "GroundTruthState<br>[[ 9.18010928]\n [ 1.34354948]\n [50.88760719]\n [ 1.73136541]]<br>2024-03-10 00:55:09.405794<br>index: 0",
          "GroundTruthState<br>[[10.43069704]\n [ 1.30019154]\n [52.55178193]\n [ 1.64771245]]<br>2024-03-10 00:55:10.405794<br>index: 0",
          "GroundTruthState<br>[[11.78337083]\n [ 1.35441326]\n [54.24696203]\n [ 1.70933302]]<br>2024-03-10 00:55:11.405794<br>index: 0",
          "GroundTruthState<br>[[13.19867429]\n [ 1.35459995]\n [56.02253401]\n [ 1.86730143]]<br>2024-03-10 00:55:12.405794<br>index: 0",
          "GroundTruthState<br>[[14.56897751]\n [ 1.55422497]\n [57.99389741]\n [ 2.10254488]]<br>2024-03-10 00:55:13.405794<br>index: 0",
          "GroundTruthState<br>[[16.21263051]\n [ 1.67487586]\n [59.96641388]\n [ 1.93311487]]<br>2024-03-10 00:55:14.405794<br>index: 0",
          "GroundTruthState<br>[[17.93882327]\n [ 1.88615148]\n [61.78060896]\n [ 1.79905366]]<br>2024-03-10 00:55:15.405794<br>index: 0",
          "GroundTruthState<br>[[19.7278799 ]\n [ 1.7835685 ]\n [63.6157388 ]\n [ 1.96678378]]<br>2024-03-10 00:55:16.405794<br>index: 0",
          "GroundTruthState<br>[[21.60196693]\n [ 1.99034109]\n [65.64221891]\n [ 2.0391269 ]]<br>2024-03-10 00:55:17.405794<br>index: 0",
          "GroundTruthState<br>[[23.55107368]\n [ 1.84123259]\n [67.66992513]\n [ 1.96505288]]<br>2024-03-10 00:55:18.405794<br>index: 0",
          "GroundTruthState<br>[[25.48731444]\n [ 2.00509755]\n [69.71568713]\n [ 2.05509294]]<br>2024-03-10 00:55:19.405794<br>index: 0",
          "GroundTruthState<br>[[27.45778574]\n [ 1.97431095]\n [71.73990806]\n [ 2.05158193]]<br>2024-03-10 00:55:20.405794<br>index: 0",
          "GroundTruthState<br>[[29.37622266]\n [ 1.9153917 ]\n [73.8303664 ]\n [ 2.26927067]]<br>2024-03-10 00:55:21.405794<br>index: 0",
          "GroundTruthState<br>[[31.275566  ]\n [ 1.97316839]\n [76.17293355]\n [ 2.32194663]]<br>2024-03-10 00:55:22.405794<br>index: 0",
          "GroundTruthState<br>[[33.4279665 ]\n [ 2.18964482]\n [78.45741943]\n [ 2.23401351]]<br>2024-03-10 00:55:23.405794<br>index: 0",
          "GroundTruthState<br>[[35.63939577]\n [ 2.21423256]\n [80.6807713 ]\n [ 2.23223482]]<br>2024-03-10 00:55:24.405794<br>index: 0",
          "GroundTruthState<br>[[38.0659027 ]\n [ 2.51686202]\n [82.86322446]\n [ 2.24572837]]<br>2024-03-10 00:55:25.405794<br>index: 0",
          "GroundTruthState<br>[[40.72465935]\n [ 2.63266849]\n [85.1598949 ]\n [ 2.31357818]]<br>2024-03-10 00:55:26.405794<br>index: 0",
          "GroundTruthState<br>[[43.40785369]\n [ 2.64723734]\n [87.32479158]\n [ 2.14783202]]<br>2024-03-10 00:55:27.405794<br>index: 0",
          "GroundTruthState<br>[[46.14860528]\n [ 2.82168067]\n [89.42459182]\n [ 1.9511331 ]]<br>2024-03-10 00:55:28.405794<br>index: 0",
          "GroundTruthState<br>[[48.96631804]\n [ 2.85134856]\n [91.45561827]\n [ 2.0841434 ]]<br>2024-03-10 00:55:29.405794<br>index: 0",
          "GroundTruthState<br>[[51.83448056]\n [ 2.84501813]\n [93.54743047]\n [ 2.1974087 ]]<br>2024-03-10 00:55:30.405794<br>index: 0",
          "GroundTruthState<br>[[54.93573147]\n [ 3.30596539]\n [95.73985124]\n [ 2.19474482]]<br>2024-03-10 00:55:31.405794<br>index: 0",
          "GroundTruthState<br>[[58.23477946]\n [ 3.28049864]\n [97.92209121]\n [ 2.20782869]]<br>2024-03-10 00:55:32.405794<br>index: 0",
          "GroundTruthState<br>[[61.74112102]\n [ 3.58283989]\n [99.98782594]\n [ 1.9906089 ]]<br>2024-03-10 00:55:33.405794<br>index: 0",
          "GroundTruthState<br>[[ 65.28605468]\n [  3.52830575]\n [102.05102907]\n [  2.08706834]]<br>2024-03-10 00:55:34.405794<br>index: 0",
          "GroundTruthState<br>[[ 68.77282285]\n [  3.51747969]\n [104.1320861 ]\n [  2.01734972]]<br>2024-03-10 00:55:35.405794<br>index: 0",
          "GroundTruthState<br>[[ 72.27382398]\n [  3.50264946]\n [106.22506292]\n [  2.06658518]]<br>2024-03-10 00:55:36.405794<br>index: 0",
          "GroundTruthState<br>[[ 75.73499004]\n [  3.19240117]\n [108.33098997]\n [  2.02954791]]<br>2024-03-10 00:55:37.405794<br>index: 0",
          "GroundTruthState<br>[[ 78.73406822]\n [  2.89008448]\n [110.22640525]\n [  1.8992766 ]]<br>2024-03-10 00:55:38.405794<br>index: 0",
          "GroundTruthState<br>[[ 81.63176964]\n [  2.98616522]\n [112.20326298]\n [  2.03434892]]<br>2024-03-10 00:55:39.405794<br>index: 0",
          "GroundTruthState<br>[[ 84.57096627]\n [  2.94700279]\n [114.22076005]\n [  2.0441866 ]]<br>2024-03-10 00:55:40.405794<br>index: 0",
          "GroundTruthState<br>[[ 87.62585935]\n [  3.1666455 ]\n [116.23578441]\n [  2.08935822]]<br>2024-03-10 00:55:41.405794<br>index: 0",
          "GroundTruthState<br>[[ 90.70249823]\n [  2.93347279]\n [118.43502031]\n [  2.29632199]]<br>2024-03-10 00:55:42.405794<br>index: 0",
          "GroundTruthState<br>[[ 93.60484898]\n [  3.03917894]\n [120.56898463]\n [  2.01708724]]<br>2024-03-10 00:55:43.405794<br>index: 0",
          "GroundTruthState<br>[[ 96.62168122]\n [  3.07211994]\n [122.70753157]\n [  2.25468629]]<br>2024-03-10 00:55:44.405794<br>index: 0",
          "GroundTruthState<br>[[ 99.67999514]\n [  3.06576096]\n [125.02557567]\n [  2.29132511]]<br>2024-03-10 00:55:45.405794<br>index: 0",
          "GroundTruthState<br>[[102.69185672]\n [  2.99636998]\n [127.26604235]\n [  2.15379625]]<br>2024-03-10 00:55:46.405794<br>index: 0",
          "GroundTruthState<br>[[105.66071771]\n [  2.87782762]\n [129.32545847]\n [  1.88472287]]<br>2024-03-10 00:55:47.405794<br>index: 0",
          "GroundTruthState<br>[[108.42525158]\n [  2.71673328]\n [131.07183735]\n [  1.73931256]]<br>2024-03-10 00:55:48.405794<br>index: 0"
         ],
         "type": "scatter",
         "x": [
          -6.075457790076113,
          -4.5069866325228025,
          -2.8368971777765153,
          -1.260579016917018,
          0.32916317468802686,
          1.8850175881666327,
          3.390600670235095,
          4.862534516806671,
          6.33207337700526,
          7.720320831063729,
          9.180109284508584,
          10.430697040676709,
          11.783370825499194,
          13.19867429366351,
          14.568977509227834,
          16.212630506675772,
          17.938823265944407,
          19.72787990451282,
          21.601966930814065,
          23.55107368385035,
          25.487314440864875,
          27.45778574469905,
          29.376222663597698,
          31.27556600256788,
          33.42796649934722,
          35.63939577268038,
          38.0659027008848,
          40.72465935372254,
          43.407853691383856,
          46.14860528323501,
          48.96631804230176,
          51.834480556595196,
          54.93573146650488,
          58.23477945784279,
          61.74112102467972,
          65.28605468126847,
          68.77282284510534,
          72.27382397840651,
          75.73499004482484,
          78.73406821622132,
          81.63176964006782,
          84.5709662733044,
          87.62585934665383,
          90.70249823372696,
          93.60484898461463,
          96.62168122441348,
          99.67999513853566,
          102.691856717158,
          105.66071770505144,
          108.42525157591389
         ],
         "y": [
          34.45923919058518,
          36.08742887974784,
          37.62212417124505,
          39.22622617668711,
          40.80097992986602,
          42.26872645653423,
          43.83864664710129,
          45.54459497228568,
          47.28214746008438,
          49.134748260396904,
          50.887607187031385,
          52.55178193206889,
          54.24696203394817,
          56.0225340072381,
          57.993897411375826,
          59.96641387630622,
          61.780608959233476,
          63.615738801921154,
          65.64221891337397,
          67.66992512664646,
          69.71568712981919,
          71.73990806092543,
          73.8303664008879,
          76.17293355025868,
          78.45741943132164,
          80.68077129650769,
          82.86322446472663,
          85.15989490014306,
          87.32479158176454,
          89.42459182469118,
          91.45561826820382,
          93.54743046814787,
          95.73985124046256,
          97.92209121158098,
          99.987825936673,
          102.05102907248516,
          104.13208609841014,
          106.22506291596268,
          108.3309899666616,
          110.22640525438217,
          112.20326298029705,
          114.22076005350117,
          116.2357844059981,
          118.4350203081805,
          120.56898463223727,
          122.70753157192532,
          125.02557566577242,
          127.26604235151149,
          129.32545846675555,
          131.07183735461345
         ]
        },
        {
         "legendgroup": "Measurements<br>(Detections)",
         "legendrank": 200,
         "marker": {
          "color": "#636EFA"
         },
         "mode": "markers",
         "name": "Measurements<br>(Detections)",
         "showlegend": true,
         "text": [
          "TrueDetection<br>[[Bearing(1.3085541120997348)]\n [71.59413551472592]]<br>2024-03-10 00:55:18.405794",
          "TrueDetection<br>[[Bearing(1.2914011779993455)]\n [66.89413795778725]]<br>2024-03-10 00:55:16.405794",
          "TrueDetection<br>[[Bearing(0.9788436312162361)]\n [110.3921516019565]]<br>2024-03-10 00:55:31.405794",
          "TrueDetection<br>[[Bearing(1.3300803338325569)]\n [55.64817142424719]]<br>2024-03-10 00:55:11.405794",
          "TrueDetection<br>[[Bearing(1.7849031808950375)]\n [36.39587205022138]]<br>2024-03-10 00:55:00.405794",
          "TrueDetection<br>[[Bearing(1.5063101187770362)]\n [40.43058989015857]]<br>2024-03-10 00:55:03.405794",
          "TrueDetection<br>[[Bearing(1.1190040720255965)]\n [103.91503700005029]]<br>2024-03-10 00:55:29.405794",
          "TrueDetection<br>[[Bearing(0.8529574205815096)]\n [152.56169254859014]]<br>2024-03-10 00:55:43.405794",
          "TrueDetection<br>[[Bearing(1.3340614045527488)]\n [58.080496213496275]]<br>2024-03-10 00:55:12.405794",
          "TrueDetection<br>[[Bearing(1.6779598276569647)]\n [38.23186124045029]]<br>2024-03-10 00:55:01.405794",
          "TrueDetection<br>[[Bearing(1.6055131987946254)]\n [44.4941601887107]]<br>2024-03-10 00:55:05.405794",
          "TrueDetection<br>[[Bearing(0.9787194265785146)]\n [117.0446201959726]]<br>2024-03-10 00:55:33.405794",
          "TrueDetection<br>[[Bearing(1.2341935169678084)]\n [59.86958402784109]]<br>2024-03-10 00:55:13.405794",
          "TrueDetection<br>[[Bearing(0.9064695213332454)]\n [135.49858237982417]]<br>2024-03-10 00:55:38.405794",
          "TrueDetection<br>[[Bearing(1.3284873287604952)]\n [51.978853183328916]]<br>2024-03-10 00:55:09.405794",
          "TrueDetection<br>[[Bearing(1.193742240711262)]\n [91.63056259713134]]<br>2024-03-10 00:55:25.405794",
          "TrueDetection<br>[[Bearing(1.32030748001897)]\n [62.280139745028244]]<br>2024-03-10 00:55:14.405794",
          "TrueDetection<br>[[Bearing(1.0020061315395354)]\n [128.59863903994184]]<br>2024-03-10 00:55:36.405794",
          "TrueDetection<br>[[Bearing(0.7943706478611694)]\n [149.08234810211644]]<br>2024-03-10 00:55:42.405794",
          "TrueDetection<br>[[Bearing(0.9491756436986627)]\n [120.96586389033054]]<br>2024-03-10 00:55:34.405794",
          "TrueDetection<br>[[Bearing(0.8708120366392276)]\n [138.67732587044748]]<br>2024-03-10 00:55:39.405794",
          "TrueDetection<br>[[Bearing(1.55346347228312)]\n [39.89786627963626]]<br>2024-03-10 00:55:02.405794",
          "TrueDetection<br>[[Bearing(0.8425892793174143)]\n [166.96272957706225]]<br>2024-03-10 00:55:47.405794",
          "TrueDetection<br>[[Bearing(1.4169991410969285)]\n [53.96386429771457]]<br>2024-03-10 00:55:10.405794",
          "TrueDetection<br>[[Bearing(1.1032856930120705)]\n [97.411417305145]]<br>2024-03-10 00:55:27.405794",
          "TrueDetection<br>[[Bearing(1.6599803006777734)]\n [34.27601977129833]]<br>2024-03-10 00:54:59.405794",
          "TrueDetection<br>[[Bearing(1.1334855584570924)]\n [88.2986245969877]]<br>2024-03-10 00:55:24.405794",
          "TrueDetection<br>[[Bearing(1.2050637607990176)]\n [85.0730052976553]]<br>2024-03-10 00:55:23.405794",
          "TrueDetection<br>[[Bearing(1.1555442516690784)]\n [79.30118974637956]]<br>2024-03-10 00:55:21.405794",
          "TrueDetection<br>[[Bearing(0.830070286694899)]\n [164.06691977116384]]<br>2024-03-10 00:55:46.405794",
          "TrueDetection<br>[[Bearing(1.412007742170637)]\n [47.244459513703205]]<br>2024-03-10 00:55:07.405794",
          "TrueDetection<br>[[Bearing(1.0134297423484275)]\n [141.67078910582046]]<br>2024-03-10 00:55:40.405794",
          "TrueDetection<br>[[Bearing(1.2846517992175066)]\n [69.25736621670139]]<br>2024-03-10 00:55:17.405794",
          "TrueDetection<br>[[Bearing(0.8415964813814649)]\n [170.13357255852324]]<br>2024-03-10 00:55:48.405794",
          "TrueDetection<br>[[Bearing(1.014075349101546)]\n [124.64957023684998]]<br>2024-03-10 00:55:35.405794",
          "TrueDetection<br>[[Bearing(0.9405149980879957)]\n [132.51814082353565]]<br>2024-03-10 00:55:37.405794",
          "TrueDetection<br>[[Bearing(0.8576811447697144)]\n [160.0619188460738]]<br>2024-03-10 00:55:45.405794",
          "TrueDetection<br>[[Bearing(1.3526200958156416)]\n [49.32173513221956]]<br>2024-03-10 00:55:08.405794",
          "TrueDetection<br>[[Bearing(1.2743735129528115)]\n [77.15249030371781]]<br>2024-03-10 00:55:20.405794",
          "TrueDetection<br>[[Bearing(0.960212554823527)]\n [100.31929053169966]]<br>2024-03-10 00:55:28.405794",
          "TrueDetection<br>[[Bearing(0.8670763941876434)]\n [155.5641896283944]]<br>2024-03-10 00:55:44.405794",
          "TrueDetection<br>[[Bearing(1.4302273003781014)]\n [45.36959030255932]]<br>2024-03-10 00:55:06.405794",
          "TrueDetection<br>[[Bearing(1.2180151957245942)]\n [82.43520498234422]]<br>2024-03-10 00:55:22.405794",
          "TrueDetection<br>[[Bearing(1.3514867579362093)]\n [64.20605076806865]]<br>2024-03-10 00:55:15.405794",
          "TrueDetection<br>[[Bearing(1.4795856672272478)]\n [42.56178593801173]]<br>2024-03-10 00:55:04.405794",
          "TrueDetection<br>[[Bearing(0.9661152667451312)]\n [146.3566401143514]]<br>2024-03-10 00:55:41.405794",
          "TrueDetection<br>[[Bearing(1.0096331726141763)]\n [114.23374000344322]]<br>2024-03-10 00:55:32.405794",
          "TrueDetection<br>[[Bearing(1.0289904702880275)]\n [106.96127879362928]]<br>2024-03-10 00:55:30.405794",
          "TrueDetection<br>[[Bearing(1.1879328220999463)]\n [74.35101556548392]]<br>2024-03-10 00:55:19.405794",
          "TrueDetection<br>[[Bearing(1.0742500323004514)]\n [94.56484389986679]]<br>2024-03-10 00:55:26.405794"
         ],
         "type": "scatter",
         "x": [
          18.560547498756225,
          18.44768423721559,
          61.5968926351818,
          13.266414807537997,
          -7.733204210213209,
          2.605408800653244,
          45.36708815475158,
          100.34873643604887,
          13.62161128481102,
          -4.089222812636369,
          -1.5443877885982173,
          65.32091739468727,
          19.773873315101113,
          83.53883867469874,
          12.47205596047859,
          33.736824389971304,
          15.437850283941504,
          69.26491397961657,
          104.46705504457434,
          70.44488646794612,
          89.33671984896442,
          0.6915092855674829,
          111.11912307429287,
          8.266810363307352,
          43.8999596733179,
          -3.052820981956969,
          37.394894969616104,
          30.424957145464383,
          31.991733202055723,
          110.71627729053833,
          7.470395404969759,
          74.93721495720126,
          19.54828126573274,
          113.35543417960051,
          65.8654784533134,
          78.10248910905086,
          104.71139322585428,
          10.675662422768838,
          22.53631237263807,
          57.51764890117838,
          100.6591132679697,
          6.356576821322222,
          28.482104959831258,
          13.968397528129586,
          3.876708041880184,
          83.20370871399442,
          60.79192097096103,
          55.15822557900075,
          27.775917121696093,
          45.0499137050457
         ],
         "y": [
          69.14641217480018,
          64.30014494073447,
          91.60922416983583,
          54.04369732926068,
          35.5648289035562,
          40.34655429956406,
          93.4888347722915,
          114.91388571003482,
          56.46056806667344,
          38.01254359678736,
          44.46734933922953,
          97.12168072853721,
          56.509831231256186,
          106.68237089521705,
          50.46037057308193,
          85.19381833177242,
          60.33646149113199,
          108.35119590628233,
          106.35873695166983,
          98.3374709724231,
          106.06767272456733,
          39.891873214675066,
          124.61578373152966,
          53.326902182287576,
          86.95848297939749,
          34.13979811619508,
          79.98918011788308,
          79.44644871277471,
          72.56175095682147,
          121.07790924079478,
          46.65010340004991,
          120.22905763717883,
          66.44130849727519,
          126.86992572505332,
          105.82652837709222,
          107.05633490035522,
          121.05924992906422,
          48.152505524509344,
          73.78767772947019,
          82.19294445184659,
          118.60843144922326,
          44.92208427195597,
          77.3584689451534,
          62.668180328839554,
          42.3848647159709,
          120.40518660671782,
          96.71447513084426,
          91.64215903253564,
          68.96790517093804,
          83.1445426770399
         ]
        },
        {
         "legendgroup": "Sensors",
         "legendrank": 50,
         "marker": {
          "color": "black",
          "symbol": "x"
         },
         "mode": "markers",
         "name": "Sensors",
         "showlegend": true,
         "type": "scatter",
         "x": [
          0
         ],
         "y": [
          0
         ]
        }
       ],
       "layout": {
        "autosize": true,
        "colorway": [
         "#636EFA",
         "#EF553B",
         "#00CC96",
         "#AB63FA",
         "#FFA15A",
         "#19D3F3",
         "#FF6692",
         "#B6E880",
         "#FF97FF",
         "#FECB52"
        ],
        "template": {
         "data": {
          "bar": [
           {
            "error_x": {
             "color": "#2a3f5f"
            },
            "error_y": {
             "color": "#2a3f5f"
            },
            "marker": {
             "line": {
              "color": "#E5ECF6",
              "width": 0.5
             },
             "pattern": {
              "fillmode": "overlay",
              "size": 10,
              "solidity": 0.2
             }
            },
            "type": "bar"
           }
          ],
          "barpolar": [
           {
            "marker": {
             "line": {
              "color": "#E5ECF6",
              "width": 0.5
             },
             "pattern": {
              "fillmode": "overlay",
              "size": 10,
              "solidity": 0.2
             }
            },
            "type": "barpolar"
           }
          ],
          "carpet": [
           {
            "aaxis": {
             "endlinecolor": "#2a3f5f",
             "gridcolor": "white",
             "linecolor": "white",
             "minorgridcolor": "white",
             "startlinecolor": "#2a3f5f"
            },
            "baxis": {
             "endlinecolor": "#2a3f5f",
             "gridcolor": "white",
             "linecolor": "white",
             "minorgridcolor": "white",
             "startlinecolor": "#2a3f5f"
            },
            "type": "carpet"
           }
          ],
          "choropleth": [
           {
            "colorbar": {
             "outlinewidth": 0,
             "ticks": ""
            },
            "type": "choropleth"
           }
          ],
          "contour": [
           {
            "colorbar": {
             "outlinewidth": 0,
             "ticks": ""
            },
            "colorscale": [
             [
              0,
              "#0d0887"
             ],
             [
              0.1111111111111111,
              "#46039f"
             ],
             [
              0.2222222222222222,
              "#7201a8"
             ],
             [
              0.3333333333333333,
              "#9c179e"
             ],
             [
              0.4444444444444444,
              "#bd3786"
             ],
             [
              0.5555555555555556,
              "#d8576b"
             ],
             [
              0.6666666666666666,
              "#ed7953"
             ],
             [
              0.7777777777777778,
              "#fb9f3a"
             ],
             [
              0.8888888888888888,
              "#fdca26"
             ],
             [
              1,
              "#f0f921"
             ]
            ],
            "type": "contour"
           }
          ],
          "contourcarpet": [
           {
            "colorbar": {
             "outlinewidth": 0,
             "ticks": ""
            },
            "type": "contourcarpet"
           }
          ],
          "heatmap": [
           {
            "colorbar": {
             "outlinewidth": 0,
             "ticks": ""
            },
            "colorscale": [
             [
              0,
              "#0d0887"
             ],
             [
              0.1111111111111111,
              "#46039f"
             ],
             [
              0.2222222222222222,
              "#7201a8"
             ],
             [
              0.3333333333333333,
              "#9c179e"
             ],
             [
              0.4444444444444444,
              "#bd3786"
             ],
             [
              0.5555555555555556,
              "#d8576b"
             ],
             [
              0.6666666666666666,
              "#ed7953"
             ],
             [
              0.7777777777777778,
              "#fb9f3a"
             ],
             [
              0.8888888888888888,
              "#fdca26"
             ],
             [
              1,
              "#f0f921"
             ]
            ],
            "type": "heatmap"
           }
          ],
          "heatmapgl": [
           {
            "colorbar": {
             "outlinewidth": 0,
             "ticks": ""
            },
            "colorscale": [
             [
              0,
              "#0d0887"
             ],
             [
              0.1111111111111111,
              "#46039f"
             ],
             [
              0.2222222222222222,
              "#7201a8"
             ],
             [
              0.3333333333333333,
              "#9c179e"
             ],
             [
              0.4444444444444444,
              "#bd3786"
             ],
             [
              0.5555555555555556,
              "#d8576b"
             ],
             [
              0.6666666666666666,
              "#ed7953"
             ],
             [
              0.7777777777777778,
              "#fb9f3a"
             ],
             [
              0.8888888888888888,
              "#fdca26"
             ],
             [
              1,
              "#f0f921"
             ]
            ],
            "type": "heatmapgl"
           }
          ],
          "histogram": [
           {
            "marker": {
             "pattern": {
              "fillmode": "overlay",
              "size": 10,
              "solidity": 0.2
             }
            },
            "type": "histogram"
           }
          ],
          "histogram2d": [
           {
            "colorbar": {
             "outlinewidth": 0,
             "ticks": ""
            },
            "colorscale": [
             [
              0,
              "#0d0887"
             ],
             [
              0.1111111111111111,
              "#46039f"
             ],
             [
              0.2222222222222222,
              "#7201a8"
             ],
             [
              0.3333333333333333,
              "#9c179e"
             ],
             [
              0.4444444444444444,
              "#bd3786"
             ],
             [
              0.5555555555555556,
              "#d8576b"
             ],
             [
              0.6666666666666666,
              "#ed7953"
             ],
             [
              0.7777777777777778,
              "#fb9f3a"
             ],
             [
              0.8888888888888888,
              "#fdca26"
             ],
             [
              1,
              "#f0f921"
             ]
            ],
            "type": "histogram2d"
           }
          ],
          "histogram2dcontour": [
           {
            "colorbar": {
             "outlinewidth": 0,
             "ticks": ""
            },
            "colorscale": [
             [
              0,
              "#0d0887"
             ],
             [
              0.1111111111111111,
              "#46039f"
             ],
             [
              0.2222222222222222,
              "#7201a8"
             ],
             [
              0.3333333333333333,
              "#9c179e"
             ],
             [
              0.4444444444444444,
              "#bd3786"
             ],
             [
              0.5555555555555556,
              "#d8576b"
             ],
             [
              0.6666666666666666,
              "#ed7953"
             ],
             [
              0.7777777777777778,
              "#fb9f3a"
             ],
             [
              0.8888888888888888,
              "#fdca26"
             ],
             [
              1,
              "#f0f921"
             ]
            ],
            "type": "histogram2dcontour"
           }
          ],
          "mesh3d": [
           {
            "colorbar": {
             "outlinewidth": 0,
             "ticks": ""
            },
            "type": "mesh3d"
           }
          ],
          "parcoords": [
           {
            "line": {
             "colorbar": {
              "outlinewidth": 0,
              "ticks": ""
             }
            },
            "type": "parcoords"
           }
          ],
          "pie": [
           {
            "automargin": true,
            "type": "pie"
           }
          ],
          "scatter": [
           {
            "fillpattern": {
             "fillmode": "overlay",
             "size": 10,
             "solidity": 0.2
            },
            "type": "scatter"
           }
          ],
          "scatter3d": [
           {
            "line": {
             "colorbar": {
              "outlinewidth": 0,
              "ticks": ""
             }
            },
            "marker": {
             "colorbar": {
              "outlinewidth": 0,
              "ticks": ""
             }
            },
            "type": "scatter3d"
           }
          ],
          "scattercarpet": [
           {
            "marker": {
             "colorbar": {
              "outlinewidth": 0,
              "ticks": ""
             }
            },
            "type": "scattercarpet"
           }
          ],
          "scattergeo": [
           {
            "marker": {
             "colorbar": {
              "outlinewidth": 0,
              "ticks": ""
             }
            },
            "type": "scattergeo"
           }
          ],
          "scattergl": [
           {
            "marker": {
             "colorbar": {
              "outlinewidth": 0,
              "ticks": ""
             }
            },
            "type": "scattergl"
           }
          ],
          "scattermapbox": [
           {
            "marker": {
             "colorbar": {
              "outlinewidth": 0,
              "ticks": ""
             }
            },
            "type": "scattermapbox"
           }
          ],
          "scatterpolar": [
           {
            "marker": {
             "colorbar": {
              "outlinewidth": 0,
              "ticks": ""
             }
            },
            "type": "scatterpolar"
           }
          ],
          "scatterpolargl": [
           {
            "marker": {
             "colorbar": {
              "outlinewidth": 0,
              "ticks": ""
             }
            },
            "type": "scatterpolargl"
           }
          ],
          "scatterternary": [
           {
            "marker": {
             "colorbar": {
              "outlinewidth": 0,
              "ticks": ""
             }
            },
            "type": "scatterternary"
           }
          ],
          "surface": [
           {
            "colorbar": {
             "outlinewidth": 0,
             "ticks": ""
            },
            "colorscale": [
             [
              0,
              "#0d0887"
             ],
             [
              0.1111111111111111,
              "#46039f"
             ],
             [
              0.2222222222222222,
              "#7201a8"
             ],
             [
              0.3333333333333333,
              "#9c179e"
             ],
             [
              0.4444444444444444,
              "#bd3786"
             ],
             [
              0.5555555555555556,
              "#d8576b"
             ],
             [
              0.6666666666666666,
              "#ed7953"
             ],
             [
              0.7777777777777778,
              "#fb9f3a"
             ],
             [
              0.8888888888888888,
              "#fdca26"
             ],
             [
              1,
              "#f0f921"
             ]
            ],
            "type": "surface"
           }
          ],
          "table": [
           {
            "cells": {
             "fill": {
              "color": "#EBF0F8"
             },
             "line": {
              "color": "white"
             }
            },
            "header": {
             "fill": {
              "color": "#C8D4E3"
             },
             "line": {
              "color": "white"
             }
            },
            "type": "table"
           }
          ]
         },
         "layout": {
          "annotationdefaults": {
           "arrowcolor": "#2a3f5f",
           "arrowhead": 0,
           "arrowwidth": 1
          },
          "autotypenumbers": "strict",
          "coloraxis": {
           "colorbar": {
            "outlinewidth": 0,
            "ticks": ""
           }
          },
          "colorscale": {
           "diverging": [
            [
             0,
             "#8e0152"
            ],
            [
             0.1,
             "#c51b7d"
            ],
            [
             0.2,
             "#de77ae"
            ],
            [
             0.3,
             "#f1b6da"
            ],
            [
             0.4,
             "#fde0ef"
            ],
            [
             0.5,
             "#f7f7f7"
            ],
            [
             0.6,
             "#e6f5d0"
            ],
            [
             0.7,
             "#b8e186"
            ],
            [
             0.8,
             "#7fbc41"
            ],
            [
             0.9,
             "#4d9221"
            ],
            [
             1,
             "#276419"
            ]
           ],
           "sequential": [
            [
             0,
             "#0d0887"
            ],
            [
             0.1111111111111111,
             "#46039f"
            ],
            [
             0.2222222222222222,
             "#7201a8"
            ],
            [
             0.3333333333333333,
             "#9c179e"
            ],
            [
             0.4444444444444444,
             "#bd3786"
            ],
            [
             0.5555555555555556,
             "#d8576b"
            ],
            [
             0.6666666666666666,
             "#ed7953"
            ],
            [
             0.7777777777777778,
             "#fb9f3a"
            ],
            [
             0.8888888888888888,
             "#fdca26"
            ],
            [
             1,
             "#f0f921"
            ]
           ],
           "sequentialminus": [
            [
             0,
             "#0d0887"
            ],
            [
             0.1111111111111111,
             "#46039f"
            ],
            [
             0.2222222222222222,
             "#7201a8"
            ],
            [
             0.3333333333333333,
             "#9c179e"
            ],
            [
             0.4444444444444444,
             "#bd3786"
            ],
            [
             0.5555555555555556,
             "#d8576b"
            ],
            [
             0.6666666666666666,
             "#ed7953"
            ],
            [
             0.7777777777777778,
             "#fb9f3a"
            ],
            [
             0.8888888888888888,
             "#fdca26"
            ],
            [
             1,
             "#f0f921"
            ]
           ]
          },
          "colorway": [
           "#636efa",
           "#EF553B",
           "#00cc96",
           "#ab63fa",
           "#FFA15A",
           "#19d3f3",
           "#FF6692",
           "#B6E880",
           "#FF97FF",
           "#FECB52"
          ],
          "font": {
           "color": "#2a3f5f"
          },
          "geo": {
           "bgcolor": "white",
           "lakecolor": "white",
           "landcolor": "#E5ECF6",
           "showlakes": true,
           "showland": true,
           "subunitcolor": "white"
          },
          "hoverlabel": {
           "align": "left"
          },
          "hovermode": "closest",
          "mapbox": {
           "style": "light"
          },
          "paper_bgcolor": "white",
          "plot_bgcolor": "#E5ECF6",
          "polar": {
           "angularaxis": {
            "gridcolor": "white",
            "linecolor": "white",
            "ticks": ""
           },
           "bgcolor": "#E5ECF6",
           "radialaxis": {
            "gridcolor": "white",
            "linecolor": "white",
            "ticks": ""
           }
          },
          "scene": {
           "xaxis": {
            "backgroundcolor": "#E5ECF6",
            "gridcolor": "white",
            "gridwidth": 2,
            "linecolor": "white",
            "showbackground": true,
            "ticks": "",
            "zerolinecolor": "white"
           },
           "yaxis": {
            "backgroundcolor": "#E5ECF6",
            "gridcolor": "white",
            "gridwidth": 2,
            "linecolor": "white",
            "showbackground": true,
            "ticks": "",
            "zerolinecolor": "white"
           },
           "zaxis": {
            "backgroundcolor": "#E5ECF6",
            "gridcolor": "white",
            "gridwidth": 2,
            "linecolor": "white",
            "showbackground": true,
            "ticks": "",
            "zerolinecolor": "white"
           }
          },
          "shapedefaults": {
           "line": {
            "color": "#2a3f5f"
           }
          },
          "ternary": {
           "aaxis": {
            "gridcolor": "white",
            "linecolor": "white",
            "ticks": ""
           },
           "baxis": {
            "gridcolor": "white",
            "linecolor": "white",
            "ticks": ""
           },
           "bgcolor": "#E5ECF6",
           "caxis": {
            "gridcolor": "white",
            "linecolor": "white",
            "ticks": ""
           }
          },
          "title": {
           "x": 0.05
          },
          "xaxis": {
           "automargin": true,
           "gridcolor": "white",
           "linecolor": "white",
           "ticks": "",
           "title": {
            "standoff": 15
           },
           "zerolinecolor": "white",
           "zerolinewidth": 2
          },
          "yaxis": {
           "automargin": true,
           "gridcolor": "white",
           "linecolor": "white",
           "ticks": "",
           "title": {
            "standoff": 15
           },
           "zerolinecolor": "white",
           "zerolinewidth": 2
          }
         }
        },
        "xaxis": {
         "autorange": true,
         "range": [
          -15.119358093186435,
          120.74158806257374
         ],
         "title": {
          "text": "x"
         },
         "type": "linear"
        },
        "yaxis": {
         "autorange": true,
         "range": [
          -10.560290213404876,
          138.52615985819335
         ],
         "title": {
          "text": "y"
         },
         "type": "linear"
        }
       }
      },
      "image/png": "[encoded data removed]",
      "text/html": [
       "<div>                            <div id=\"01dfb352-b22c-4773-bfe6-ea8725110d86\" class=\"plotly-graph-div\" style=\"height:525px; width:100%;\"></div>            <script type=\"text/javascript\">                require([\"plotly\"], function(Plotly) {                    window.PLOTLYENV=window.PLOTLYENV || {};                                    if (document.getElementById(\"01dfb352-b22c-4773-bfe6-ea8725110d86\")) {                    Plotly.newPlot(                        \"01dfb352-b22c-4773-bfe6-ea8725110d86\",                        [{\"legendgroup\":\"Ground Truth\",\"legendrank\":100,\"line\":{\"dash\":\"dash\"},\"mode\":\"lines\",\"name\":\"Ground Truth\",\"showlegend\":true,\"text\":[\"GroundTruthState\\u003cbr\\u003e[[-6.07545779]\\n [ 1.48826829]\\n [34.45923919]\\n [ 1.51259057]]\\u003cbr\\u003e2024-03-10 00:54:59.405794\\u003cbr\\u003eindex: 0\",\"GroundTruthState\\u003cbr\\u003e[[-4.50698663]\\n [ 1.64447391]\\n [36.08742888]\\n [ 1.59253279]]\\u003cbr\\u003e2024-03-10 00:55:00.405794\\u003cbr\\u003eindex: 0\",\"GroundTruthState\\u003cbr\\u003e[[-2.83689718]\\n [ 1.66300898]\\n [37.62212417]\\n [ 1.59830827]]\\u003cbr\\u003e2024-03-10 00:55:01.405794\\u003cbr\\u003eindex: 0\",\"GroundTruthState\\u003cbr\\u003e[[-1.26057902]\\n [ 1.53237055]\\n [39.22622618]\\n [ 1.52667044]]\\u003cbr\\u003e2024-03-10 00:55:02.405794\\u003cbr\\u003eindex: 0\",\"GroundTruthState\\u003cbr\\u003e[[ 0.32916317]\\n [ 1.57019834]\\n [40.80097993]\\n [ 1.58579426]]\\u003cbr\\u003e2024-03-10 00:55:03.405794\\u003cbr\\u003eindex: 0\",\"GroundTruthState\\u003cbr\\u003e[[ 1.88501759]\\n [ 1.53078305]\\n [42.26872646]\\n [ 1.48451762]]\\u003cbr\\u003e2024-03-10 00:55:04.405794\\u003cbr\\u003eindex: 0\",\"GroundTruthState\\u003cbr\\u003e[[ 3.39060067]\\n [ 1.48443336]\\n [43.83864665]\\n [ 1.59241079]]\\u003cbr\\u003e2024-03-10 00:55:05.405794\\u003cbr\\u003eindex: 0\",\"GroundTruthState\\u003cbr\\u003e[[ 4.86253452]\\n [ 1.47626276]\\n [45.54459497]\\n [ 1.66030742]]\\u003cbr\\u003e2024-03-10 00:55:06.405794\\u003cbr\\u003eindex: 0\",\"GroundTruthState\\u003cbr\\u003e[[ 6.33207338]\\n [ 1.3943761 ]\\n [47.28214746]\\n [ 1.66087961]]\\u003cbr\\u003e2024-03-10 00:55:07.405794\\u003cbr\\u003eindex: 0\",\"GroundTruthState\\u003cbr\\u003e[[ 7.72032083]\\n [ 1.55462522]\\n [49.13474826]\\n [ 1.79492795]]\\u003cbr\\u003e2024-03-10 00:55:08.405794\\u003cbr\\u003eindex: 0\",\"GroundTruthState\\u003cbr\\u003e[[ 9.18010928]\\n [ 1.34354948]\\n [50.88760719]\\n [ 1.73136541]]\\u003cbr\\u003e2024-03-10 00:55:09.405794\\u003cbr\\u003eindex: 0\",\"GroundTruthState\\u003cbr\\u003e[[10.43069704]\\n [ 1.30019154]\\n [52.55178193]\\n [ 1.64771245]]\\u003cbr\\u003e2024-03-10 00:55:10.405794\\u003cbr\\u003eindex: 0\",\"GroundTruthState\\u003cbr\\u003e[[11.78337083]\\n [ 1.35441326]\\n [54.24696203]\\n [ 1.70933302]]\\u003cbr\\u003e2024-03-10 00:55:11.405794\\u003cbr\\u003eindex: 0\",\"GroundTruthState\\u003cbr\\u003e[[13.19867429]\\n [ 1.35459995]\\n [56.02253401]\\n [ 1.86730143]]\\u003cbr\\u003e2024-03-10 00:55:12.405794\\u003cbr\\u003eindex: 0\",\"GroundTruthState\\u003cbr\\u003e[[14.56897751]\\n [ 1.55422497]\\n [57.99389741]\\n [ 2.10254488]]\\u003cbr\\u003e2024-03-10 00:55:13.405794\\u003cbr\\u003eindex: 0\",\"GroundTruthState\\u003cbr\\u003e[[16.21263051]\\n [ 1.67487586]\\n [59.96641388]\\n [ 1.93311487]]\\u003cbr\\u003e2024-03-10 00:55:14.405794\\u003cbr\\u003eindex: 0\",\"GroundTruthState\\u003cbr\\u003e[[17.93882327]\\n [ 1.88615148]\\n [61.78060896]\\n [ 1.79905366]]\\u003cbr\\u003e2024-03-10 00:55:15.405794\\u003cbr\\u003eindex: 0\",\"GroundTruthState\\u003cbr\\u003e[[19.7278799 ]\\n [ 1.7835685 ]\\n [63.6157388 ]\\n [ 1.96678378]]\\u003cbr\\u003e2024-03-10 00:55:16.405794\\u003cbr\\u003eindex: 0\",\"GroundTruthState\\u003cbr\\u003e[[21.60196693]\\n [ 1.99034109]\\n [65.64221891]\\n [ 2.0391269 ]]\\u003cbr\\u003e2024-03-10 00:55:17.405794\\u003cbr\\u003eindex: 0\",\"GroundTruthState\\u003cbr\\u003e[[23.55107368]\\n [ 1.84123259]\\n [67.66992513]\\n [ 1.96505288]]\\u003cbr\\u003e2024-03-10 00:55:18.405794\\u003cbr\\u003eindex: 0\",\"GroundTruthState\\u003cbr\\u003e[[25.48731444]\\n [ 2.00509755]\\n [69.71568713]\\n [ 2.05509294]]\\u003cbr\\u003e2024-03-10 00:55:19.405794\\u003cbr\\u003eindex: 0\",\"GroundTruthState\\u003cbr\\u003e[[27.45778574]\\n [ 1.97431095]\\n [71.73990806]\\n [ 2.05158193]]\\u003cbr\\u003e2024-03-10 00:55:20.405794\\u003cbr\\u003eindex: 0\",\"GroundTruthState\\u003cbr\\u003e[[29.37622266]\\n [ 1.9153917 ]\\n [73.8303664 ]\\n [ 2.26927067]]\\u003cbr\\u003e2024-03-10 00:55:21.405794\\u003cbr\\u003eindex: 0\",\"GroundTruthState\\u003cbr\\u003e[[31.275566  ]\\n [ 1.97316839]\\n [76.17293355]\\n [ 2.32194663]]\\u003cbr\\u003e2024-03-10 00:55:22.405794\\u003cbr\\u003eindex: 0\",\"GroundTruthState\\u003cbr\\u003e[[33.4279665 ]\\n [ 2.18964482]\\n [78.45741943]\\n [ 2.23401351]]\\u003cbr\\u003e2024-03-10 00:55:23.405794\\u003cbr\\u003eindex: 0\",\"GroundTruthState\\u003cbr\\u003e[[35.63939577]\\n [ 2.21423256]\\n [80.6807713 ]\\n [ 2.23223482]]\\u003cbr\\u003e2024-03-10 00:55:24.405794\\u003cbr\\u003eindex: 0\",\"GroundTruthState\\u003cbr\\u003e[[38.0659027 ]\\n [ 2.51686202]\\n [82.86322446]\\n [ 2.24572837]]\\u003cbr\\u003e2024-03-10 00:55:25.405794\\u003cbr\\u003eindex: 0\",\"GroundTruthState\\u003cbr\\u003e[[40.72465935]\\n [ 2.63266849]\\n [85.1598949 ]\\n [ 2.31357818]]\\u003cbr\\u003e2024-03-10 00:55:26.405794\\u003cbr\\u003eindex: 0\",\"GroundTruthState\\u003cbr\\u003e[[43.40785369]\\n [ 2.64723734]\\n [87.32479158]\\n [ 2.14783202]]\\u003cbr\\u003e2024-03-10 00:55:27.405794\\u003cbr\\u003eindex: 0\",\"GroundTruthState\\u003cbr\\u003e[[46.14860528]\\n [ 2.82168067]\\n [89.42459182]\\n [ 1.9511331 ]]\\u003cbr\\u003e2024-03-10 00:55:28.405794\\u003cbr\\u003eindex: 0\",\"GroundTruthState\\u003cbr\\u003e[[48.96631804]\\n [ 2.85134856]\\n [91.45561827]\\n [ 2.0841434 ]]\\u003cbr\\u003e2024-03-10 00:55:29.405794\\u003cbr\\u003eindex: 0\",\"GroundTruthState\\u003cbr\\u003e[[51.83448056]\\n [ 2.84501813]\\n [93.54743047]\\n [ 2.1974087 ]]\\u003cbr\\u003e2024-03-10 00:55:30.405794\\u003cbr\\u003eindex: 0\",\"GroundTruthState\\u003cbr\\u003e[[54.93573147]\\n [ 3.30596539]\\n [95.73985124]\\n [ 2.19474482]]\\u003cbr\\u003e2024-03-10 00:55:31.405794\\u003cbr\\u003eindex: 0\",\"GroundTruthState\\u003cbr\\u003e[[58.23477946]\\n [ 3.28049864]\\n [97.92209121]\\n [ 2.20782869]]\\u003cbr\\u003e2024-03-10 00:55:32.405794\\u003cbr\\u003eindex: 0\",\"GroundTruthState\\u003cbr\\u003e[[61.74112102]\\n [ 3.58283989]\\n [99.98782594]\\n [ 1.9906089 ]]\\u003cbr\\u003e2024-03-10 00:55:33.405794\\u003cbr\\u003eindex: 0\",\"GroundTruthState\\u003cbr\\u003e[[ 65.28605468]\\n [  3.52830575]\\n [102.05102907]\\n [  2.08706834]]\\u003cbr\\u003e2024-03-10 00:55:34.405794\\u003cbr\\u003eindex: 0\",\"GroundTruthState\\u003cbr\\u003e[[ 68.77282285]\\n [  3.51747969]\\n [104.1320861 ]\\n [  2.01734972]]\\u003cbr\\u003e2024-03-10 00:55:35.405794\\u003cbr\\u003eindex: 0\",\"GroundTruthState\\u003cbr\\u003e[[ 72.27382398]\\n [  3.50264946]\\n [106.22506292]\\n [  2.06658518]]\\u003cbr\\u003e2024-03-10 00:55:36.405794\\u003cbr\\u003eindex: 0\",\"GroundTruthState\\u003cbr\\u003e[[ 75.73499004]\\n [  3.19240117]\\n [108.33098997]\\n [  2.02954791]]\\u003cbr\\u003e2024-03-10 00:55:37.405794\\u003cbr\\u003eindex: 0\",\"GroundTruthState\\u003cbr\\u003e[[ 78.73406822]\\n [  2.89008448]\\n [110.22640525]\\n [  1.8992766 ]]\\u003cbr\\u003e2024-03-10 00:55:38.405794\\u003cbr\\u003eindex: 0\",\"GroundTruthState\\u003cbr\\u003e[[ 81.63176964]\\n [  2.98616522]\\n [112.20326298]\\n [  2.03434892]]\\u003cbr\\u003e2024-03-10 00:55:39.405794\\u003cbr\\u003eindex: 0\",\"GroundTruthState\\u003cbr\\u003e[[ 84.57096627]\\n [  2.94700279]\\n [114.22076005]\\n [  2.0441866 ]]\\u003cbr\\u003e2024-03-10 00:55:40.405794\\u003cbr\\u003eindex: 0\",\"GroundTruthState\\u003cbr\\u003e[[ 87.62585935]\\n [  3.1666455 ]\\n [116.23578441]\\n [  2.08935822]]\\u003cbr\\u003e2024-03-10 00:55:41.405794\\u003cbr\\u003eindex: 0\",\"GroundTruthState\\u003cbr\\u003e[[ 90.70249823]\\n [  2.93347279]\\n [118.43502031]\\n [  2.29632199]]\\u003cbr\\u003e2024-03-10 00:55:42.405794\\u003cbr\\u003eindex: 0\",\"GroundTruthState\\u003cbr\\u003e[[ 93.60484898]\\n [  3.03917894]\\n [120.56898463]\\n [  2.01708724]]\\u003cbr\\u003e2024-03-10 00:55:43.405794\\u003cbr\\u003eindex: 0\",\"GroundTruthState\\u003cbr\\u003e[[ 96.62168122]\\n [  3.07211994]\\n [122.70753157]\\n [  2.25468629]]\\u003cbr\\u003e2024-03-10 00:55:44.405794\\u003cbr\\u003eindex: 0\",\"GroundTruthState\\u003cbr\\u003e[[ 99.67999514]\\n [  3.06576096]\\n [125.02557567]\\n [  2.29132511]]\\u003cbr\\u003e2024-03-10 00:55:45.405794\\u003cbr\\u003eindex: 0\",\"GroundTruthState\\u003cbr\\u003e[[102.69185672]\\n [  2.99636998]\\n [127.26604235]\\n [  2.15379625]]\\u003cbr\\u003e2024-03-10 00:55:46.405794\\u003cbr\\u003eindex: 0\",\"GroundTruthState\\u003cbr\\u003e[[105.66071771]\\n [  2.87782762]\\n [129.32545847]\\n [  1.88472287]]\\u003cbr\\u003e2024-03-10 00:55:47.405794\\u003cbr\\u003eindex: 0\",\"GroundTruthState\\u003cbr\\u003e[[108.42525158]\\n [  2.71673328]\\n [131.07183735]\\n [  1.73931256]]\\u003cbr\\u003e2024-03-10 00:55:48.405794\\u003cbr\\u003eindex: 0\"],\"x\":[-6.075457790076113,-4.5069866325228025,-2.8368971777765153,-1.260579016917018,0.32916317468802686,1.8850175881666327,3.390600670235095,4.862534516806671,6.33207337700526,7.720320831063729,9.180109284508584,10.430697040676709,11.783370825499194,13.19867429366351,14.568977509227834,16.212630506675772,17.938823265944407,19.72787990451282,21.601966930814065,23.55107368385035,25.487314440864875,27.45778574469905,29.376222663597698,31.27556600256788,33.42796649934722,35.63939577268038,38.0659027008848,40.72465935372254,43.407853691383856,46.14860528323501,48.96631804230176,51.834480556595196,54.93573146650488,58.23477945784279,61.74112102467972,65.28605468126847,68.77282284510534,72.27382397840651,75.73499004482484,78.73406821622132,81.63176964006782,84.5709662733044,87.62585934665383,90.70249823372696,93.60484898461463,96.62168122441348,99.67999513853566,102.691856717158,105.66071770505144,108.42525157591389],\"y\":[34.45923919058518,36.08742887974784,37.62212417124505,39.22622617668711,40.80097992986602,42.26872645653423,43.83864664710129,45.54459497228568,47.28214746008438,49.134748260396904,50.887607187031385,52.55178193206889,54.24696203394817,56.0225340072381,57.993897411375826,59.96641387630622,61.780608959233476,63.615738801921154,65.64221891337397,67.66992512664646,69.71568712981919,71.73990806092543,73.8303664008879,76.17293355025868,78.45741943132164,80.68077129650769,82.86322446472663,85.15989490014306,87.32479158176454,89.42459182469118,91.45561826820382,93.54743046814787,95.73985124046256,97.92209121158098,99.987825936673,102.05102907248516,104.13208609841014,106.22506291596268,108.3309899666616,110.22640525438217,112.20326298029705,114.22076005350117,116.2357844059981,118.4350203081805,120.56898463223727,122.70753157192532,125.02557566577242,127.26604235151149,129.32545846675555,131.07183735461345],\"type\":\"scatter\"},{\"legendgroup\":\"Measurements\\u003cbr\\u003e(Detections)\",\"legendrank\":200,\"marker\":{\"color\":\"#636EFA\"},\"mode\":\"markers\",\"name\":\"Measurements\\u003cbr\\u003e(Detections)\",\"showlegend\":true,\"text\":[\"TrueDetection\\u003cbr\\u003e[[Bearing(1.3085541120997348)]\\n [71.59413551472592]]\\u003cbr\\u003e2024-03-10 00:55:18.405794\",\"TrueDetection\\u003cbr\\u003e[[Bearing(1.2914011779993455)]\\n [66.89413795778725]]\\u003cbr\\u003e2024-03-10 00:55:16.405794\",\"TrueDetection\\u003cbr\\u003e[[Bearing(0.9788436312162361)]\\n [110.3921516019565]]\\u003cbr\\u003e2024-03-10 00:55:31.405794\",\"TrueDetection\\u003cbr\\u003e[[Bearing(1.3300803338325569)]\\n [55.64817142424719]]\\u003cbr\\u003e2024-03-10 00:55:11.405794\",\"TrueDetection\\u003cbr\\u003e[[Bearing(1.7849031808950375)]\\n [36.39587205022138]]\\u003cbr\\u003e2024-03-10 00:55:00.405794\",\"TrueDetection\\u003cbr\\u003e[[Bearing(1.5063101187770362)]\\n [40.43058989015857]]\\u003cbr\\u003e2024-03-10 00:55:03.405794\",\"TrueDetection\\u003cbr\\u003e[[Bearing(1.1190040720255965)]\\n [103.91503700005029]]\\u003cbr\\u003e2024-03-10 00:55:29.405794\",\"TrueDetection\\u003cbr\\u003e[[Bearing(0.8529574205815096)]\\n [152.56169254859014]]\\u003cbr\\u003e2024-03-10 00:55:43.405794\",\"TrueDetection\\u003cbr\\u003e[[Bearing(1.3340614045527488)]\\n [58.080496213496275]]\\u003cbr\\u003e2024-03-10 00:55:12.405794\",\"TrueDetection\\u003cbr\\u003e[[Bearing(1.6779598276569647)]\\n [38.23186124045029]]\\u003cbr\\u003e2024-03-10 00:55:01.405794\",\"TrueDetection\\u003cbr\\u003e[[Bearing(1.6055131987946254)]\\n [44.4941601887107]]\\u003cbr\\u003e2024-03-10 00:55:05.405794\",\"TrueDetection\\u003cbr\\u003e[[Bearing(0.9787194265785146)]\\n [117.0446201959726]]\\u003cbr\\u003e2024-03-10 00:55:33.405794\",\"TrueDetection\\u003cbr\\u003e[[Bearing(1.2341935169678084)]\\n [59.86958402784109]]\\u003cbr\\u003e2024-03-10 00:55:13.405794\",\"TrueDetection\\u003cbr\\u003e[[Bearing(0.9064695213332454)]\\n [135.49858237982417]]\\u003cbr\\u003e2024-03-10 00:55:38.405794\",\"TrueDetection\\u003cbr\\u003e[[Bearing(1.3284873287604952)]\\n [51.978853183328916]]\\u003cbr\\u003e2024-03-10 00:55:09.405794\",\"TrueDetection\\u003cbr\\u003e[[Bearing(1.193742240711262)]\\n [91.63056259713134]]\\u003cbr\\u003e2024-03-10 00:55:25.405794\",\"TrueDetection\\u003cbr\\u003e[[Bearing(1.32030748001897)]\\n [62.280139745028244]]\\u003cbr\\u003e2024-03-10 00:55:14.405794\",\"TrueDetection\\u003cbr\\u003e[[Bearing(1.0020061315395354)]\\n [128.59863903994184]]\\u003cbr\\u003e2024-03-10 00:55:36.405794\",\"TrueDetection\\u003cbr\\u003e[[Bearing(0.7943706478611694)]\\n [149.08234810211644]]\\u003cbr\\u003e2024-03-10 00:55:42.405794\",\"TrueDetection\\u003cbr\\u003e[[Bearing(0.9491756436986627)]\\n [120.96586389033054]]\\u003cbr\\u003e2024-03-10 00:55:34.405794\",\"TrueDetection\\u003cbr\\u003e[[Bearing(0.8708120366392276)]\\n [138.67732587044748]]\\u003cbr\\u003e2024-03-10 00:55:39.405794\",\"TrueDetection\\u003cbr\\u003e[[Bearing(1.55346347228312)]\\n [39.89786627963626]]\\u003cbr\\u003e2024-03-10 00:55:02.405794\",\"TrueDetection\\u003cbr\\u003e[[Bearing(0.8425892793174143)]\\n [166.96272957706225]]\\u003cbr\\u003e2024-03-10 00:55:47.405794\",\"TrueDetection\\u003cbr\\u003e[[Bearing(1.4169991410969285)]\\n [53.96386429771457]]\\u003cbr\\u003e2024-03-10 00:55:10.405794\",\"TrueDetection\\u003cbr\\u003e[[Bearing(1.1032856930120705)]\\n [97.411417305145]]\\u003cbr\\u003e2024-03-10 00:55:27.405794\",\"TrueDetection\\u003cbr\\u003e[[Bearing(1.6599803006777734)]\\n [34.27601977129833]]\\u003cbr\\u003e2024-03-10 00:54:59.405794\",\"TrueDetection\\u003cbr\\u003e[[Bearing(1.1334855584570924)]\\n [88.2986245969877]]\\u003cbr\\u003e2024-03-10 00:55:24.405794\",\"TrueDetection\\u003cbr\\u003e[[Bearing(1.2050637607990176)]\\n [85.0730052976553]]\\u003cbr\\u003e2024-03-10 00:55:23.405794\",\"TrueDetection\\u003cbr\\u003e[[Bearing(1.1555442516690784)]\\n [79.30118974637956]]\\u003cbr\\u003e2024-03-10 00:55:21.405794\",\"TrueDetection\\u003cbr\\u003e[[Bearing(0.830070286694899)]\\n [164.06691977116384]]\\u003cbr\\u003e2024-03-10 00:55:46.405794\",\"TrueDetection\\u003cbr\\u003e[[Bearing(1.412007742170637)]\\n [47.244459513703205]]\\u003cbr\\u003e2024-03-10 00:55:07.405794\",\"TrueDetection\\u003cbr\\u003e[[Bearing(1.0134297423484275)]\\n [141.67078910582046]]\\u003cbr\\u003e2024-03-10 00:55:40.405794\",\"TrueDetection\\u003cbr\\u003e[[Bearing(1.2846517992175066)]\\n [69.25736621670139]]\\u003cbr\\u003e2024-03-10 00:55:17.405794\",\"TrueDetection\\u003cbr\\u003e[[Bearing(0.8415964813814649)]\\n [170.13357255852324]]\\u003cbr\\u003e2024-03-10 00:55:48.405794\",\"TrueDetection\\u003cbr\\u003e[[Bearing(1.014075349101546)]\\n [124.64957023684998]]\\u003cbr\\u003e2024-03-10 00:55:35.405794\",\"TrueDetection\\u003cbr\\u003e[[Bearing(0.9405149980879957)]\\n [132.51814082353565]]\\u003cbr\\u003e2024-03-10 00:55:37.405794\",\"TrueDetection\\u003cbr\\u003e[[Bearing(0.8576811447697144)]\\n [160.0619188460738]]\\u003cbr\\u003e2024-03-10 00:55:45.405794\",\"TrueDetection\\u003cbr\\u003e[[Bearing(1.3526200958156416)]\\n [49.32173513221956]]\\u003cbr\\u003e2024-03-10 00:55:08.405794\",\"TrueDetection\\u003cbr\\u003e[[Bearing(1.2743735129528115)]\\n [77.15249030371781]]\\u003cbr\\u003e2024-03-10 00:55:20.405794\",\"TrueDetection\\u003cbr\\u003e[[Bearing(0.960212554823527)]\\n [100.31929053169966]]\\u003cbr\\u003e2024-03-10 00:55:28.405794\",\"TrueDetection\\u003cbr\\u003e[[Bearing(0.8670763941876434)]\\n [155.5641896283944]]\\u003cbr\\u003e2024-03-10 00:55:44.405794\",\"TrueDetection\\u003cbr\\u003e[[Bearing(1.4302273003781014)]\\n [45.36959030255932]]\\u003cbr\\u003e2024-03-10 00:55:06.405794\",\"TrueDetection\\u003cbr\\u003e[[Bearing(1.2180151957245942)]\\n [82.43520498234422]]\\u003cbr\\u003e2024-03-10 00:55:22.405794\",\"TrueDetection\\u003cbr\\u003e[[Bearing(1.3514867579362093)]\\n [64.20605076806865]]\\u003cbr\\u003e2024-03-10 00:55:15.405794\",\"TrueDetection\\u003cbr\\u003e[[Bearing(1.4795856672272478)]\\n [42.56178593801173]]\\u003cbr\\u003e2024-03-10 00:55:04.405794\",\"TrueDetection\\u003cbr\\u003e[[Bearing(0.9661152667451312)]\\n [146.3566401143514]]\\u003cbr\\u003e2024-03-10 00:55:41.405794\",\"TrueDetection\\u003cbr\\u003e[[Bearing(1.0096331726141763)]\\n [114.23374000344322]]\\u003cbr\\u003e2024-03-10 00:55:32.405794\",\"TrueDetection\\u003cbr\\u003e[[Bearing(1.0289904702880275)]\\n [106.96127879362928]]\\u003cbr\\u003e2024-03-10 00:55:30.405794\",\"TrueDetection\\u003cbr\\u003e[[Bearing(1.1879328220999463)]\\n [74.35101556548392]]\\u003cbr\\u003e2024-03-10 00:55:19.405794\",\"TrueDetection\\u003cbr\\u003e[[Bearing(1.0742500323004514)]\\n [94.56484389986679]]\\u003cbr\\u003e2024-03-10 00:55:26.405794\"],\"x\":[18.560547498756225,18.44768423721559,61.5968926351818,13.266414807537997,-7.733204210213209,2.605408800653244,45.36708815475158,100.34873643604887,13.62161128481102,-4.089222812636369,-1.5443877885982173,65.32091739468727,19.773873315101113,83.53883867469874,12.47205596047859,33.736824389971304,15.437850283941504,69.26491397961657,104.46705504457434,70.44488646794612,89.33671984896442,0.6915092855674829,111.11912307429287,8.266810363307352,43.8999596733179,-3.052820981956969,37.394894969616104,30.424957145464383,31.991733202055723,110.71627729053833,7.470395404969759,74.93721495720126,19.54828126573274,113.35543417960051,65.8654784533134,78.10248910905086,104.71139322585428,10.675662422768838,22.53631237263807,57.51764890117838,100.6591132679697,6.356576821322222,28.482104959831258,13.968397528129586,3.876708041880184,83.20370871399442,60.79192097096103,55.15822557900075,27.775917121696093,45.0499137050457],\"y\":[69.14641217480018,64.30014494073447,91.60922416983583,54.04369732926068,35.5648289035562,40.34655429956406,93.4888347722915,114.91388571003482,56.46056806667344,38.01254359678736,44.46734933922953,97.12168072853721,56.509831231256186,106.68237089521705,50.46037057308193,85.19381833177242,60.33646149113199,108.35119590628233,106.35873695166983,98.3374709724231,106.06767272456733,39.891873214675066,124.61578373152966,53.326902182287576,86.95848297939749,34.13979811619508,79.98918011788308,79.44644871277471,72.56175095682147,121.07790924079478,46.65010340004991,120.22905763717883,66.44130849727519,126.86992572505332,105.82652837709222,107.05633490035522,121.05924992906422,48.152505524509344,73.78767772947019,82.19294445184659,118.60843144922326,44.92208427195597,77.3584689451534,62.668180328839554,42.3848647159709,120.40518660671782,96.71447513084426,91.64215903253564,68.96790517093804,83.1445426770399],\"type\":\"scatter\"},{\"legendgroup\":\"Sensors\",\"legendrank\":50,\"marker\":{\"color\":\"black\",\"symbol\":\"x\"},\"mode\":\"markers\",\"name\":\"Sensors\",\"showlegend\":true,\"x\":[0],\"y\":[0],\"type\":\"scatter\"}],                        {\"colorway\":[\"#636EFA\",\"#EF553B\",\"#00CC96\",\"#AB63FA\",\"#FFA15A\",\"#19D3F3\",\"#FF6692\",\"#B6E880\",\"#FF97FF\",\"#FECB52\"],\"xaxis\":{\"title\":{\"text\":\"x\"}},\"yaxis\":{\"title\":{\"text\":\"y\"}},\"template\":{\"data\":{\"histogram2dcontour\":[{\"type\":\"histogram2dcontour\",\"colorbar\":{\"outlinewidth\":0,\"ticks\":\"\"},\"colorscale\":[[0.0,\"#0d0887\"],[0.1111111111111111,\"#46039f\"],[0.2222222222222222,\"#7201a8\"],[0.3333333333333333,\"#9c179e\"],[0.4444444444444444,\"#bd3786\"],[0.5555555555555556,\"#d8576b\"],[0.6666666666666666,\"#ed7953\"],[0.7777777777777778,\"#fb9f3a\"],[0.8888888888888888,\"#fdca26\"],[1.0,\"#f0f921\"]]}],\"choropleth\":[{\"type\":\"choropleth\",\"colorbar\":{\"outlinewidth\":0,\"ticks\":\"\"}}],\"histogram2d\":[{\"type\":\"histogram2d\",\"colorbar\":{\"outlinewidth\":0,\"ticks\":\"\"},\"colorscale\":[[0.0,\"#0d0887\"],[0.1111111111111111,\"#46039f\"],[0.2222222222222222,\"#7201a8\"],[0.3333333333333333,\"#9c179e\"],[0.4444444444444444,\"#bd3786\"],[0.5555555555555556,\"#d8576b\"],[0.6666666666666666,\"#ed7953\"],[0.7777777777777778,\"#fb9f3a\"],[0.8888888888888888,\"#fdca26\"],[1.0,\"#f0f921\"]]}],\"heatmap\":[{\"type\":\"heatmap\",\"colorbar\":{\"outlinewidth\":0,\"ticks\":\"\"},\"colorscale\":[[0.0,\"#0d0887\"],[0.1111111111111111,\"#46039f\"],[0.2222222222222222,\"#7201a8\"],[0.3333333333333333,\"#9c179e\"],[0.4444444444444444,\"#bd3786\"],[0.5555555555555556,\"#d8576b\"],[0.6666666666666666,\"#ed7953\"],[0.7777777777777778,\"#fb9f3a\"],[0.8888888888888888,\"#fdca26\"],[1.0,\"#f0f921\"]]}],\"heatmapgl\":[{\"type\":\"heatmapgl\",\"colorbar\":{\"outlinewidth\":0,\"ticks\":\"\"},\"colorscale\":[[0.0,\"#0d0887\"],[0.1111111111111111,\"#46039f\"],[0.2222222222222222,\"#7201a8\"],[0.3333333333333333,\"#9c179e\"],[0.4444444444444444,\"#bd3786\"],[0.5555555555555556,\"#d8576b\"],[0.6666666666666666,\"#ed7953\"],[0.7777777777777778,\"#fb9f3a\"],[0.8888888888888888,\"#fdca26\"],[1.0,\"#f0f921\"]]}],\"contourcarpet\":[{\"type\":\"contourcarpet\",\"colorbar\":{\"outlinewidth\":0,\"ticks\":\"\"}}],\"contour\":[{\"type\":\"contour\",\"colorbar\":{\"outlinewidth\":0,\"ticks\":\"\"},\"colorscale\":[[0.0,\"#0d0887\"],[0.1111111111111111,\"#46039f\"],[0.2222222222222222,\"#7201a8\"],[0.3333333333333333,\"#9c179e\"],[0.4444444444444444,\"#bd3786\"],[0.5555555555555556,\"#d8576b\"],[0.6666666666666666,\"#ed7953\"],[0.7777777777777778,\"#fb9f3a\"],[0.8888888888888888,\"#fdca26\"],[1.0,\"#f0f921\"]]}],\"surface\":[{\"type\":\"surface\",\"colorbar\":{\"outlinewidth\":0,\"ticks\":\"\"},\"colorscale\":[[0.0,\"#0d0887\"],[0.1111111111111111,\"#46039f\"],[0.2222222222222222,\"#7201a8\"],[0.3333333333333333,\"#9c179e\"],[0.4444444444444444,\"#bd3786\"],[0.5555555555555556,\"#d8576b\"],[0.6666666666666666,\"#ed7953\"],[0.7777777777777778,\"#fb9f3a\"],[0.8888888888888888,\"#fdca26\"],[1.0,\"#f0f921\"]]}],\"mesh3d\":[{\"type\":\"mesh3d\",\"colorbar\":{\"outlinewidth\":0,\"ticks\":\"\"}}],\"scatter\":[{\"fillpattern\":{\"fillmode\":\"overlay\",\"size\":10,\"solidity\":0.2},\"type\":\"scatter\"}],\"parcoords\":[{\"type\":\"parcoords\",\"line\":{\"colorbar\":{\"outlinewidth\":0,\"ticks\":\"\"}}}],\"scatterpolargl\":[{\"type\":\"scatterpolargl\",\"marker\":{\"colorbar\":{\"outlinewidth\":0,\"ticks\":\"\"}}}],\"bar\":[{\"error_x\":{\"color\":\"#2a3f5f\"},\"error_y\":{\"color\":\"#2a3f5f\"},\"marker\":{\"line\":{\"color\":\"#E5ECF6\",\"width\":0.5},\"pattern\":{\"fillmode\":\"overlay\",\"size\":10,\"solidity\":0.2}},\"type\":\"bar\"}],\"scattergeo\":[{\"type\":\"scattergeo\",\"marker\":{\"colorbar\":{\"outlinewidth\":0,\"ticks\":\"\"}}}],\"scatterpolar\":[{\"type\":\"scatterpolar\",\"marker\":{\"colorbar\":{\"outlinewidth\":0,\"ticks\":\"\"}}}],\"histogram\":[{\"marker\":{\"pattern\":{\"fillmode\":\"overlay\",\"size\":10,\"solidity\":0.2}},\"type\":\"histogram\"}],\"scattergl\":[{\"type\":\"scattergl\",\"marker\":{\"colorbar\":{\"outlinewidth\":0,\"ticks\":\"\"}}}],\"scatter3d\":[{\"type\":\"scatter3d\",\"line\":{\"colorbar\":{\"outlinewidth\":0,\"ticks\":\"\"}},\"marker\":{\"colorbar\":{\"outlinewidth\":0,\"ticks\":\"\"}}}],\"scattermapbox\":[{\"type\":\"scattermapbox\",\"marker\":{\"colorbar\":{\"outlinewidth\":0,\"ticks\":\"\"}}}],\"scatterternary\":[{\"type\":\"scatterternary\",\"marker\":{\"colorbar\":{\"outlinewidth\":0,\"ticks\":\"\"}}}],\"scattercarpet\":[{\"type\":\"scattercarpet\",\"marker\":{\"colorbar\":{\"outlinewidth\":0,\"ticks\":\"\"}}}],\"carpet\":[{\"aaxis\":{\"endlinecolor\":\"#2a3f5f\",\"gridcolor\":\"white\",\"linecolor\":\"white\",\"minorgridcolor\":\"white\",\"startlinecolor\":\"#2a3f5f\"},\"baxis\":{\"endlinecolor\":\"#2a3f5f\",\"gridcolor\":\"white\",\"linecolor\":\"white\",\"minorgridcolor\":\"white\",\"startlinecolor\":\"#2a3f5f\"},\"type\":\"carpet\"}],\"table\":[{\"cells\":{\"fill\":{\"color\":\"#EBF0F8\"},\"line\":{\"color\":\"white\"}},\"header\":{\"fill\":{\"color\":\"#C8D4E3\"},\"line\":{\"color\":\"white\"}},\"type\":\"table\"}],\"barpolar\":[{\"marker\":{\"line\":{\"color\":\"#E5ECF6\",\"width\":0.5},\"pattern\":{\"fillmode\":\"overlay\",\"size\":10,\"solidity\":0.2}},\"type\":\"barpolar\"}],\"pie\":[{\"automargin\":true,\"type\":\"pie\"}]},\"layout\":{\"autotypenumbers\":\"strict\",\"colorway\":[\"#636efa\",\"#EF553B\",\"#00cc96\",\"#ab63fa\",\"#FFA15A\",\"#19d3f3\",\"#FF6692\",\"#B6E880\",\"#FF97FF\",\"#FECB52\"],\"font\":{\"color\":\"#2a3f5f\"},\"hovermode\":\"closest\",\"hoverlabel\":{\"align\":\"left\"},\"paper_bgcolor\":\"white\",\"plot_bgcolor\":\"#E5ECF6\",\"polar\":{\"bgcolor\":\"#E5ECF6\",\"angularaxis\":{\"gridcolor\":\"white\",\"linecolor\":\"white\",\"ticks\":\"\"},\"radialaxis\":{\"gridcolor\":\"white\",\"linecolor\":\"white\",\"ticks\":\"\"}},\"ternary\":{\"bgcolor\":\"#E5ECF6\",\"aaxis\":{\"gridcolor\":\"white\",\"linecolor\":\"white\",\"ticks\":\"\"},\"baxis\":{\"gridcolor\":\"white\",\"linecolor\":\"white\",\"ticks\":\"\"},\"caxis\":{\"gridcolor\":\"white\",\"linecolor\":\"white\",\"ticks\":\"\"}},\"coloraxis\":{\"colorbar\":{\"outlinewidth\":0,\"ticks\":\"\"}},\"colorscale\":{\"sequential\":[[0.0,\"#0d0887\"],[0.1111111111111111,\"#46039f\"],[0.2222222222222222,\"#7201a8\"],[0.3333333333333333,\"#9c179e\"],[0.4444444444444444,\"#bd3786\"],[0.5555555555555556,\"#d8576b\"],[0.6666666666666666,\"#ed7953\"],[0.7777777777777778,\"#fb9f3a\"],[0.8888888888888888,\"#fdca26\"],[1.0,\"#f0f921\"]],\"sequentialminus\":[[0.0,\"#0d0887\"],[0.1111111111111111,\"#46039f\"],[0.2222222222222222,\"#7201a8\"],[0.3333333333333333,\"#9c179e\"],[0.4444444444444444,\"#bd3786\"],[0.5555555555555556,\"#d8576b\"],[0.6666666666666666,\"#ed7953\"],[0.7777777777777778,\"#fb9f3a\"],[0.8888888888888888,\"#fdca26\"],[1.0,\"#f0f921\"]],\"diverging\":[[0,\"#8e0152\"],[0.1,\"#c51b7d\"],[0.2,\"#de77ae\"],[0.3,\"#f1b6da\"],[0.4,\"#fde0ef\"],[0.5,\"#f7f7f7\"],[0.6,\"#e6f5d0\"],[0.7,\"#b8e186\"],[0.8,\"#7fbc41\"],[0.9,\"#4d9221\"],[1,\"#276419\"]]},\"xaxis\":{\"gridcolor\":\"white\",\"linecolor\":\"white\",\"ticks\":\"\",\"title\":{\"standoff\":15},\"zerolinecolor\":\"white\",\"automargin\":true,\"zerolinewidth\":2},\"yaxis\":{\"gridcolor\":\"white\",\"linecolor\":\"white\",\"ticks\":\"\",\"title\":{\"standoff\":15},\"zerolinecolor\":\"white\",\"automargin\":true,\"zerolinewidth\":2},\"scene\":{\"xaxis\":{\"backgroundcolor\":\"#E5ECF6\",\"gridcolor\":\"white\",\"linecolor\":\"white\",\"showbackground\":true,\"ticks\":\"\",\"zerolinecolor\":\"white\",\"gridwidth\":2},\"yaxis\":{\"backgroundcolor\":\"#E5ECF6\",\"gridcolor\":\"white\",\"linecolor\":\"white\",\"showbackground\":true,\"ticks\":\"\",\"zerolinecolor\":\"white\",\"gridwidth\":2},\"zaxis\":{\"backgroundcolor\":\"#E5ECF6\",\"gridcolor\":\"white\",\"linecolor\":\"white\",\"showbackground\":true,\"ticks\":\"\",\"zerolinecolor\":\"white\",\"gridwidth\":2}},\"shapedefaults\":{\"line\":{\"color\":\"#2a3f5f\"}},\"annotationdefaults\":{\"arrowcolor\":\"#2a3f5f\",\"arrowhead\":0,\"arrowwidth\":1},\"geo\":{\"bgcolor\":\"white\",\"landcolor\":\"#E5ECF6\",\"subunitcolor\":\"white\",\"showland\":true,\"showlakes\":true,\"lakecolor\":\"white\"},\"title\":{\"x\":0.05},\"mapbox\":{\"style\":\"light\"}}}},                        {\"responsive\": true}                    ).then(function(){\n",
       "                            \n",
       "var gd = document.getElementById('01dfb352-b22c-4773-bfe6-ea8725110d86');\n",
       "var x = new MutationObserver(function (mutations, observer) {{\n",
       "        var display = window.getComputedStyle(gd).display;\n",
       "        if (!display || display === 'none') {{\n",
       "            console.log([gd, 'removed!']);\n",
       "            Plotly.purge(gd);\n",
       "            observer.disconnect();\n",
       "        }}\n",
       "}});\n",
       "\n",
       "// Listen for the removal of the full notebook cells\n",
       "var notebookContainer = gd.closest('#notebook-container');\n",
       "if (notebookContainer) {{\n",
       "    x.observe(notebookContainer, {childList: true});\n",
       "}}\n",
       "\n",
       "// Listen for the clearing of the current output cell\n",
       "var outputEl = gd.closest('.output');\n",
       "if (outputEl) {{\n",
       "    x.observe(outputEl, {childList: true});\n",
       "}}\n",
       "\n",
       "                        })                };                });            </script>        </div>"
      ]
     },
     "metadata": {},
     "output_type": "display_data"
    }
   ],
   "source": [
    "from stonesoup.plotter import Plotterly\n",
    "\n",
    "plotter = Plotterly()\n",
    "plotter.plot_ground_truths(ground_truth, [0, 2])\n",
    "plotter.plot_measurements(detections, [0, 2])\n",
    "plotter.plot_sensors(sensor)\n",
    "plotter.fig"
   ]
  },
  {
   "cell_type": "markdown",
   "metadata": {},
   "source": [
    "## 3) Initialise and run each tracker on the detections\n",
    "With the detections now generated, our focus turns to creating and running the trackers.\n",
    "This section of the notebook is quite long because each tracker requires an initiator, deleter,\n",
    "detector, data associator, and updater. However, all of these things are standard\n",
    "stonesoup building blocks.\n",
    "\n",
    "Firstly, we approximate the transition model of the target. Here we assume a constant\n",
    "velocity model,\n",
    "which will be wrong due to the fact that we designed the targets to sometimes turn left or right.\n",
    "We do this to test how effectively each tracking algorithm can perform against\n",
    "target behaviour that doesn't move exactly as predicted.\n",
    "\n"
   ]
  },
  {
   "cell_type": "code",
   "execution_count": 44,
   "metadata": {
    "collapsed": false,
    "jupyter": {
     "outputs_hidden": false
    }
   },
   "outputs": [],
   "source": [
    "transition_model_estimate = CombinedLinearGaussianTransitionModel([ConstantVelocity(0.5),\n",
    "                                                                   ConstantVelocity(0.5)])\n",
    "# Tracking algorithm incorrectly estimates the type of path the truth takes"
   ]
  },
  {
   "cell_type": "markdown",
   "metadata": {},
   "source": [
    "Next, we initialise the predictors, updaters, hypothesisers, data associators, and deleter.\n",
    "The particle filter requires a resampler as part of its updater.\n",
    "Note that the ESIF is a slight extension of the EKF and uses an EKF predictor.\n",
    "\n"
   ]
  },
  {
   "cell_type": "code",
   "execution_count": 45,
   "metadata": {
    "collapsed": false,
    "jupyter": {
     "outputs_hidden": false
    }
   },
   "outputs": [],
   "source": [
    "from stonesoup.predictor.kalman import ExtendedKalmanPredictor, UnscentedKalmanPredictor, SIFKalmanPredictor\n",
    "from stonesoup.predictor.particle import ParticlePredictor\n",
    "from stonesoup.predictor.ensemble import EnsemblePredictor\n",
    "\n",
    "# introduce the predictors\n",
    "predictor_EKF = ExtendedKalmanPredictor(transition_model_estimate)\n",
    "predictor_UKF = UnscentedKalmanPredictor(transition_model_estimate)\n",
    "predictor_SIF = SIFKalmanPredictor(transition_model_estimate)\n",
    "predictor_EnKF = EnsemblePredictor(transition_model_estimate)\n",
    "predictor_PF = ParticlePredictor(transition_model_estimate)\n",
    "\n",
    "# ######################################################################\n",
    "\n",
    "from stonesoup.resampler.particle import ESSResampler\n",
    "resampler = ESSResampler()\n",
    "\n",
    "# ######################################################################\n",
    "\n",
    "from stonesoup.updater.kalman import ExtendedKalmanUpdater, UnscentedKalmanUpdater, SIFKalmanUpdater\n",
    "from stonesoup.updater.particle import ParticleUpdater\n",
    "from stonesoup.updater.ensemble import EnsembleUpdater\n",
    "# introduce the updaters\n",
    "\n",
    "updater_EKF = ExtendedKalmanUpdater(sensor)\n",
    "updater_UKF = UnscentedKalmanUpdater(sensor)\n",
    "updater_SIF = SIFKalmanUpdater(sensor)\n",
    "updater_EnKF = EnsembleUpdater(sensor)\n",
    "updater_PF = ParticleUpdater(measurement_model=None, resampler=resampler)\n",
    "\n",
    "# ######################################################################\n",
    "\n",
    "from stonesoup.hypothesiser.distance import DistanceHypothesiser\n",
    "from stonesoup.measures import Mahalanobis\n",
    "# introduce the hypothesisers\n",
    "hypothesiser_EKF = DistanceHypothesiser(predictor_EKF, updater_EKF,\n",
    "                                        measure=Mahalanobis(), missed_distance=4)\n",
    "hypothesiser_UKF = DistanceHypothesiser(predictor_UKF, updater_UKF,\n",
    "                                        measure=Mahalanobis(), missed_distance=4)\n",
    "hypothesiser_SIF = DistanceHypothesiser(predictor_SIF, updater_SIF,\n",
    "                                      measure=Mahalanobis(), missed_distance=4)\n",
    "hypothesiser_EnKF = DistanceHypothesiser(predictor_EnKF, updater_EnKF,\n",
    "                                      measure=Mahalanobis(), missed_distance=4)\n",
    "hypothesiser_PF = DistanceHypothesiser(predictor_PF, updater_PF,\n",
    "                                      measure=Mahalanobis(), missed_distance=4)\n",
    "\n",
    "# ######################################################################\n",
    "\n",
    "from stonesoup.dataassociator.neighbour import GNNWith2DAssignment\n",
    "# introduce the data associators\n",
    "\n",
    "data_associator_EKF = GNNWith2DAssignment(hypothesiser_EKF)\n",
    "data_associator_UKF = GNNWith2DAssignment(hypothesiser_UKF)\n",
    "data_associator_SIF = GNNWith2DAssignment(hypothesiser_SIF)\n",
    "data_associator_EnKF = GNNWith2DAssignment(hypothesiser_EnKF)\n",
    "data_associator_PF = GNNWith2DAssignment(hypothesiser_PF)\n",
    "\n",
    "# ######################################################################\n",
    "\n",
    "from stonesoup.deleter.time import UpdateTimeDeleter\n",
    "# create a deleter\n",
    "deleter = UpdateTimeDeleter(datetime.timedelta(seconds=5), delete_last_pred=True)"
   ]
  },
  {
   "cell_type": "markdown",
   "metadata": {},
   "source": [
    "Now we introduce the initial predictors which will be used in the data associator\n",
    "in the track initiators:\n",
    "\n"
   ]
  },
  {
   "cell_type": "code",
   "execution_count": 46,
   "metadata": {
    "collapsed": false,
    "jupyter": {
     "outputs_hidden": false
    }
   },
   "outputs": [],
   "source": [
    "init_transition_model = CombinedLinearGaussianTransitionModel(\n",
    "    (ConstantVelocity(q_x), ConstantVelocity(q_x))) # 0.05\n",
    "init_predictor_EKF = ExtendedKalmanPredictor(init_transition_model)\n",
    "init_predictor_UKF = UnscentedKalmanPredictor(init_transition_model)\n",
    "init_predictor_SIF = SIFKalmanPredictor(init_transition_model)\n",
    "init_predictor_EnKF = EnsemblePredictor(init_transition_model)\n",
    "init_predictor_PF = ParticlePredictor(init_transition_model)"
   ]
  },
  {
   "cell_type": "markdown",
   "metadata": {},
   "source": [
    "The final step before running the trackers is to create the initiators:\n",
    "\n"
   ]
  },
  {
   "cell_type": "code",
   "execution_count": 47,
   "metadata": {
    "collapsed": false,
    "jupyter": {
     "outputs_hidden": false
    }
   },
   "outputs": [],
   "source": [
    "from stonesoup.initiator.simple import MultiMeasurementInitiator\n",
    "# ######################################################################\n",
    "\n",
    "initiator_EKF = MultiMeasurementInitiator(\n",
    "    GaussianState(\n",
    "        np.array([[20], [0], [10], [0]]),  # Prior State\n",
    "        np.diag([1, 1, 1, 1])),\n",
    "    measurement_model=None,\n",
    "    deleter=deleter,\n",
    "    data_associator=GNNWith2DAssignment(\n",
    "        DistanceHypothesiser(init_predictor_EKF, updater_EKF, Mahalanobis(), missed_distance=5)),\n",
    "    updater=updater_EKF,\n",
    "    min_points=2\n",
    ")\n",
    "# ######################################################################\n",
    "\n",
    "initiator_UKF = MultiMeasurementInitiator(\n",
    "    GaussianState(\n",
    "        np.array([[20], [0], [10], [0]]),  # Prior State\n",
    "        np.diag([1, 1, 1, 1])),\n",
    "    measurement_model=None,\n",
    "    deleter=deleter,\n",
    "    data_associator=GNNWith2DAssignment(\n",
    "        DistanceHypothesiser(init_predictor_UKF, updater_UKF, Mahalanobis(), missed_distance=5)),\n",
    "    updater=updater_UKF,\n",
    "    min_points=2\n",
    ")\n",
    "\n",
    "############################################################################\n",
    "\n",
    "initiator_SIF = MultiMeasurementInitiator(\n",
    "    GaussianState(\n",
    "        np.array([[20], [0], [10], [0]]),  # Prior State\n",
    "        np.diag([1, 1, 1, 1])),\n",
    "    measurement_model=None,\n",
    "    deleter=deleter,\n",
    "    data_associator=GNNWith2DAssignment(\n",
    "        DistanceHypothesiser(init_predictor_SIF, updater_SIF, Mahalanobis(), missed_distance=5)),\n",
    "    updater=updater_SIF,\n",
    "    min_points=2\n",
    ")\n",
    "\n",
    "############################################################################\n",
    "\n"
   ]
  },
  {
   "cell_type": "markdown",
   "metadata": {},
   "source": [
    "The initiators for the Particle and Ensemble Kalman filters work differently, so is shown below for clarity:\n",
    "\n"
   ]
  },
  {
   "cell_type": "code",
   "execution_count": 48,
   "metadata": {
    "collapsed": false,
    "jupyter": {
     "outputs_hidden": false
    }
   },
   "outputs": [],
   "source": [
    "from stonesoup.initiator.simple import GaussianParticleInitiator, EnsembleInitiator\n",
    "from stonesoup.types.state import GaussianState\n",
    "from stonesoup.initiator.simple import SimpleMeasurementInitiator\n",
    "\n",
    "prior_state = GaussianState(\n",
    "    StateVector([20, 0, 10, 0]),\n",
    "    np.diag([1, 1, 1, 1]) ** 2)\n",
    "\n",
    "initiator_Part = SimpleMeasurementInitiator(prior_state, measurement_model=None,\n",
    "                                            skip_non_reversible=True)\n",
    "\n",
    "initiator_Ensemble = SimpleMeasurementInitiator(prior_state, measurement_model=None,\n",
    "                                            skip_non_reversible=True)\n",
    "\n",
    "number_particles = 2500 # 2500\n",
    "initiator_PF = GaussianParticleInitiator(number_particles=number_particles,\n",
    "                                        initiator=initiator_Part,\n",
    "                                        use_fixed_covar=False)\n",
    "ensemble_size = 2500 # 2500\n",
    "initiator_EnKF = EnsembleInitiator(ensemble_size = ensemble_size,\n",
    "                                   initiator=initiator_Ensemble)"
   ]
  },
  {
   "cell_type": "markdown",
   "metadata": {},
   "source": [
    "Now we run the trackers and store the tracks in sets for plotting:\n",
    "\n"
   ]
  },
  {
   "cell_type": "code",
   "execution_count": 49,
   "metadata": {
    "collapsed": false,
    "jupyter": {
     "outputs_hidden": false
    }
   },
   "outputs": [],
   "source": [
    "from stonesoup.tracker.simple import MultiTargetTracker\n",
    "\n",
    "# #######################################################################\n",
    "\n",
    "kalman_tracker_EKF = MultiTargetTracker(\n",
    "    initiator=initiator_EKF,\n",
    "    deleter=deleter,\n",
    "    detector=detectors[0],\n",
    "    data_associator=data_associator_EKF,\n",
    "    updater=updater_EKF,\n",
    ")\n",
    "tracks_EKF = set()\n",
    "for step, (time, current_tracks) in enumerate(kalman_tracker_EKF, 1):\n",
    "    tracks_EKF.update(current_tracks)\n",
    "\n",
    "\n",
    "# #######################################################################\n",
    "\n",
    "kalman_tracker_UKF = MultiTargetTracker(\n",
    "    initiator=initiator_UKF,\n",
    "    deleter=deleter,\n",
    "    detector=detectors[1],\n",
    "    data_associator=data_associator_UKF,\n",
    "    updater=updater_UKF,\n",
    ")\n",
    "\n",
    "tracks_UKF = set()\n",
    "for step, (time, current_tracks) in enumerate(kalman_tracker_UKF, 1):\n",
    "    tracks_UKF.update(current_tracks)\n",
    "\n",
    "# ##########################################################################\n",
    "\n",
    "kalman_tracker_SIF = MultiTargetTracker(\n",
    "    initiator=initiator_SIF,\n",
    "    deleter=deleter,\n",
    "    detector=detectors[2],\n",
    "    data_associator=data_associator_SIF,\n",
    "    updater=updater_SIF,\n",
    ")\n",
    "\n",
    "tracks_SIF = set()\n",
    "for step, (time, current_tracks) in enumerate(kalman_tracker_SIF, 1):\n",
    "    tracks_SIF.update(current_tracks)\n",
    "# ##########################################################################\n",
    "\n",
    "tracker_EnKF = MultiTargetTracker(\n",
    "    initiator=initiator_EnKF,\n",
    "    deleter=deleter,\n",
    "    detector=detectors[3],\n",
    "    data_associator=data_associator_EnKF,\n",
    "    updater=updater_EnKF,\n",
    ")\n",
    "#tracks_EnKF = set()\n",
    "#for step, (time, current_tracks) in enumerate(tracker_EnKF, 1):\n",
    "#    tracks_EnKF.update(current_tracks)\n",
    "\n",
    "# ##########################################################################\n",
    "\n",
    "tracker_PF = MultiTargetTracker(\n",
    "    initiator=initiator_PF,\n",
    "    deleter=deleter,\n",
    "    detector=detectors[4],\n",
    "    data_associator=data_associator_PF,\n",
    "    updater=updater_PF,\n",
    ")\n",
    "\n",
    "tracks_PF = set()\n",
    "for step, (time, current_tracks) in enumerate(tracker_PF, 1):\n",
    "    tracks_PF.update(current_tracks)"
   ]
  },
  {
   "cell_type": "markdown",
   "metadata": {},
   "source": [
    "Create initial states for tracks."
   ]
  },
  {
   "cell_type": "markdown",
   "metadata": {},
   "source": [
    "Finally, we plot the results:\n",
    "\n"
   ]
  },
  {
   "cell_type": "code",
   "execution_count": 50,
   "metadata": {
    "collapsed": false,
    "jupyter": {
     "outputs_hidden": false
    }
   },
   "outputs": [
    {
     "data": {
      "application/vnd.plotly.v1+json": {
       "config": {
        "plotlyServerURL": "https://plot.ly"
       },
       "data": [
        {
         "legendgroup": "Ground Truth",
         "legendrank": 100,
         "line": {
          "dash": "dash"
         },
         "mode": "lines",
         "name": "Ground Truth",
         "showlegend": true,
         "text": [
          "GroundTruthState<br>[[-6.07545779]\n [ 1.48826829]\n [34.45923919]\n [ 1.51259057]]<br>2024-03-10 00:54:59.405794<br>index: 0",
          "GroundTruthState<br>[[-4.50698663]\n [ 1.64447391]\n [36.08742888]\n [ 1.59253279]]<br>2024-03-10 00:55:00.405794<br>index: 0",
          "GroundTruthState<br>[[-2.83689718]\n [ 1.66300898]\n [37.62212417]\n [ 1.59830827]]<br>2024-03-10 00:55:01.405794<br>index: 0",
          "GroundTruthState<br>[[-1.26057902]\n [ 1.53237055]\n [39.22622618]\n [ 1.52667044]]<br>2024-03-10 00:55:02.405794<br>index: 0",
          "GroundTruthState<br>[[ 0.32916317]\n [ 1.57019834]\n [40.80097993]\n [ 1.58579426]]<br>2024-03-10 00:55:03.405794<br>index: 0",
          "GroundTruthState<br>[[ 1.88501759]\n [ 1.53078305]\n [42.26872646]\n [ 1.48451762]]<br>2024-03-10 00:55:04.405794<br>index: 0",
          "GroundTruthState<br>[[ 3.39060067]\n [ 1.48443336]\n [43.83864665]\n [ 1.59241079]]<br>2024-03-10 00:55:05.405794<br>index: 0",
          "GroundTruthState<br>[[ 4.86253452]\n [ 1.47626276]\n [45.54459497]\n [ 1.66030742]]<br>2024-03-10 00:55:06.405794<br>index: 0",
          "GroundTruthState<br>[[ 6.33207338]\n [ 1.3943761 ]\n [47.28214746]\n [ 1.66087961]]<br>2024-03-10 00:55:07.405794<br>index: 0",
          "GroundTruthState<br>[[ 7.72032083]\n [ 1.55462522]\n [49.13474826]\n [ 1.79492795]]<br>2024-03-10 00:55:08.405794<br>index: 0",
          "GroundTruthState<br>[[ 9.18010928]\n [ 1.34354948]\n [50.88760719]\n [ 1.73136541]]<br>2024-03-10 00:55:09.405794<br>index: 0",
          "GroundTruthState<br>[[10.43069704]\n [ 1.30019154]\n [52.55178193]\n [ 1.64771245]]<br>2024-03-10 00:55:10.405794<br>index: 0",
          "GroundTruthState<br>[[11.78337083]\n [ 1.35441326]\n [54.24696203]\n [ 1.70933302]]<br>2024-03-10 00:55:11.405794<br>index: 0",
          "GroundTruthState<br>[[13.19867429]\n [ 1.35459995]\n [56.02253401]\n [ 1.86730143]]<br>2024-03-10 00:55:12.405794<br>index: 0",
          "GroundTruthState<br>[[14.56897751]\n [ 1.55422497]\n [57.99389741]\n [ 2.10254488]]<br>2024-03-10 00:55:13.405794<br>index: 0",
          "GroundTruthState<br>[[16.21263051]\n [ 1.67487586]\n [59.96641388]\n [ 1.93311487]]<br>2024-03-10 00:55:14.405794<br>index: 0",
          "GroundTruthState<br>[[17.93882327]\n [ 1.88615148]\n [61.78060896]\n [ 1.79905366]]<br>2024-03-10 00:55:15.405794<br>index: 0",
          "GroundTruthState<br>[[19.7278799 ]\n [ 1.7835685 ]\n [63.6157388 ]\n [ 1.96678378]]<br>2024-03-10 00:55:16.405794<br>index: 0",
          "GroundTruthState<br>[[21.60196693]\n [ 1.99034109]\n [65.64221891]\n [ 2.0391269 ]]<br>2024-03-10 00:55:17.405794<br>index: 0",
          "GroundTruthState<br>[[23.55107368]\n [ 1.84123259]\n [67.66992513]\n [ 1.96505288]]<br>2024-03-10 00:55:18.405794<br>index: 0",
          "GroundTruthState<br>[[25.48731444]\n [ 2.00509755]\n [69.71568713]\n [ 2.05509294]]<br>2024-03-10 00:55:19.405794<br>index: 0",
          "GroundTruthState<br>[[27.45778574]\n [ 1.97431095]\n [71.73990806]\n [ 2.05158193]]<br>2024-03-10 00:55:20.405794<br>index: 0",
          "GroundTruthState<br>[[29.37622266]\n [ 1.9153917 ]\n [73.8303664 ]\n [ 2.26927067]]<br>2024-03-10 00:55:21.405794<br>index: 0",
          "GroundTruthState<br>[[31.275566  ]\n [ 1.97316839]\n [76.17293355]\n [ 2.32194663]]<br>2024-03-10 00:55:22.405794<br>index: 0",
          "GroundTruthState<br>[[33.4279665 ]\n [ 2.18964482]\n [78.45741943]\n [ 2.23401351]]<br>2024-03-10 00:55:23.405794<br>index: 0",
          "GroundTruthState<br>[[35.63939577]\n [ 2.21423256]\n [80.6807713 ]\n [ 2.23223482]]<br>2024-03-10 00:55:24.405794<br>index: 0",
          "GroundTruthState<br>[[38.0659027 ]\n [ 2.51686202]\n [82.86322446]\n [ 2.24572837]]<br>2024-03-10 00:55:25.405794<br>index: 0",
          "GroundTruthState<br>[[40.72465935]\n [ 2.63266849]\n [85.1598949 ]\n [ 2.31357818]]<br>2024-03-10 00:55:26.405794<br>index: 0",
          "GroundTruthState<br>[[43.40785369]\n [ 2.64723734]\n [87.32479158]\n [ 2.14783202]]<br>2024-03-10 00:55:27.405794<br>index: 0",
          "GroundTruthState<br>[[46.14860528]\n [ 2.82168067]\n [89.42459182]\n [ 1.9511331 ]]<br>2024-03-10 00:55:28.405794<br>index: 0",
          "GroundTruthState<br>[[48.96631804]\n [ 2.85134856]\n [91.45561827]\n [ 2.0841434 ]]<br>2024-03-10 00:55:29.405794<br>index: 0",
          "GroundTruthState<br>[[51.83448056]\n [ 2.84501813]\n [93.54743047]\n [ 2.1974087 ]]<br>2024-03-10 00:55:30.405794<br>index: 0",
          "GroundTruthState<br>[[54.93573147]\n [ 3.30596539]\n [95.73985124]\n [ 2.19474482]]<br>2024-03-10 00:55:31.405794<br>index: 0",
          "GroundTruthState<br>[[58.23477946]\n [ 3.28049864]\n [97.92209121]\n [ 2.20782869]]<br>2024-03-10 00:55:32.405794<br>index: 0",
          "GroundTruthState<br>[[61.74112102]\n [ 3.58283989]\n [99.98782594]\n [ 1.9906089 ]]<br>2024-03-10 00:55:33.405794<br>index: 0",
          "GroundTruthState<br>[[ 65.28605468]\n [  3.52830575]\n [102.05102907]\n [  2.08706834]]<br>2024-03-10 00:55:34.405794<br>index: 0",
          "GroundTruthState<br>[[ 68.77282285]\n [  3.51747969]\n [104.1320861 ]\n [  2.01734972]]<br>2024-03-10 00:55:35.405794<br>index: 0",
          "GroundTruthState<br>[[ 72.27382398]\n [  3.50264946]\n [106.22506292]\n [  2.06658518]]<br>2024-03-10 00:55:36.405794<br>index: 0",
          "GroundTruthState<br>[[ 75.73499004]\n [  3.19240117]\n [108.33098997]\n [  2.02954791]]<br>2024-03-10 00:55:37.405794<br>index: 0",
          "GroundTruthState<br>[[ 78.73406822]\n [  2.89008448]\n [110.22640525]\n [  1.8992766 ]]<br>2024-03-10 00:55:38.405794<br>index: 0",
          "GroundTruthState<br>[[ 81.63176964]\n [  2.98616522]\n [112.20326298]\n [  2.03434892]]<br>2024-03-10 00:55:39.405794<br>index: 0",
          "GroundTruthState<br>[[ 84.57096627]\n [  2.94700279]\n [114.22076005]\n [  2.0441866 ]]<br>2024-03-10 00:55:40.405794<br>index: 0",
          "GroundTruthState<br>[[ 87.62585935]\n [  3.1666455 ]\n [116.23578441]\n [  2.08935822]]<br>2024-03-10 00:55:41.405794<br>index: 0",
          "GroundTruthState<br>[[ 90.70249823]\n [  2.93347279]\n [118.43502031]\n [  2.29632199]]<br>2024-03-10 00:55:42.405794<br>index: 0",
          "GroundTruthState<br>[[ 93.60484898]\n [  3.03917894]\n [120.56898463]\n [  2.01708724]]<br>2024-03-10 00:55:43.405794<br>index: 0",
          "GroundTruthState<br>[[ 96.62168122]\n [  3.07211994]\n [122.70753157]\n [  2.25468629]]<br>2024-03-10 00:55:44.405794<br>index: 0",
          "GroundTruthState<br>[[ 99.67999514]\n [  3.06576096]\n [125.02557567]\n [  2.29132511]]<br>2024-03-10 00:55:45.405794<br>index: 0",
          "GroundTruthState<br>[[102.69185672]\n [  2.99636998]\n [127.26604235]\n [  2.15379625]]<br>2024-03-10 00:55:46.405794<br>index: 0",
          "GroundTruthState<br>[[105.66071771]\n [  2.87782762]\n [129.32545847]\n [  1.88472287]]<br>2024-03-10 00:55:47.405794<br>index: 0",
          "GroundTruthState<br>[[108.42525158]\n [  2.71673328]\n [131.07183735]\n [  1.73931256]]<br>2024-03-10 00:55:48.405794<br>index: 0"
         ],
         "type": "scatter",
         "x": [
          -6.075457790076113,
          -4.5069866325228025,
          -2.8368971777765153,
          -1.260579016917018,
          0.32916317468802686,
          1.8850175881666327,
          3.390600670235095,
          4.862534516806671,
          6.33207337700526,
          7.720320831063729,
          9.180109284508584,
          10.430697040676709,
          11.783370825499194,
          13.19867429366351,
          14.568977509227834,
          16.212630506675772,
          17.938823265944407,
          19.72787990451282,
          21.601966930814065,
          23.55107368385035,
          25.487314440864875,
          27.45778574469905,
          29.376222663597698,
          31.27556600256788,
          33.42796649934722,
          35.63939577268038,
          38.0659027008848,
          40.72465935372254,
          43.407853691383856,
          46.14860528323501,
          48.96631804230176,
          51.834480556595196,
          54.93573146650488,
          58.23477945784279,
          61.74112102467972,
          65.28605468126847,
          68.77282284510534,
          72.27382397840651,
          75.73499004482484,
          78.73406821622132,
          81.63176964006782,
          84.5709662733044,
          87.62585934665383,
          90.70249823372696,
          93.60484898461463,
          96.62168122441348,
          99.67999513853566,
          102.691856717158,
          105.66071770505144,
          108.42525157591389
         ],
         "y": [
          34.45923919058518,
          36.08742887974784,
          37.62212417124505,
          39.22622617668711,
          40.80097992986602,
          42.26872645653423,
          43.83864664710129,
          45.54459497228568,
          47.28214746008438,
          49.134748260396904,
          50.887607187031385,
          52.55178193206889,
          54.24696203394817,
          56.0225340072381,
          57.993897411375826,
          59.96641387630622,
          61.780608959233476,
          63.615738801921154,
          65.64221891337397,
          67.66992512664646,
          69.71568712981919,
          71.73990806092543,
          73.8303664008879,
          76.17293355025868,
          78.45741943132164,
          80.68077129650769,
          82.86322446472663,
          85.15989490014306,
          87.32479158176454,
          89.42459182469118,
          91.45561826820382,
          93.54743046814787,
          95.73985124046256,
          97.92209121158098,
          99.987825936673,
          102.05102907248516,
          104.13208609841014,
          106.22506291596268,
          108.3309899666616,
          110.22640525438217,
          112.20326298029705,
          114.22076005350117,
          116.2357844059981,
          118.4350203081805,
          120.56898463223727,
          122.70753157192532,
          125.02557566577242,
          127.26604235151149,
          129.32545846675555,
          131.07183735461345
         ]
        },
        {
         "legendgroup": "Measurements<br>(Detections)",
         "legendrank": 200,
         "marker": {
          "color": "#636EFA"
         },
         "mode": "markers",
         "name": "Measurements<br>(Detections)",
         "showlegend": true,
         "text": [
          "TrueDetection<br>[[Bearing(1.3085541120997348)]\n [71.59413551472592]]<br>2024-03-10 00:55:18.405794",
          "TrueDetection<br>[[Bearing(1.2914011779993455)]\n [66.89413795778725]]<br>2024-03-10 00:55:16.405794",
          "TrueDetection<br>[[Bearing(0.9788436312162361)]\n [110.3921516019565]]<br>2024-03-10 00:55:31.405794",
          "TrueDetection<br>[[Bearing(1.3300803338325569)]\n [55.64817142424719]]<br>2024-03-10 00:55:11.405794",
          "TrueDetection<br>[[Bearing(1.7849031808950375)]\n [36.39587205022138]]<br>2024-03-10 00:55:00.405794",
          "TrueDetection<br>[[Bearing(1.5063101187770362)]\n [40.43058989015857]]<br>2024-03-10 00:55:03.405794",
          "TrueDetection<br>[[Bearing(1.1190040720255965)]\n [103.91503700005029]]<br>2024-03-10 00:55:29.405794",
          "TrueDetection<br>[[Bearing(0.8529574205815096)]\n [152.56169254859014]]<br>2024-03-10 00:55:43.405794",
          "TrueDetection<br>[[Bearing(1.3340614045527488)]\n [58.080496213496275]]<br>2024-03-10 00:55:12.405794",
          "TrueDetection<br>[[Bearing(1.6779598276569647)]\n [38.23186124045029]]<br>2024-03-10 00:55:01.405794",
          "TrueDetection<br>[[Bearing(1.6055131987946254)]\n [44.4941601887107]]<br>2024-03-10 00:55:05.405794",
          "TrueDetection<br>[[Bearing(0.9787194265785146)]\n [117.0446201959726]]<br>2024-03-10 00:55:33.405794",
          "TrueDetection<br>[[Bearing(1.2341935169678084)]\n [59.86958402784109]]<br>2024-03-10 00:55:13.405794",
          "TrueDetection<br>[[Bearing(0.9064695213332454)]\n [135.49858237982417]]<br>2024-03-10 00:55:38.405794",
          "TrueDetection<br>[[Bearing(1.3284873287604952)]\n [51.978853183328916]]<br>2024-03-10 00:55:09.405794",
          "TrueDetection<br>[[Bearing(1.193742240711262)]\n [91.63056259713134]]<br>2024-03-10 00:55:25.405794",
          "TrueDetection<br>[[Bearing(1.32030748001897)]\n [62.280139745028244]]<br>2024-03-10 00:55:14.405794",
          "TrueDetection<br>[[Bearing(1.0020061315395354)]\n [128.59863903994184]]<br>2024-03-10 00:55:36.405794",
          "TrueDetection<br>[[Bearing(0.7943706478611694)]\n [149.08234810211644]]<br>2024-03-10 00:55:42.405794",
          "TrueDetection<br>[[Bearing(0.9491756436986627)]\n [120.96586389033054]]<br>2024-03-10 00:55:34.405794",
          "TrueDetection<br>[[Bearing(0.8708120366392276)]\n [138.67732587044748]]<br>2024-03-10 00:55:39.405794",
          "TrueDetection<br>[[Bearing(1.55346347228312)]\n [39.89786627963626]]<br>2024-03-10 00:55:02.405794",
          "TrueDetection<br>[[Bearing(0.8425892793174143)]\n [166.96272957706225]]<br>2024-03-10 00:55:47.405794",
          "TrueDetection<br>[[Bearing(1.4169991410969285)]\n [53.96386429771457]]<br>2024-03-10 00:55:10.405794",
          "TrueDetection<br>[[Bearing(1.1032856930120705)]\n [97.411417305145]]<br>2024-03-10 00:55:27.405794",
          "TrueDetection<br>[[Bearing(1.6599803006777734)]\n [34.27601977129833]]<br>2024-03-10 00:54:59.405794",
          "TrueDetection<br>[[Bearing(1.1334855584570924)]\n [88.2986245969877]]<br>2024-03-10 00:55:24.405794",
          "TrueDetection<br>[[Bearing(1.2050637607990176)]\n [85.0730052976553]]<br>2024-03-10 00:55:23.405794",
          "TrueDetection<br>[[Bearing(1.1555442516690784)]\n [79.30118974637956]]<br>2024-03-10 00:55:21.405794",
          "TrueDetection<br>[[Bearing(0.830070286694899)]\n [164.06691977116384]]<br>2024-03-10 00:55:46.405794",
          "TrueDetection<br>[[Bearing(1.412007742170637)]\n [47.244459513703205]]<br>2024-03-10 00:55:07.405794",
          "TrueDetection<br>[[Bearing(1.0134297423484275)]\n [141.67078910582046]]<br>2024-03-10 00:55:40.405794",
          "TrueDetection<br>[[Bearing(1.2846517992175066)]\n [69.25736621670139]]<br>2024-03-10 00:55:17.405794",
          "TrueDetection<br>[[Bearing(0.8415964813814649)]\n [170.13357255852324]]<br>2024-03-10 00:55:48.405794",
          "TrueDetection<br>[[Bearing(1.014075349101546)]\n [124.64957023684998]]<br>2024-03-10 00:55:35.405794",
          "TrueDetection<br>[[Bearing(0.9405149980879957)]\n [132.51814082353565]]<br>2024-03-10 00:55:37.405794",
          "TrueDetection<br>[[Bearing(0.8576811447697144)]\n [160.0619188460738]]<br>2024-03-10 00:55:45.405794",
          "TrueDetection<br>[[Bearing(1.3526200958156416)]\n [49.32173513221956]]<br>2024-03-10 00:55:08.405794",
          "TrueDetection<br>[[Bearing(1.2743735129528115)]\n [77.15249030371781]]<br>2024-03-10 00:55:20.405794",
          "TrueDetection<br>[[Bearing(0.960212554823527)]\n [100.31929053169966]]<br>2024-03-10 00:55:28.405794",
          "TrueDetection<br>[[Bearing(0.8670763941876434)]\n [155.5641896283944]]<br>2024-03-10 00:55:44.405794",
          "TrueDetection<br>[[Bearing(1.4302273003781014)]\n [45.36959030255932]]<br>2024-03-10 00:55:06.405794",
          "TrueDetection<br>[[Bearing(1.2180151957245942)]\n [82.43520498234422]]<br>2024-03-10 00:55:22.405794",
          "TrueDetection<br>[[Bearing(1.3514867579362093)]\n [64.20605076806865]]<br>2024-03-10 00:55:15.405794",
          "TrueDetection<br>[[Bearing(1.4795856672272478)]\n [42.56178593801173]]<br>2024-03-10 00:55:04.405794",
          "TrueDetection<br>[[Bearing(0.9661152667451312)]\n [146.3566401143514]]<br>2024-03-10 00:55:41.405794",
          "TrueDetection<br>[[Bearing(1.0096331726141763)]\n [114.23374000344322]]<br>2024-03-10 00:55:32.405794",
          "TrueDetection<br>[[Bearing(1.0289904702880275)]\n [106.96127879362928]]<br>2024-03-10 00:55:30.405794",
          "TrueDetection<br>[[Bearing(1.1879328220999463)]\n [74.35101556548392]]<br>2024-03-10 00:55:19.405794",
          "TrueDetection<br>[[Bearing(1.0742500323004514)]\n [94.56484389986679]]<br>2024-03-10 00:55:26.405794"
         ],
         "type": "scatter",
         "x": [
          18.560547498756225,
          18.44768423721559,
          61.5968926351818,
          13.266414807537997,
          -7.733204210213209,
          2.605408800653244,
          45.36708815475158,
          100.34873643604887,
          13.62161128481102,
          -4.089222812636369,
          -1.5443877885982173,
          65.32091739468727,
          19.773873315101113,
          83.53883867469874,
          12.47205596047859,
          33.736824389971304,
          15.437850283941504,
          69.26491397961657,
          104.46705504457434,
          70.44488646794612,
          89.33671984896442,
          0.6915092855674829,
          111.11912307429287,
          8.266810363307352,
          43.8999596733179,
          -3.052820981956969,
          37.394894969616104,
          30.424957145464383,
          31.991733202055723,
          110.71627729053833,
          7.470395404969759,
          74.93721495720126,
          19.54828126573274,
          113.35543417960051,
          65.8654784533134,
          78.10248910905086,
          104.71139322585428,
          10.675662422768838,
          22.53631237263807,
          57.51764890117838,
          100.6591132679697,
          6.356576821322222,
          28.482104959831258,
          13.968397528129586,
          3.876708041880184,
          83.20370871399442,
          60.79192097096103,
          55.15822557900075,
          27.775917121696093,
          45.0499137050457
         ],
         "y": [
          69.14641217480018,
          64.30014494073447,
          91.60922416983583,
          54.04369732926068,
          35.5648289035562,
          40.34655429956406,
          93.4888347722915,
          114.91388571003482,
          56.46056806667344,
          38.01254359678736,
          44.46734933922953,
          97.12168072853721,
          56.509831231256186,
          106.68237089521705,
          50.46037057308193,
          85.19381833177242,
          60.33646149113199,
          108.35119590628233,
          106.35873695166983,
          98.3374709724231,
          106.06767272456733,
          39.891873214675066,
          124.61578373152966,
          53.326902182287576,
          86.95848297939749,
          34.13979811619508,
          79.98918011788308,
          79.44644871277471,
          72.56175095682147,
          121.07790924079478,
          46.65010340004991,
          120.22905763717883,
          66.44130849727519,
          126.86992572505332,
          105.82652837709222,
          107.05633490035522,
          121.05924992906422,
          48.152505524509344,
          73.78767772947019,
          82.19294445184659,
          118.60843144922326,
          44.92208427195597,
          77.3584689451534,
          62.668180328839554,
          42.3848647159709,
          120.40518660671782,
          96.71447513084426,
          91.64215903253564,
          68.96790517093804,
          83.1445426770399
         ]
        },
        {
         "legendgroup": "Sensors",
         "legendrank": 50,
         "marker": {
          "color": "black",
          "symbol": "x"
         },
         "mode": "markers",
         "name": "Sensors",
         "showlegend": true,
         "type": "scatter",
         "x": [
          0
         ],
         "y": [
          0
         ]
        },
        {
         "legendgroup": "EKF",
         "legendrank": 300,
         "line": {
          "color": "orange"
         },
         "marker": {
          "symbol": [
           "square",
           "square",
           "square",
           "square",
           "square",
           "square",
           "square",
           "square",
           "square",
           "square",
           "square",
           "square",
           "square",
           "square",
           "square",
           "square",
           "square",
           "square",
           "square",
           "square",
           "square",
           "square",
           "square",
           "square",
           "square",
           "square",
           "square",
           "square",
           "square",
           "square",
           "square",
           "square",
           "square",
           "square",
           "square",
           "square",
           "square",
           "square",
           "square",
           "square",
           "square",
           "square",
           "square",
           "square",
           "square",
           "square",
           "square",
           "square",
           "square",
           "square"
          ]
         },
         "mode": "markers+lines",
         "name": "EKF",
         "showlegend": true,
         "text": [
          "GaussianStateUpdate<br>[[-3.05282098]\n [ 0.        ]\n [34.13979812]\n [ 0.        ]]<br>2024-03-10 00:54:59.405794",
          "GaussianStateUpdate<br>[[-5.59187724]\n [-0.62704622]\n [35.86492733]\n [ 1.72730639]]<br>2024-03-10 00:55:00.405794",
          "GaussianStateUpdate<br>[[-5.30288495]\n [-0.28679905]\n [37.84700471]\n [ 1.90414494]]<br>2024-03-10 00:55:01.405794",
          "GaussianStateUpdate<br>[[-2.5574951 ]\n [ 1.02759095]\n [39.97079512]\n [ 1.88550828]]<br>2024-03-10 00:55:02.405794",
          "GaussianStateUpdate<br>[[ 0.12355997]\n [ 1.79939842]\n [40.65445394]\n [ 0.72099956]]<br>2024-03-10 00:55:03.405794",
          "GaussianStateUpdate<br>[[ 3.1967638 ]\n [ 2.31564215]\n [42.33061688]\n [ 1.53661792]]<br>2024-03-10 00:55:04.405794",
          "GaussianStateUpdate<br>[[ 2.1489586 ]\n [ 1.09543861]\n [44.51786137]\n [ 2.05412491]]<br>2024-03-10 00:55:05.405794",
          "GaussianStateUpdate<br>[[ 5.10790928]\n [ 1.64806632]\n [45.26601669]\n [ 1.0212702 ]]<br>2024-03-10 00:55:06.405794",
          "GaussianStateUpdate<br>[[ 7.27679803]\n [ 1.84678686]\n [46.63017112]\n [ 1.34588055]]<br>2024-03-10 00:55:07.405794",
          "GaussianStateUpdate<br>[[ 9.9640837 ]\n [ 2.18506156]\n [48.25368105]\n [ 1.64642268]]<br>2024-03-10 00:55:08.405794",
          "GaussianStateUpdate<br>[[12.46835825]\n [ 2.37059764]\n [50.38526164]\n [ 2.09433485]]<br>2024-03-10 00:55:09.405794",
          "GaussianStateUpdate<br>[[11.73449662]\n [ 1.24682109]\n [52.82526723]\n [ 2.01797154]]<br>2024-03-10 00:55:10.405794",
          "GaussianStateUpdate<br>[[13.25034119]\n [ 1.22308912]\n [54.13491917]\n [ 1.46276581]]<br>2024-03-10 00:55:11.405794",
          "GaussianStateUpdate<br>[[14.25907998]\n [ 1.21770374]\n [56.22421625]\n [ 1.97295705]]<br>2024-03-10 00:55:12.405794",
          "GaussianStateUpdate<br>[[17.37679311]\n [ 1.78157575]\n [57.37414956]\n [ 1.53058886]]<br>2024-03-10 00:55:13.405794",
          "GaussianStateUpdate<br>[[17.71028252]\n [ 1.38371251]\n [59.67831883]\n [ 1.9815809 ]]<br>2024-03-10 00:55:14.405794",
          "GaussianStateUpdate<br>[[16.92248588]\n [ 0.64039359]\n [62.02407705]\n [ 1.93197766]]<br>2024-03-10 00:55:15.405794",
          "GaussianStateUpdate<br>[[17.86909502]\n [ 0.82596212]\n [64.39115177]\n [ 2.34437441]]<br>2024-03-10 00:55:16.405794",
          "GaussianStateUpdate<br>[[19.04407794]\n [ 0.92593667]\n [66.5951899 ]\n [ 2.27878894]]<br>2024-03-10 00:55:17.405794",
          "GaussianStateUpdate<br>[[19.35618478]\n [ 0.7301205 ]\n [68.94450522]\n [ 2.24420442]]<br>2024-03-10 00:55:18.405794",
          "GaussianStateUpdate<br>[[23.33029522]\n [ 1.73127692]\n [70.61915764]\n [ 2.27916602]]<br>2024-03-10 00:55:19.405794",
          "GaussianStateUpdate<br>[[24.11629298]\n [ 1.47940033]\n [73.27807983]\n [ 2.44954925]]<br>2024-03-10 00:55:20.405794",
          "GaussianStateUpdate<br>[[28.1867199 ]\n [ 2.07617951]\n [74.2558326 ]\n [ 1.71039145]]<br>2024-03-10 00:55:21.405794",
          "GaussianStateUpdate<br>[[30.01555186]\n [ 2.13721682]\n [76.68899271]\n [ 2.2557156 ]]<br>2024-03-10 00:55:22.405794",
          "GaussianStateUpdate<br>[[31.4706334 ]\n [ 1.9130521 ]\n [79.06340235]\n [ 2.2133471 ]]<br>2024-03-10 00:55:23.405794",
          "GaussianStateUpdate<br>[[34.99258713]\n [ 2.44330536]\n [81.02629356]\n [ 2.35524129]]<br>2024-03-10 00:55:24.405794",
          "GaussianStateUpdate<br>[[36.19548652]\n [ 2.17637838]\n [84.15518629]\n [ 2.69895331]]<br>2024-03-10 00:55:25.405794",
          "GaussianStateUpdate<br>[[40.8865794 ]\n [ 2.73076216]\n [85.36465614]\n [ 2.11910734]]<br>2024-03-10 00:55:26.405794",
          "GaussianStateUpdate<br>[[43.44974721]\n [ 2.60867352]\n [87.23046674]\n [ 1.88290913]]<br>2024-03-10 00:55:27.405794",
          "GaussianStateUpdate<br>[[50.37590904]\n [ 3.66598333]\n [86.88959041]\n [ 1.26413788]]<br>2024-03-10 00:55:28.405794",
          "GaussianStateUpdate<br>[[51.73761884]\n [ 3.3089874 ]\n [90.07175105]\n [ 2.09748654]]<br>2024-03-10 00:55:29.405794",
          "GaussianStateUpdate<br>[[55.1626582 ]\n [ 3.19500328]\n [91.6938105 ]\n [ 1.80505815]]<br>2024-03-10 00:55:30.405794",
          "GaussianStateUpdate<br>[[59.56215672]\n [ 3.5373405 ]\n [92.93168569]\n [ 1.73869251]]<br>2024-03-10 00:55:31.405794",
          "GaussianStateUpdate<br>[[62.63398206]\n [ 3.58044651]\n [95.46563103]\n [ 2.16091478]]<br>2024-03-10 00:55:32.405794",
          "GaussianStateUpdate<br>[[65.68357228]\n [ 3.13584692]\n [97.01120241]\n [ 1.59841838]]<br>2024-03-10 00:55:33.405794",
          "GaussianStateUpdate<br>[[69.67111981]\n [ 3.57607717]\n [98.78337428]\n [ 1.96531715]]<br>2024-03-10 00:55:34.405794",
          "GaussianStateUpdate<br>[[ 70.89567629]\n [  3.09856966]\n [102.54866172]\n [  2.44404966]]<br>2024-03-10 00:55:35.405794",
          "GaussianStateUpdate<br>[[ 72.4665895 ]\n [  2.80676324]\n [106.2389445 ]\n [  2.78170025]]<br>2024-03-10 00:55:36.405794",
          "GaussianStateUpdate<br>[[ 76.20147095]\n [  3.02779458]\n [108.41679663]\n [  2.67344436]]<br>2024-03-10 00:55:37.405794",
          "GaussianStateUpdate<br>[[ 79.94315484]\n [  2.87468127]\n [109.55959156]\n [  1.8616431 ]]<br>2024-03-10 00:55:38.405794",
          "GaussianStateUpdate<br>[[ 84.85333988]\n [  3.23478833]\n [109.74855331]\n [  1.40192155]]<br>2024-03-10 00:55:39.405794",
          "GaussianStateUpdate<br>[[ 83.97481321]\n [  2.37795425]\n [114.22174239]\n [  2.06711253]]<br>2024-03-10 00:55:40.405794",
          "GaussianStateUpdate<br>[[ 84.55000418]\n [  2.59221278]\n [119.30546791]\n [  3.32065476]]<br>2024-03-10 00:55:41.405794",
          "GaussianStateUpdate<br>[[ 92.65283834]\n [  3.36347047]\n [117.23423583]\n [  1.64002115]]<br>2024-03-10 00:55:42.405794",
          "GaussianStateUpdate<br>[[ 96.72911408]\n [  3.4175502 ]\n [118.03231353]\n [  1.30779182]]<br>2024-03-10 00:55:43.405794",
          "GaussianStateUpdate<br>[[100.19414013]\n [  3.32860331]\n [119.03788955]\n [  1.14287791]]<br>2024-03-10 00:55:44.405794",
          "GaussianStateUpdate<br>[[104.33414843]\n [  4.1254921 ]\n [121.15504535]\n [  1.94138509]]<br>2024-03-10 00:55:45.405794",
          "GaussianStateUpdate<br>[[109.12420304]\n [  4.25766186]\n [122.51742972]\n [  1.82072561]]<br>2024-03-10 00:55:46.405794",
          "GaussianStateUpdate<br>[[111.8386752 ]\n [  3.41365213]\n [124.18655963]\n [  1.22646253]]<br>2024-03-10 00:55:47.405794",
          "GaussianStateUpdate<br>[[114.63759729]\n [  3.21263206]\n [125.74670299]\n [  1.2104941 ]]<br>2024-03-10 00:55:48.405794"
         ],
         "type": "scatter",
         "x": [
          -3.052820981956969,
          -5.591877244789243,
          -5.30288495486024,
          -2.55749509852171,
          0.12355996679618197,
          3.1967637998289806,
          2.148958602046168,
          5.107909281868392,
          7.276798025236365,
          9.964083695215457,
          12.468358247917093,
          11.734496619370951,
          13.250341191502626,
          14.25907997681099,
          17.376793109948018,
          17.710282515411567,
          16.922485879938193,
          17.869095021267697,
          19.044077944006823,
          19.356184780481662,
          23.33029521907055,
          24.11629298050639,
          28.186719899637534,
          30.015551859439082,
          31.470633397312938,
          34.992587134575444,
          36.195486519169464,
          40.88657940339758,
          43.449747205011235,
          50.37590904001671,
          51.73761884103884,
          55.1626581965913,
          59.56215672082974,
          62.63398205836667,
          65.6835722822361,
          69.67111981446097,
          70.89567628908911,
          72.46658950100564,
          76.20147095204571,
          79.94315484018809,
          84.8533398782292,
          83.9748132107395,
          84.5500041763328,
          92.65283834398689,
          96.72911407718189,
          100.19414013269311,
          104.33414843402619,
          109.12420303939784,
          111.83867520372887,
          114.63759728797203
         ],
         "y": [
          34.13979811619508,
          35.864927325854495,
          37.8470047052074,
          39.970795123519714,
          40.654453940432155,
          42.33061687809712,
          44.517861374250764,
          45.26601669407921,
          46.630171118321115,
          48.25368105310775,
          50.38526163944632,
          52.825267231622156,
          54.13491916919213,
          56.224216248797184,
          57.37414956262435,
          59.67831882682448,
          62.02407704502393,
          64.39115177275639,
          66.59518989616136,
          68.94450521819276,
          70.61915763658271,
          73.2780798292534,
          74.25583259765014,
          76.68899271119815,
          79.06340234950183,
          81.02629356215937,
          84.15518629217591,
          85.36465613523757,
          87.23046673845099,
          86.88959040866494,
          90.07175105184159,
          91.69381050052966,
          92.9316856860662,
          95.46563102933816,
          97.01120241435864,
          98.78337428025895,
          102.5486617172815,
          106.23894449845383,
          108.41679662993616,
          109.55959155633278,
          109.74855331061282,
          114.22174239033755,
          119.30546791065086,
          117.23423583464785,
          118.0323135296001,
          119.03788955018719,
          121.15504534709936,
          122.51742972162955,
          124.18655963019535,
          125.74670299279836
         ]
        },
        {
         "legendgroup": "UKF",
         "legendrank": 300,
         "line": {
          "color": "blue"
         },
         "marker": {
          "symbol": [
           "square",
           "square",
           "square",
           "square",
           "square",
           "square",
           "square",
           "square",
           "square",
           "square",
           "square",
           "square",
           "square",
           "square",
           "square",
           "square",
           "square",
           "square",
           "square",
           "square",
           "square",
           "square",
           "square",
           "square",
           "square",
           "square",
           "square",
           "square",
           "square",
           "square",
           "square",
           "square",
           "square",
           "square",
           "square",
           "square",
           "square",
           "square",
           "square",
           "square",
           "square",
           "square",
           "square",
           "square",
           "square",
           "square",
           "square",
           "square",
           "square",
           "square"
          ]
         },
         "mode": "markers+lines",
         "name": "UKF",
         "showlegend": true,
         "text": [
          "GaussianStateUpdate<br>[[-3.05282098]\n [ 0.        ]\n [34.13979812]\n [ 0.        ]]<br>2024-03-10 00:54:59.405794",
          "GaussianStateUpdate<br>[[-5.58436733]\n [-0.61986205]\n [35.77580725]\n [ 1.64592115]]<br>2024-03-10 00:55:00.405794",
          "GaussianStateUpdate<br>[[-5.31954586]\n [-0.29514777]\n [37.77108721]\n [ 1.8973261 ]]<br>2024-03-10 00:55:01.405794",
          "GaussianStateUpdate<br>[[-2.56480425]\n [ 1.02452905]\n [39.90669158]\n [ 1.89573829]]<br>2024-03-10 00:55:02.405794",
          "GaussianStateUpdate<br>[[ 0.1443739 ]\n [ 1.80809975]\n [40.60041193]\n [ 0.750406  ]]<br>2024-03-10 00:55:03.405794",
          "GaussianStateUpdate<br>[[ 3.19242902]\n [ 2.30610732]\n [42.24446223]\n [ 1.49441117]]<br>2024-03-10 00:55:04.405794",
          "GaussianStateUpdate<br>[[ 2.14573814]\n [ 1.09079408]\n [44.42929844]\n [ 2.03596236]]<br>2024-03-10 00:55:05.405794",
          "GaussianStateUpdate<br>[[ 5.06108129]\n [ 1.63978302]\n [45.1994853 ]\n [ 1.05543281]]<br>2024-03-10 00:55:06.405794",
          "GaussianStateUpdate<br>[[ 7.22089523]\n [ 1.83749448]\n [46.55835444]\n [ 1.33827565]]<br>2024-03-10 00:55:07.405794",
          "GaussianStateUpdate<br>[[ 9.92548326]\n [ 2.18221672]\n [48.1760758 ]\n [ 1.63301205]]<br>2024-03-10 00:55:08.405794",
          "GaussianStateUpdate<br>[[12.439526  ]\n [ 2.36920722]\n [50.30227244]\n [ 2.07779581]]<br>2024-03-10 00:55:09.405794",
          "GaussianStateUpdate<br>[[11.72001504]\n [ 1.25818274]\n [52.74760087]\n [ 2.03128264]]<br>2024-03-10 00:55:10.405794",
          "GaussianStateUpdate<br>[[13.22355388]\n [ 1.22948197]\n [54.06671795]\n [ 1.48192719]]<br>2024-03-10 00:55:11.405794",
          "GaussianStateUpdate<br>[[14.21722927]\n [ 1.21217879]\n [56.14436114]\n [ 1.95031334]]<br>2024-03-10 00:55:12.405794",
          "GaussianStateUpdate<br>[[17.3465882 ]\n [ 1.78737598]\n [57.29590362]\n [ 1.53763489]]<br>2024-03-10 00:55:13.405794",
          "GaussianStateUpdate<br>[[17.67260042]\n [ 1.38042966]\n [59.59559543]\n [ 1.96905037]]<br>2024-03-10 00:55:14.405794",
          "GaussianStateUpdate<br>[[16.87732721]\n [ 0.64412796]\n [61.9497765 ]\n [ 1.94388456]]<br>2024-03-10 00:55:15.405794",
          "GaussianStateUpdate<br>[[17.84214182]\n [ 0.82719257]\n [64.3022989 ]\n [ 2.32489638]]<br>2024-03-10 00:55:16.405794",
          "GaussianStateUpdate<br>[[19.02584936]\n [ 0.9321828 ]\n [66.506252  ]\n [ 2.27761624]]<br>2024-03-10 00:55:17.405794",
          "GaussianStateUpdate<br>[[19.34062792]\n [ 0.73617795]\n [68.85681337]\n [ 2.24693111]]<br>2024-03-10 00:55:18.405794",
          "GaussianStateUpdate<br>[[23.31488047]\n [ 1.73064967]\n [70.52329292]\n [ 2.26280798]]<br>2024-03-10 00:55:19.405794",
          "GaussianStateUpdate<br>[[24.1040397 ]\n [ 1.48143131]\n [73.1810488 ]\n [ 2.44304173]]<br>2024-03-10 00:55:20.405794",
          "GaussianStateUpdate<br>[[28.15552311]\n [ 2.08294024]\n [74.17606607]\n [ 1.73200496]]<br>2024-03-10 00:55:21.405794",
          "GaussianStateUpdate<br>[[29.93312516]\n [ 2.11571635]\n [76.61435014]\n [ 2.23807564]]<br>2024-03-10 00:55:22.405794",
          "GaussianStateUpdate<br>[[31.39382141]\n [ 1.90895586]\n [78.99121124]\n [ 2.22009764]]<br>2024-03-10 00:55:23.405794",
          "GaussianStateUpdate<br>[[34.93013092]\n [ 2.43624228]\n [80.94323059]\n [ 2.34164395]]<br>2024-03-10 00:55:24.405794",
          "GaussianStateUpdate<br>[[36.13832648]\n [ 2.17299002]\n [84.06682394]\n [ 2.68781859]]<br>2024-03-10 00:55:25.405794",
          "GaussianStateUpdate<br>[[40.82636947]\n [ 2.7376354 ]\n [85.28825528]\n [ 2.13270906]]<br>2024-03-10 00:55:26.405794",
          "GaussianStateUpdate<br>[[43.4120789 ]\n [ 2.6198698 ]\n [87.14668679]\n [ 1.89294197]]<br>2024-03-10 00:55:27.405794",
          "GaussianStateUpdate<br>[[50.344655  ]\n [ 3.66861393]\n [86.7976822 ]\n [ 1.25945179]]<br>2024-03-10 00:55:28.405794",
          "GaussianStateUpdate<br>[[51.63544159]\n [ 3.28052644]\n [90.00266704]\n [ 2.07757969]]<br>2024-03-10 00:55:29.405794",
          "GaussianStateUpdate<br>[[55.02811492]\n [ 3.19163714]\n [91.65946778]\n [ 1.82805083]]<br>2024-03-10 00:55:30.405794",
          "GaussianStateUpdate<br>[[59.44340148]\n [ 3.52956945]\n [92.88820609]\n [ 1.74107882]]<br>2024-03-10 00:55:31.405794",
          "GaussianStateUpdate<br>[[62.51259952]\n [ 3.56330967]\n [95.41120604]\n [ 2.14420856]]<br>2024-03-10 00:55:32.405794",
          "GaussianStateUpdate<br>[[65.56715818]\n [ 3.15948408]\n [96.97574598]\n [ 1.63191256]]<br>2024-03-10 00:55:33.405794",
          "GaussianStateUpdate<br>[[69.55109425]\n [ 3.55791815]\n [98.72877657]\n [ 1.93915217]]<br>2024-03-10 00:55:34.405794",
          "GaussianStateUpdate<br>[[ 70.79661694]\n [  3.09772126]\n [102.47414041]\n [  2.43045787]]<br>2024-03-10 00:55:35.405794",
          "GaussianStateUpdate<br>[[ 72.38133468]\n [  2.81274891]\n [106.15756315]\n [  2.77442575]]<br>2024-03-10 00:55:36.405794",
          "GaussianStateUpdate<br>[[ 76.12861798]\n [  3.03618065]\n [108.3301401 ]\n [  2.66793376]]<br>2024-03-10 00:55:37.405794",
          "GaussianStateUpdate<br>[[ 79.94967377]\n [  2.92080161]\n [109.43894605]\n [  1.88911787]]<br>2024-03-10 00:55:38.405794",
          "GaussianStateUpdate<br>[[ 84.82711646]\n [  3.24680924]\n [109.64045688]\n [  1.40207146]]<br>2024-03-10 00:55:39.405794",
          "GaussianStateUpdate<br>[[ 83.9291315 ]\n [  2.37731036]\n [114.11645147]\n [  2.05988508]]<br>2024-03-10 00:55:40.405794",
          "GaussianStateUpdate<br>[[ 84.67550711]\n [  2.57954309]\n [119.03256504]\n [  3.23527486]]<br>2024-03-10 00:55:41.405794",
          "GaussianStateUpdate<br>[[ 92.71022625]\n [  3.39315759]\n [117.04328359]\n [  1.68995143]]<br>2024-03-10 00:55:42.405794",
          "GaussianStateUpdate<br>[[ 96.76401232]\n [  3.42516963]\n [117.8721248 ]\n [  1.34132324]]<br>2024-03-10 00:55:43.405794",
          "GaussianStateUpdate<br>[[100.17834135]\n [  3.31966894]\n [118.92153009]\n [  1.17064914]]<br>2024-03-10 00:55:44.405794",
          "GaussianStateUpdate<br>[[104.28171246]\n [  4.04716368]\n [121.01586863]\n [  1.90330778]]<br>2024-03-10 00:55:45.405794",
          "GaussianStateUpdate<br>[[109.05548924]\n [  4.23014288]\n [122.40077978]\n [  1.83513632]]<br>2024-03-10 00:55:46.405794",
          "GaussianStateUpdate<br>[[111.82384366]\n [  3.45596982]\n [124.06947301]\n [  1.2947632 ]]<br>2024-03-10 00:55:47.405794",
          "GaussianStateUpdate<br>[[114.59261973]\n [  3.20692399]\n [125.64492196]\n [  1.23370807]]<br>2024-03-10 00:55:48.405794"
         ],
         "type": "scatter",
         "x": [
          -3.052820981956969,
          -5.584367327168694,
          -5.31954585917383,
          -2.564804251702345,
          0.14437389598024986,
          3.192429023493765,
          2.145738140640174,
          5.061081294865506,
          7.22089522926408,
          9.92548326293158,
          12.439525999888643,
          11.720015040540392,
          13.223553876465836,
          14.217229265912978,
          17.346588200362774,
          17.67260042462576,
          16.877327206532687,
          17.842141820442887,
          19.025849361137855,
          19.34062791892134,
          23.314880465363377,
          24.104039704422366,
          28.155523111003802,
          29.933125163753196,
          31.39382140910517,
          34.93013092391064,
          36.138326476144876,
          40.82636947252192,
          43.41207889514189,
          50.34465499948883,
          51.635441585802205,
          55.028114917931426,
          59.443401477983144,
          62.5125995240712,
          65.56715818466435,
          69.55109425278523,
          70.79661694409015,
          72.38133468040527,
          76.12861798376127,
          79.94967376719455,
          84.82711646095856,
          83.9291314990591,
          84.67550710656772,
          92.71022625167032,
          96.7640123206961,
          100.1783413495328,
          104.28171245854558,
          109.05548923574177,
          111.82384366365736,
          114.59261973247173
         ],
         "y": [
          34.13979811619508,
          35.775807251029796,
          37.77108720870142,
          39.90669157874817,
          40.600411927186826,
          42.24446222767027,
          44.429298439531635,
          45.19948530224909,
          46.55835443972258,
          48.176075798248746,
          50.30227243900614,
          52.747600865049996,
          54.06671794623183,
          56.14436114091361,
          57.29590361708167,
          59.595595430909015,
          61.949776504715324,
          64.30229889945599,
          66.50625199813733,
          68.85681337395083,
          70.52329291694559,
          73.18104880181951,
          74.17606607154408,
          76.61435013734736,
          78.99121124220856,
          80.94323058632806,
          84.06682394228488,
          85.2882552829514,
          87.14668679331682,
          86.79768220212516,
          90.00266704116235,
          91.65946777754151,
          92.88820608796924,
          95.4112060444294,
          96.97574597520946,
          98.72877657008719,
          102.47414040750556,
          106.15756315267407,
          108.33014009727265,
          109.43894605353475,
          109.64045688008807,
          114.11645146851045,
          119.03256504414863,
          117.0432835855575,
          117.87212479933788,
          118.92153009424932,
          121.01586862755272,
          122.40077977515652,
          124.06947300810953,
          125.64492195852834
         ]
        },
        {
         "legendgroup": "SIF",
         "legendrank": 300,
         "line": {
          "color": "red"
         },
         "marker": {
          "symbol": [
           "square",
           "square",
           "square",
           "square",
           "square",
           "square",
           "square",
           "square",
           "square",
           "square",
           "square",
           "square",
           "square",
           "square",
           "square",
           "square",
           "square",
           "square",
           "square",
           "square",
           "square",
           "square",
           "square",
           "square",
           "square",
           "square",
           "square",
           "square",
           "square",
           "square",
           "square",
           "square",
           "square",
           "square",
           "square",
           "square",
           "square",
           "square",
           "square",
           "square",
           "square",
           "square",
           "square",
           "square",
           "square",
           "square",
           "square",
           "square",
           "square",
           "square"
          ]
         },
         "mode": "markers+lines",
         "name": "SIF",
         "showlegend": true,
         "text": [
          "GaussianStateUpdate<br>[[-3.05282098]\n [ 0.        ]\n [34.13979812]\n [ 0.        ]]<br>2024-03-10 00:54:59.405794",
          "GaussianStateUpdate<br>[[-5.58874048]\n [-0.62324118]\n [35.78374832]\n [ 1.65345496]]<br>2024-03-10 00:55:00.405794",
          "GaussianStateUpdate<br>[[-5.31921039]\n [-0.2954265 ]\n [37.77513215]\n [ 1.89542687]]<br>2024-03-10 00:55:01.405794",
          "GaussianStateUpdate<br>[[-2.56413594]\n [ 1.02406896]\n [39.90556197]\n [ 1.88897056]]<br>2024-03-10 00:55:02.405794",
          "GaussianStateUpdate<br>[[ 0.15090021]\n [ 1.81060606]\n [40.5965136 ]\n [ 0.74925374]]<br>2024-03-10 00:55:03.405794",
          "GaussianStateUpdate<br>[[ 3.19900422]\n [ 2.30823053]\n [42.23908241]\n [ 1.49201835]]<br>2024-03-10 00:55:04.405794",
          "GaussianStateUpdate<br>[[ 2.14360425]\n [ 1.09030764]\n [44.43533799]\n [ 2.04051047]]<br>2024-03-10 00:55:05.405794",
          "GaussianStateUpdate<br>[[ 5.07504415]\n [ 1.64121503]\n [45.20464138]\n [ 1.04643391]]<br>2024-03-10 00:55:06.405794",
          "GaussianStateUpdate<br>[[ 7.23048957]\n [ 1.83699648]\n [46.56175599]\n [ 1.33294339]]<br>2024-03-10 00:55:07.405794",
          "GaussianStateUpdate<br>[[ 9.93280847]\n [ 2.18238794]\n [48.17530513]\n [ 1.63484376]]<br>2024-03-10 00:55:08.405794",
          "GaussianStateUpdate<br>[[12.44362588]\n [ 2.36845374]\n [50.30035047]\n [ 2.07981062]]<br>2024-03-10 00:55:09.405794",
          "GaussianStateUpdate<br>[[11.71549758]\n [ 1.25487338]\n [52.74341615]\n [ 2.02972416]]<br>2024-03-10 00:55:10.405794",
          "GaussianStateUpdate<br>[[13.22844288]\n [ 1.22864304]\n [54.06788214]\n [ 1.47797421]]<br>2024-03-10 00:55:11.405794",
          "GaussianStateUpdate<br>[[14.22215574]\n [ 1.21192303]\n [56.14776132]\n [ 1.9489618 ]]<br>2024-03-10 00:55:12.405794",
          "GaussianStateUpdate<br>[[17.35028143]\n [ 1.78599272]\n [57.29724546]\n [ 1.5334092 ]]<br>2024-03-10 00:55:13.405794",
          "GaussianStateUpdate<br>[[17.6697911 ]\n [ 1.37764834]\n [59.59812544]\n [ 1.96444431]]<br>2024-03-10 00:55:14.405794",
          "GaussianStateUpdate<br>[[16.87083546]\n [ 0.64146382]\n [61.94887554]\n [ 1.93827214]]<br>2024-03-10 00:55:15.405794",
          "GaussianStateUpdate<br>[[17.83380929]\n [ 0.82770773]\n [64.30598799]\n [ 2.33207886]]<br>2024-03-10 00:55:16.405794",
          "GaussianStateUpdate<br>[[19.01966137]\n [ 0.93216214]\n [66.50885709]\n [ 2.27798717]]<br>2024-03-10 00:55:17.405794",
          "GaussianStateUpdate<br>[[19.33592386]\n [ 0.73629435]\n [68.85787191]\n [ 2.24523197]]<br>2024-03-10 00:55:18.405794",
          "GaussianStateUpdate<br>[[23.3163988 ]\n [ 1.73356295]\n [70.5282783 ]\n [ 2.26794576]]<br>2024-03-10 00:55:19.405794",
          "GaussianStateUpdate<br>[[24.10313849]\n [ 1.48193304]\n [73.18273567]\n [ 2.44287289]]<br>2024-03-10 00:55:20.405794",
          "GaussianStateUpdate<br>[[28.15756759]\n [ 2.08048731]\n [74.16804244]\n [ 1.7235748 ]]<br>2024-03-10 00:55:21.405794",
          "GaussianStateUpdate<br>[[29.95950666]\n [ 2.12768772]\n [76.60828055]\n [ 2.25118787]]<br>2024-03-10 00:55:22.405794",
          "GaussianStateUpdate<br>[[31.4166676 ]\n [ 1.91095524]\n [78.98586545]\n [ 2.21872963]]<br>2024-03-10 00:55:23.405794",
          "GaussianStateUpdate<br>[[34.94592727]\n [ 2.43640397]\n [80.94104838]\n [ 2.3424748 ]]<br>2024-03-10 00:55:24.405794",
          "GaussianStateUpdate<br>[[36.14965362]\n [ 2.17275313]\n [84.06543615]\n [ 2.69032526]]<br>2024-03-10 00:55:25.405794",
          "GaussianStateUpdate<br>[[40.83774395]\n [ 2.73388104]\n [85.28224869]\n [ 2.12705182]]<br>2024-03-10 00:55:26.405794",
          "GaussianStateUpdate<br>[[43.42128368]\n [ 2.61818162]\n [87.14517237]\n [ 1.89351142]]<br>2024-03-10 00:55:27.405794",
          "GaussianStateUpdate<br>[[50.35189277]\n [ 3.66473716]\n [86.7933323 ]\n [ 1.25749951]]<br>2024-03-10 00:55:28.405794",
          "GaussianStateUpdate<br>[[51.66790413]\n [ 3.29235525]\n [89.99325233]\n [ 2.08748567]]<br>2024-03-10 00:55:29.405794",
          "GaussianStateUpdate<br>[[55.07440838]\n [ 3.1925319 ]\n [91.63958432]\n [ 1.82081505]]<br>2024-03-10 00:55:30.405794",
          "GaussianStateUpdate<br>[[59.4716168 ]\n [ 3.5255512 ]\n [92.87053454]\n [ 1.7351437 ]]<br>2024-03-10 00:55:31.405794",
          "GaussianStateUpdate<br>[[62.53065508]\n [ 3.55835373]\n [95.39553018]\n [ 2.14146495]]<br>2024-03-10 00:55:32.405794",
          "GaussianStateUpdate<br>[[65.57076034]\n [ 3.15642308]\n [96.9633684 ]\n [ 1.63468137]]<br>2024-03-10 00:55:33.405794",
          "GaussianStateUpdate<br>[[69.56004319]\n [ 3.56458427]\n [98.73056688]\n [ 1.95550421]]<br>2024-03-10 00:55:34.405794",
          "GaussianStateUpdate<br>[[ 70.79368998]\n [  3.09347587]\n [102.47882805]\n [  2.43429351]]<br>2024-03-10 00:55:35.405794",
          "GaussianStateUpdate<br>[[ 72.37572067]\n [  2.80880486]\n [106.16504274]\n [  2.77753983]]<br>2024-03-10 00:55:36.405794",
          "GaussianStateUpdate<br>[[ 76.12160864]\n [  3.03198621]\n [108.33502174]\n [  2.6690155 ]]<br>2024-03-10 00:55:37.405794",
          "GaussianStateUpdate<br>[[ 79.94135024]\n [  2.91786775]\n [109.43441013]\n [  1.88910656]]<br>2024-03-10 00:55:38.405794",
          "GaussianStateUpdate<br>[[ 84.82418184]\n [  3.24652232]\n [109.63838003]\n [  1.40506493]]<br>2024-03-10 00:55:39.405794",
          "GaussianStateUpdate<br>[[ 83.92472269]\n [  2.37724571]\n [114.11974354]\n [  2.062987  ]]<br>2024-03-10 00:55:40.405794",
          "GaussianStateUpdate<br>[[ 84.61346216]\n [  2.58353941]\n [119.09551865]\n [  3.26476341]]<br>2024-03-10 00:55:41.405794",
          "GaussianStateUpdate<br>[[ 92.67329147]\n [  3.37871077]\n [117.06699625]\n [  1.6670837 ]]<br>2024-03-10 00:55:42.405794",
          "GaussianStateUpdate<br>[[ 96.74728234]\n [  3.4249586 ]\n [117.88321728]\n [  1.32985542]]<br>2024-03-10 00:55:43.405794",
          "GaussianStateUpdate<br>[[100.1728871 ]\n [  3.3269697 ]\n [118.92775197]\n [  1.16609467]]<br>2024-03-10 00:55:44.405794",
          "GaussianStateUpdate<br>[[104.28531413]\n [  4.05533163]\n [121.0362668 ]\n [  1.8993048 ]]<br>2024-03-10 00:55:45.405794",
          "GaussianStateUpdate<br>[[109.05448069]\n [  4.22907826]\n [122.40620901]\n [  1.82169707]]<br>2024-03-10 00:55:46.405794",
          "GaussianStateUpdate<br>[[111.79603048]\n [  3.43361243]\n [124.0599518 ]\n [  1.26441276]]<br>2024-03-10 00:55:47.405794",
          "GaussianStateUpdate<br>[[114.5789917 ]\n [  3.21009747]\n [125.64027792]\n [  1.22898706]]<br>2024-03-10 00:55:48.405794"
         ],
         "type": "scatter",
         "x": [
          -3.052820981956969,
          -5.588740484435242,
          -5.3192103853651265,
          -2.564135941428674,
          0.15090020504175494,
          3.1990042217902133,
          2.14360424980109,
          5.07504415037119,
          7.2304895718534725,
          9.932808467302682,
          12.443625879109009,
          11.715497576557757,
          13.228442876484444,
          14.22215573625947,
          17.350281431450647,
          17.66979110385895,
          16.870835459081317,
          17.8338092856002,
          19.01966136643127,
          19.335923861100472,
          23.316398795187766,
          24.103138491245858,
          28.15756758762498,
          29.959506660652877,
          31.41666759531885,
          34.94592726922631,
          36.14965362458499,
          40.837743947891646,
          43.42128367650329,
          50.35189277183408,
          51.66790412506026,
          55.0744083794795,
          59.47161680103985,
          62.5306550811192,
          65.57076033571792,
          69.56004319465723,
          70.79368998499464,
          72.37572066598999,
          76.1216086422744,
          79.94135023683474,
          84.82418183505635,
          83.92472268979068,
          84.6134621586616,
          92.67329146680494,
          96.74728233971344,
          100.1728871028285,
          104.28531412848444,
          109.05448069200222,
          111.79603047744828,
          114.57899169691981
         ],
         "y": [
          34.13979811619508,
          35.78374831535915,
          37.775132147112075,
          39.90556196717056,
          40.59651360169696,
          42.23908241169332,
          44.43533798781428,
          45.20464137651864,
          46.56175598755636,
          48.17530512565097,
          50.30035046811288,
          52.743416148235106,
          54.06788213587434,
          56.14776132318257,
          57.29724545546446,
          59.59812543729755,
          61.94887554156355,
          64.3059879894143,
          66.50885709337801,
          68.85787191024752,
          70.52827830390194,
          73.18273566783084,
          74.16804243870307,
          76.60828054611942,
          78.98586545103164,
          80.9410483801869,
          84.06543614713219,
          85.2822486902045,
          87.14517236821634,
          86.79333229584572,
          89.99325232549887,
          91.63958431710097,
          92.87053454166046,
          95.39553017909464,
          96.96336839962822,
          98.73056687551514,
          102.47882804692735,
          106.16504274356588,
          108.3350217385137,
          109.43441012843786,
          109.63838003053081,
          114.11974354476334,
          119.09551865044428,
          117.06699625371307,
          117.88321727738585,
          118.92775196652092,
          121.0362668033515,
          122.40620901361147,
          124.05995179726752,
          125.6402779153228
         ]
        },
        {
         "legendgroup": "PF",
         "legendrank": 300,
         "line": {
          "color": "brown"
         },
         "marker": {
          "symbol": [
           "square",
           "circle",
           "circle",
           "circle",
           "circle",
           "circle"
          ]
         },
         "mode": "markers+lines",
         "name": "PF",
         "showlegend": true,
         "text": [
          "ParticleStateUpdate<br>[[ 1.04631915e+02]\n [-2.42048429e-03]\n [ 1.06198566e+02]\n [-1.86247809e-02]]<br>2024-03-10 00:55:42.405794",
          "ParticleStatePrediction<br>[[ 1.04632092e+02]\n [-3.60353205e-03]\n [ 1.06180547e+02]\n [-2.45421709e-02]]<br>2024-03-10 00:55:43.405794",
          "ParticleStatePrediction<br>[[ 1.04633999e+02]\n [ 5.10931213e-03]\n [ 1.06145327e+02]\n [-2.96294757e-02]]<br>2024-03-10 00:55:44.405794",
          "ParticleStatePrediction<br>[[ 1.04645264e+02]\n [ 6.32819751e-03]\n [ 1.06125978e+02]\n [-3.20571376e-03]]<br>2024-03-10 00:55:45.405794",
          "ParticleStatePrediction<br>[[ 1.04640194e+02]\n [-2.15927911e-02]\n [ 1.06120776e+02]\n [-1.12126626e-02]]<br>2024-03-10 00:55:46.405794",
          "ParticleStatePrediction<br>[[ 1.04631237e+02]\n [ 1.87226361e-03]\n [ 1.06107202e+02]\n [-1.82700941e-02]]<br>2024-03-10 00:55:47.405794"
         ],
         "type": "scatter",
         "x": [
          104.63191479992015,
          104.63209219408347,
          104.6339994217742,
          104.64526381530754,
          104.6401942334033,
          104.63123744721841
         ],
         "y": [
          106.1985660127977,
          106.18054686148324,
          106.14532660742246,
          106.12597829671893,
          106.12077639148046,
          106.10720170938872
         ]
        },
        {
         "legendgroup": "PF",
         "legendrank": 300,
         "line": {
          "color": "brown"
         },
         "marker": {
          "symbol": [
           "square",
           "square",
           "square",
           "square",
           "square",
           "square",
           "square",
           "square",
           "square",
           "square",
           "square",
           "square",
           "square",
           "square",
           "square",
           "square",
           "square",
           "square",
           "square",
           "square",
           "square",
           "square",
           "square",
           "square",
           "square",
           "square",
           "square",
           "square",
           "square",
           "square",
           "square",
           "square",
           "square",
           "square",
           "square",
           "square",
           "square",
           "square",
           "square",
           "square",
           "square",
           "square",
           "square",
           "circle",
           "square",
           "square",
           "square",
           "square",
           "square",
           "square"
          ]
         },
         "mode": "markers+lines",
         "name": "a0235e0c-309f-4684-9c5e-ca9002cd5428",
         "showlegend": false,
         "text": [
          "ParticleStateUpdate<br>[[-3.13234066e+00]\n [ 1.39267521e-02]\n [ 3.41267157e+01]\n [-1.17860050e-02]]<br>2024-03-10 00:54:59.405794",
          "ParticleStateUpdate<br>[[-5.82124445]\n [-0.81947532]\n [35.76248605]\n [ 1.88264575]]<br>2024-03-10 00:55:00.405794",
          "ParticleStateUpdate<br>[[-5.22055189]\n [-0.2196512 ]\n [37.84692289]\n [ 1.94358115]]<br>2024-03-10 00:55:01.405794",
          "ParticleStateUpdate<br>[[-2.30855808]\n [ 1.02594965]\n [39.82592829]\n [ 1.84697681]]<br>2024-03-10 00:55:02.405794",
          "ParticleStateUpdate<br>[[ 0.32530755]\n [ 1.68634696]\n [40.54838513]\n [ 0.80384098]]<br>2024-03-10 00:55:03.405794",
          "ParticleStateUpdate<br>[[ 2.8977101 ]\n [ 2.19359742]\n [42.30724985]\n [ 1.67842509]]<br>2024-03-10 00:55:04.405794",
          "ParticleStateUpdate<br>[[ 1.86003391]\n [ 0.89903012]\n [44.37687612]\n [ 1.94602521]]<br>2024-03-10 00:55:05.405794",
          "ParticleStateUpdate<br>[[ 4.38587888]\n [ 1.40665865]\n [45.27579178]\n [ 1.02498362]]<br>2024-03-10 00:55:06.405794",
          "ParticleStateUpdate<br>[[ 6.86999526]\n [ 1.80452523]\n [46.64797199]\n [ 1.37559288]]<br>2024-03-10 00:55:07.405794",
          "ParticleStateUpdate<br>[[ 9.80446054]\n [ 2.18570048]\n [48.2428145 ]\n [ 1.66113842]]<br>2024-03-10 00:55:08.405794",
          "ParticleStateUpdate<br>[[12.41911196]\n [ 2.36407663]\n [50.35443375]\n [ 2.04660468]]<br>2024-03-10 00:55:09.405794",
          "ParticleStateUpdate<br>[[11.77823671]\n [ 1.34927878]\n [52.69130789]\n [ 1.92226842]]<br>2024-03-10 00:55:10.405794",
          "ParticleStateUpdate<br>[[13.06212544]\n [ 1.28625946]\n [54.12665699]\n [ 1.47729046]]<br>2024-03-10 00:55:11.405794",
          "ParticleStateUpdate<br>[[14.07062506]\n [ 1.24452688]\n [56.22490236]\n [ 1.95370901]]<br>2024-03-10 00:55:12.405794",
          "ParticleStateUpdate<br>[[17.33874446]\n [ 1.80422189]\n [57.28620484]\n [ 1.48750126]]<br>2024-03-10 00:55:13.405794",
          "ParticleStateUpdate<br>[[17.65587175]\n [ 1.43656062]\n [59.61654375]\n [ 1.92167469]]<br>2024-03-10 00:55:14.405794",
          "ParticleStateUpdate<br>[[16.70359659]\n [ 0.6142041 ]\n [61.98399445]\n [ 1.91929466]]<br>2024-03-10 00:55:15.405794",
          "ParticleStateUpdate<br>[[18.00275397]\n [ 0.85134999]\n [64.28727032]\n [ 2.33539068]]<br>2024-03-10 00:55:16.405794",
          "ParticleStateUpdate<br>[[19.13862173]\n [ 0.92519413]\n [66.51676186]\n [ 2.28054028]]<br>2024-03-10 00:55:17.405794",
          "ParticleStateUpdate<br>[[19.42956966]\n [ 0.70823117]\n [68.87367792]\n [ 2.21603365]]<br>2024-03-10 00:55:18.405794",
          "ParticleStateUpdate<br>[[23.37048816]\n [ 1.70369509]\n [70.47505879]\n [ 2.17976618]]<br>2024-03-10 00:55:19.405794",
          "ParticleStateUpdate<br>[[24.1059365 ]\n [ 1.47460522]\n [73.20815983]\n [ 2.46347147]]<br>2024-03-10 00:55:20.405794",
          "ParticleStateUpdate<br>[[28.12983468]\n [ 2.01597169]\n [74.16998479]\n [ 1.6850433 ]]<br>2024-03-10 00:55:21.405794",
          "ParticleStateUpdate<br>[[29.44498618]\n [ 1.96345611]\n [76.83054735]\n [ 2.36160568]]<br>2024-03-10 00:55:22.405794",
          "ParticleStateUpdate<br>[[30.92410467]\n [ 1.80454175]\n [79.21284746]\n [ 2.27289454]]<br>2024-03-10 00:55:23.405794",
          "ParticleStateUpdate<br>[[34.50200556]\n [ 2.34010935]\n [81.16211274]\n [ 2.36147432]]<br>2024-03-10 00:55:24.405794",
          "ParticleStateUpdate<br>[[35.65379673]\n [ 2.06061336]\n [84.3116509 ]\n [ 2.72768703]]<br>2024-03-10 00:55:25.405794",
          "ParticleStateUpdate<br>[[40.36672232]\n [ 2.62612078]\n [85.49950943]\n [ 2.10894216]]<br>2024-03-10 00:55:26.405794",
          "ParticleStateUpdate<br>[[43.32777571]\n [ 2.61591794]\n [87.19327319]\n [ 1.87337813]]<br>2024-03-10 00:55:27.405794",
          "ParticleStateUpdate<br>[[50.68268918]\n [ 3.65134042]\n [86.51520009]\n [ 1.22353748]]<br>2024-03-10 00:55:28.405794",
          "ParticleStateUpdate<br>[[51.56339907]\n [ 3.22543424]\n [90.05069898]\n [ 2.10234882]]<br>2024-03-10 00:55:29.405794",
          "ParticleStateUpdate<br>[[54.91250258]\n [ 3.16627953]\n [91.75625532]\n [ 1.84408544]]<br>2024-03-10 00:55:30.405794",
          "ParticleStateUpdate<br>[[59.46653245]\n [ 3.62041858]\n [92.90720464]\n [ 1.72190304]]<br>2024-03-10 00:55:31.405794",
          "ParticleStateUpdate<br>[[62.44501435]\n [ 3.60140746]\n [95.50984588]\n [ 2.14553438]]<br>2024-03-10 00:55:32.405794",
          "ParticleStateUpdate<br>[[65.58573396]\n [ 3.17794157]\n [96.99118991]\n [ 1.54001842]]<br>2024-03-10 00:55:33.405794",
          "ParticleStateUpdate<br>[[69.99223245]\n [ 3.68058994]\n [98.47071539]\n [ 1.83900679]]<br>2024-03-10 00:55:34.405794",
          "ParticleStateUpdate<br>[[ 71.02790469]\n [  3.12958415]\n [102.30965116]\n [  2.37819208]]<br>2024-03-10 00:55:35.405794",
          "ParticleStateUpdate<br>[[ 72.43100445]\n [  2.84698942]\n [106.1307727 ]\n [  2.74917724]]<br>2024-03-10 00:55:36.405794",
          "ParticleStateUpdate<br>[[ 76.30681751]\n [  3.04615658]\n [108.2352329 ]\n [  2.64835169]]<br>2024-03-10 00:55:37.405794",
          "ParticleStateUpdate<br>[[ 79.99928833]\n [  2.87897867]\n [109.41276128]\n [  1.83030504]]<br>2024-03-10 00:55:38.405794",
          "ParticleStateUpdate<br>[[ 84.83563284]\n [  3.24114725]\n [109.60676714]\n [  1.37940389]]<br>2024-03-10 00:55:39.405794",
          "ParticleStateUpdate<br>[[ 84.25470173]\n [  2.4677361 ]\n [113.82685428]\n [  1.91774809]]<br>2024-03-10 00:55:40.405794",
          "ParticleStateUpdate<br>[[ 86.27092629]\n [  2.95462538]\n [117.92709907]\n [  3.14646747]]<br>2024-03-10 00:55:41.405794",
          "ParticleStatePrediction<br>[[ 89.22305613]\n [  2.94284193]\n [121.05796159]\n [  3.11457185]]<br>2024-03-10 00:55:42.405794",
          "ParticleStateUpdate<br>[[ 93.75720252]\n [  2.84315582]\n [120.35177257]\n [  1.79868029]]<br>2024-03-10 00:55:43.405794",
          "ParticleStateUpdate<br>[[ 97.86671285]\n [  2.95156306]\n [120.88937721]\n [  1.42018578]]<br>2024-03-10 00:55:44.405794",
          "ParticleStateUpdate<br>[[102.91567082]\n [  3.99798514]\n [122.23320459]\n [  2.00546288]]<br>2024-03-10 00:55:45.405794",
          "ParticleStateUpdate<br>[[107.81867145]\n [  4.20357068]\n [123.52856085]\n [  1.87913929]]<br>2024-03-10 00:55:46.405794",
          "ParticleStateUpdate<br>[[110.59435492]\n [  3.43774774]\n [125.1934677 ]\n [  1.22106017]]<br>2024-03-10 00:55:47.405794",
          "ParticleStateUpdate<br>[[113.31180087]\n [  3.24533155]\n [126.81385365]\n [  1.12111468]]<br>2024-03-10 00:55:48.405794"
         ],
         "type": "scatter",
         "x": [
          -3.1323406590902065,
          -5.82124444935522,
          -5.220551885291423,
          -2.3085580834864228,
          0.3253075523456949,
          2.8977101048100735,
          1.860033910325967,
          4.385878884205106,
          6.869995258415839,
          9.804460539395539,
          12.419111957459851,
          11.778236705270725,
          13.062125441764229,
          14.070625064004185,
          17.338744461740784,
          17.65587175010899,
          16.703596587801144,
          18.00275396696297,
          19.13862173284244,
          19.429569658236556,
          23.370488158202342,
          24.105936498825304,
          28.129834675231084,
          29.444986175987516,
          30.924104670552143,
          34.50200555589698,
          35.653796732538346,
          40.36672231549391,
          43.327775710667545,
          50.68268918116772,
          51.56339906507338,
          54.912502575654806,
          59.466532448719995,
          62.44501434597729,
          65.58573396133578,
          69.99223245104174,
          71.0279046883175,
          72.43100445029494,
          76.30681750749311,
          79.99928832672461,
          84.83563284153473,
          84.25470173013123,
          86.27092629323411,
          89.2230561268213,
          93.75720251648092,
          97.86671285157588,
          102.91567081967106,
          107.81867145449753,
          110.59435492377746,
          113.31180086589151
         ],
         "y": [
          34.1267157419095,
          35.76248605304657,
          37.846922886572635,
          39.825928286744514,
          40.54838512845467,
          42.30724985100391,
          44.376876119506406,
          45.27579177740933,
          46.647971985623066,
          48.242814501009576,
          50.354433746872296,
          52.6913078868981,
          54.126656990748046,
          56.22490235521392,
          57.28620484204267,
          59.61654375460463,
          61.983994447281844,
          64.28727031880403,
          66.51676185711129,
          68.87367792367941,
          70.47505878820567,
          73.2081598339897,
          74.16998479420782,
          76.83054734960969,
          79.21284745510168,
          81.16211274327092,
          84.31165089719457,
          85.49950943092318,
          87.19327318825384,
          86.51520009149976,
          90.05069898309935,
          91.75625531912827,
          92.90720463878431,
          95.50984588429607,
          96.99118990701345,
          98.47071538813746,
          102.30965115830006,
          106.13077270316653,
          108.23523289883552,
          109.41276127689294,
          109.60676714382933,
          113.82685428449237,
          117.92709906954147,
          121.05796158936471,
          120.35177256933868,
          120.88937720834218,
          122.23320459329173,
          123.52856085025007,
          125.19346770103373,
          126.81385365357461
         ]
        }
       ],
       "layout": {
        "autosize": true,
        "colorway": [
         "#636EFA",
         "#EF553B",
         "#00CC96",
         "#AB63FA",
         "#FFA15A",
         "#19D3F3",
         "#FF6692",
         "#B6E880",
         "#FF97FF",
         "#FECB52"
        ],
        "template": {
         "data": {
          "bar": [
           {
            "error_x": {
             "color": "#2a3f5f"
            },
            "error_y": {
             "color": "#2a3f5f"
            },
            "marker": {
             "line": {
              "color": "#E5ECF6",
              "width": 0.5
             },
             "pattern": {
              "fillmode": "overlay",
              "size": 10,
              "solidity": 0.2
             }
            },
            "type": "bar"
           }
          ],
          "barpolar": [
           {
            "marker": {
             "line": {
              "color": "#E5ECF6",
              "width": 0.5
             },
             "pattern": {
              "fillmode": "overlay",
              "size": 10,
              "solidity": 0.2
             }
            },
            "type": "barpolar"
           }
          ],
          "carpet": [
           {
            "aaxis": {
             "endlinecolor": "#2a3f5f",
             "gridcolor": "white",
             "linecolor": "white",
             "minorgridcolor": "white",
             "startlinecolor": "#2a3f5f"
            },
            "baxis": {
             "endlinecolor": "#2a3f5f",
             "gridcolor": "white",
             "linecolor": "white",
             "minorgridcolor": "white",
             "startlinecolor": "#2a3f5f"
            },
            "type": "carpet"
           }
          ],
          "choropleth": [
           {
            "colorbar": {
             "outlinewidth": 0,
             "ticks": ""
            },
            "type": "choropleth"
           }
          ],
          "contour": [
           {
            "colorbar": {
             "outlinewidth": 0,
             "ticks": ""
            },
            "colorscale": [
             [
              0,
              "#0d0887"
             ],
             [
              0.1111111111111111,
              "#46039f"
             ],
             [
              0.2222222222222222,
              "#7201a8"
             ],
             [
              0.3333333333333333,
              "#9c179e"
             ],
             [
              0.4444444444444444,
              "#bd3786"
             ],
             [
              0.5555555555555556,
              "#d8576b"
             ],
             [
              0.6666666666666666,
              "#ed7953"
             ],
             [
              0.7777777777777778,
              "#fb9f3a"
             ],
             [
              0.8888888888888888,
              "#fdca26"
             ],
             [
              1,
              "#f0f921"
             ]
            ],
            "type": "contour"
           }
          ],
          "contourcarpet": [
           {
            "colorbar": {
             "outlinewidth": 0,
             "ticks": ""
            },
            "type": "contourcarpet"
           }
          ],
          "heatmap": [
           {
            "colorbar": {
             "outlinewidth": 0,
             "ticks": ""
            },
            "colorscale": [
             [
              0,
              "#0d0887"
             ],
             [
              0.1111111111111111,
              "#46039f"
             ],
             [
              0.2222222222222222,
              "#7201a8"
             ],
             [
              0.3333333333333333,
              "#9c179e"
             ],
             [
              0.4444444444444444,
              "#bd3786"
             ],
             [
              0.5555555555555556,
              "#d8576b"
             ],
             [
              0.6666666666666666,
              "#ed7953"
             ],
             [
              0.7777777777777778,
              "#fb9f3a"
             ],
             [
              0.8888888888888888,
              "#fdca26"
             ],
             [
              1,
              "#f0f921"
             ]
            ],
            "type": "heatmap"
           }
          ],
          "heatmapgl": [
           {
            "colorbar": {
             "outlinewidth": 0,
             "ticks": ""
            },
            "colorscale": [
             [
              0,
              "#0d0887"
             ],
             [
              0.1111111111111111,
              "#46039f"
             ],
             [
              0.2222222222222222,
              "#7201a8"
             ],
             [
              0.3333333333333333,
              "#9c179e"
             ],
             [
              0.4444444444444444,
              "#bd3786"
             ],
             [
              0.5555555555555556,
              "#d8576b"
             ],
             [
              0.6666666666666666,
              "#ed7953"
             ],
             [
              0.7777777777777778,
              "#fb9f3a"
             ],
             [
              0.8888888888888888,
              "#fdca26"
             ],
             [
              1,
              "#f0f921"
             ]
            ],
            "type": "heatmapgl"
           }
          ],
          "histogram": [
           {
            "marker": {
             "pattern": {
              "fillmode": "overlay",
              "size": 10,
              "solidity": 0.2
             }
            },
            "type": "histogram"
           }
          ],
          "histogram2d": [
           {
            "colorbar": {
             "outlinewidth": 0,
             "ticks": ""
            },
            "colorscale": [
             [
              0,
              "#0d0887"
             ],
             [
              0.1111111111111111,
              "#46039f"
             ],
             [
              0.2222222222222222,
              "#7201a8"
             ],
             [
              0.3333333333333333,
              "#9c179e"
             ],
             [
              0.4444444444444444,
              "#bd3786"
             ],
             [
              0.5555555555555556,
              "#d8576b"
             ],
             [
              0.6666666666666666,
              "#ed7953"
             ],
             [
              0.7777777777777778,
              "#fb9f3a"
             ],
             [
              0.8888888888888888,
              "#fdca26"
             ],
             [
              1,
              "#f0f921"
             ]
            ],
            "type": "histogram2d"
           }
          ],
          "histogram2dcontour": [
           {
            "colorbar": {
             "outlinewidth": 0,
             "ticks": ""
            },
            "colorscale": [
             [
              0,
              "#0d0887"
             ],
             [
              0.1111111111111111,
              "#46039f"
             ],
             [
              0.2222222222222222,
              "#7201a8"
             ],
             [
              0.3333333333333333,
              "#9c179e"
             ],
             [
              0.4444444444444444,
              "#bd3786"
             ],
             [
              0.5555555555555556,
              "#d8576b"
             ],
             [
              0.6666666666666666,
              "#ed7953"
             ],
             [
              0.7777777777777778,
              "#fb9f3a"
             ],
             [
              0.8888888888888888,
              "#fdca26"
             ],
             [
              1,
              "#f0f921"
             ]
            ],
            "type": "histogram2dcontour"
           }
          ],
          "mesh3d": [
           {
            "colorbar": {
             "outlinewidth": 0,
             "ticks": ""
            },
            "type": "mesh3d"
           }
          ],
          "parcoords": [
           {
            "line": {
             "colorbar": {
              "outlinewidth": 0,
              "ticks": ""
             }
            },
            "type": "parcoords"
           }
          ],
          "pie": [
           {
            "automargin": true,
            "type": "pie"
           }
          ],
          "scatter": [
           {
            "fillpattern": {
             "fillmode": "overlay",
             "size": 10,
             "solidity": 0.2
            },
            "type": "scatter"
           }
          ],
          "scatter3d": [
           {
            "line": {
             "colorbar": {
              "outlinewidth": 0,
              "ticks": ""
             }
            },
            "marker": {
             "colorbar": {
              "outlinewidth": 0,
              "ticks": ""
             }
            },
            "type": "scatter3d"
           }
          ],
          "scattercarpet": [
           {
            "marker": {
             "colorbar": {
              "outlinewidth": 0,
              "ticks": ""
             }
            },
            "type": "scattercarpet"
           }
          ],
          "scattergeo": [
           {
            "marker": {
             "colorbar": {
              "outlinewidth": 0,
              "ticks": ""
             }
            },
            "type": "scattergeo"
           }
          ],
          "scattergl": [
           {
            "marker": {
             "colorbar": {
              "outlinewidth": 0,
              "ticks": ""
             }
            },
            "type": "scattergl"
           }
          ],
          "scattermapbox": [
           {
            "marker": {
             "colorbar": {
              "outlinewidth": 0,
              "ticks": ""
             }
            },
            "type": "scattermapbox"
           }
          ],
          "scatterpolar": [
           {
            "marker": {
             "colorbar": {
              "outlinewidth": 0,
              "ticks": ""
             }
            },
            "type": "scatterpolar"
           }
          ],
          "scatterpolargl": [
           {
            "marker": {
             "colorbar": {
              "outlinewidth": 0,
              "ticks": ""
             }
            },
            "type": "scatterpolargl"
           }
          ],
          "scatterternary": [
           {
            "marker": {
             "colorbar": {
              "outlinewidth": 0,
              "ticks": ""
             }
            },
            "type": "scatterternary"
           }
          ],
          "surface": [
           {
            "colorbar": {
             "outlinewidth": 0,
             "ticks": ""
            },
            "colorscale": [
             [
              0,
              "#0d0887"
             ],
             [
              0.1111111111111111,
              "#46039f"
             ],
             [
              0.2222222222222222,
              "#7201a8"
             ],
             [
              0.3333333333333333,
              "#9c179e"
             ],
             [
              0.4444444444444444,
              "#bd3786"
             ],
             [
              0.5555555555555556,
              "#d8576b"
             ],
             [
              0.6666666666666666,
              "#ed7953"
             ],
             [
              0.7777777777777778,
              "#fb9f3a"
             ],
             [
              0.8888888888888888,
              "#fdca26"
             ],
             [
              1,
              "#f0f921"
             ]
            ],
            "type": "surface"
           }
          ],
          "table": [
           {
            "cells": {
             "fill": {
              "color": "#EBF0F8"
             },
             "line": {
              "color": "white"
             }
            },
            "header": {
             "fill": {
              "color": "#C8D4E3"
             },
             "line": {
              "color": "white"
             }
            },
            "type": "table"
           }
          ]
         },
         "layout": {
          "annotationdefaults": {
           "arrowcolor": "#2a3f5f",
           "arrowhead": 0,
           "arrowwidth": 1
          },
          "autotypenumbers": "strict",
          "coloraxis": {
           "colorbar": {
            "outlinewidth": 0,
            "ticks": ""
           }
          },
          "colorscale": {
           "diverging": [
            [
             0,
             "#8e0152"
            ],
            [
             0.1,
             "#c51b7d"
            ],
            [
             0.2,
             "#de77ae"
            ],
            [
             0.3,
             "#f1b6da"
            ],
            [
             0.4,
             "#fde0ef"
            ],
            [
             0.5,
             "#f7f7f7"
            ],
            [
             0.6,
             "#e6f5d0"
            ],
            [
             0.7,
             "#b8e186"
            ],
            [
             0.8,
             "#7fbc41"
            ],
            [
             0.9,
             "#4d9221"
            ],
            [
             1,
             "#276419"
            ]
           ],
           "sequential": [
            [
             0,
             "#0d0887"
            ],
            [
             0.1111111111111111,
             "#46039f"
            ],
            [
             0.2222222222222222,
             "#7201a8"
            ],
            [
             0.3333333333333333,
             "#9c179e"
            ],
            [
             0.4444444444444444,
             "#bd3786"
            ],
            [
             0.5555555555555556,
             "#d8576b"
            ],
            [
             0.6666666666666666,
             "#ed7953"
            ],
            [
             0.7777777777777778,
             "#fb9f3a"
            ],
            [
             0.8888888888888888,
             "#fdca26"
            ],
            [
             1,
             "#f0f921"
            ]
           ],
           "sequentialminus": [
            [
             0,
             "#0d0887"
            ],
            [
             0.1111111111111111,
             "#46039f"
            ],
            [
             0.2222222222222222,
             "#7201a8"
            ],
            [
             0.3333333333333333,
             "#9c179e"
            ],
            [
             0.4444444444444444,
             "#bd3786"
            ],
            [
             0.5555555555555556,
             "#d8576b"
            ],
            [
             0.6666666666666666,
             "#ed7953"
            ],
            [
             0.7777777777777778,
             "#fb9f3a"
            ],
            [
             0.8888888888888888,
             "#fdca26"
            ],
            [
             1,
             "#f0f921"
            ]
           ]
          },
          "colorway": [
           "#636efa",
           "#EF553B",
           "#00cc96",
           "#ab63fa",
           "#FFA15A",
           "#19d3f3",
           "#FF6692",
           "#B6E880",
           "#FF97FF",
           "#FECB52"
          ],
          "font": {
           "color": "#2a3f5f"
          },
          "geo": {
           "bgcolor": "white",
           "lakecolor": "white",
           "landcolor": "#E5ECF6",
           "showlakes": true,
           "showland": true,
           "subunitcolor": "white"
          },
          "hoverlabel": {
           "align": "left"
          },
          "hovermode": "closest",
          "mapbox": {
           "style": "light"
          },
          "paper_bgcolor": "white",
          "plot_bgcolor": "#E5ECF6",
          "polar": {
           "angularaxis": {
            "gridcolor": "white",
            "linecolor": "white",
            "ticks": ""
           },
           "bgcolor": "#E5ECF6",
           "radialaxis": {
            "gridcolor": "white",
            "linecolor": "white",
            "ticks": ""
           }
          },
          "scene": {
           "xaxis": {
            "backgroundcolor": "#E5ECF6",
            "gridcolor": "white",
            "gridwidth": 2,
            "linecolor": "white",
            "showbackground": true,
            "ticks": "",
            "zerolinecolor": "white"
           },
           "yaxis": {
            "backgroundcolor": "#E5ECF6",
            "gridcolor": "white",
            "gridwidth": 2,
            "linecolor": "white",
            "showbackground": true,
            "ticks": "",
            "zerolinecolor": "white"
           },
           "zaxis": {
            "backgroundcolor": "#E5ECF6",
            "gridcolor": "white",
            "gridwidth": 2,
            "linecolor": "white",
            "showbackground": true,
            "ticks": "",
            "zerolinecolor": "white"
           }
          },
          "shapedefaults": {
           "line": {
            "color": "#2a3f5f"
           }
          },
          "ternary": {
           "aaxis": {
            "gridcolor": "white",
            "linecolor": "white",
            "ticks": ""
           },
           "baxis": {
            "gridcolor": "white",
            "linecolor": "white",
            "ticks": ""
           },
           "bgcolor": "#E5ECF6",
           "caxis": {
            "gridcolor": "white",
            "linecolor": "white",
            "ticks": ""
           }
          },
          "title": {
           "x": 0.05
          },
          "xaxis": {
           "automargin": true,
           "gridcolor": "white",
           "linecolor": "white",
           "ticks": "",
           "title": {
            "standoff": 15
           },
           "zerolinecolor": "white",
           "zerolinewidth": 2
          },
          "yaxis": {
           "automargin": true,
           "gridcolor": "white",
           "linecolor": "white",
           "ticks": "",
           "title": {
            "standoff": 15
           },
           "zerolinecolor": "white",
           "zerolinewidth": 2
          }
         }
        },
        "xaxis": {
         "autorange": true,
         "range": [
          -15.197567363250371,
          122.1019604410092
         ],
         "title": {
          "text": "x"
         },
         "type": "linear"
        },
        "yaxis": {
         "autorange": true,
         "range": [
          -10.560290213404876,
          138.52615985819335
         ],
         "title": {
          "text": "y"
         },
         "type": "linear"
        }
       }
      },
      "image/png": "[encoded data removed]",
      "text/html": [
       "<div>                            <div id=\"d5a4b583-8707-4e89-bb07-7fdd3dac6787\" class=\"plotly-graph-div\" style=\"height:525px; width:100%;\"></div>            <script type=\"text/javascript\">                require([\"plotly\"], function(Plotly) {                    window.PLOTLYENV=window.PLOTLYENV || {};                                    if (document.getElementById(\"d5a4b583-8707-4e89-bb07-7fdd3dac6787\")) {                    Plotly.newPlot(                        \"d5a4b583-8707-4e89-bb07-7fdd3dac6787\",                        [{\"legendgroup\":\"Ground Truth\",\"legendrank\":100,\"line\":{\"dash\":\"dash\"},\"mode\":\"lines\",\"name\":\"Ground Truth\",\"showlegend\":true,\"text\":[\"GroundTruthState\\u003cbr\\u003e[[-6.07545779]\\n [ 1.48826829]\\n [34.45923919]\\n [ 1.51259057]]\\u003cbr\\u003e2024-03-10 00:54:59.405794\\u003cbr\\u003eindex: 0\",\"GroundTruthState\\u003cbr\\u003e[[-4.50698663]\\n [ 1.64447391]\\n [36.08742888]\\n [ 1.59253279]]\\u003cbr\\u003e2024-03-10 00:55:00.405794\\u003cbr\\u003eindex: 0\",\"GroundTruthState\\u003cbr\\u003e[[-2.83689718]\\n [ 1.66300898]\\n [37.62212417]\\n [ 1.59830827]]\\u003cbr\\u003e2024-03-10 00:55:01.405794\\u003cbr\\u003eindex: 0\",\"GroundTruthState\\u003cbr\\u003e[[-1.26057902]\\n [ 1.53237055]\\n [39.22622618]\\n [ 1.52667044]]\\u003cbr\\u003e2024-03-10 00:55:02.405794\\u003cbr\\u003eindex: 0\",\"GroundTruthState\\u003cbr\\u003e[[ 0.32916317]\\n [ 1.57019834]\\n [40.80097993]\\n [ 1.58579426]]\\u003cbr\\u003e2024-03-10 00:55:03.405794\\u003cbr\\u003eindex: 0\",\"GroundTruthState\\u003cbr\\u003e[[ 1.88501759]\\n [ 1.53078305]\\n [42.26872646]\\n [ 1.48451762]]\\u003cbr\\u003e2024-03-10 00:55:04.405794\\u003cbr\\u003eindex: 0\",\"GroundTruthState\\u003cbr\\u003e[[ 3.39060067]\\n [ 1.48443336]\\n [43.83864665]\\n [ 1.59241079]]\\u003cbr\\u003e2024-03-10 00:55:05.405794\\u003cbr\\u003eindex: 0\",\"GroundTruthState\\u003cbr\\u003e[[ 4.86253452]\\n [ 1.47626276]\\n [45.54459497]\\n [ 1.66030742]]\\u003cbr\\u003e2024-03-10 00:55:06.405794\\u003cbr\\u003eindex: 0\",\"GroundTruthState\\u003cbr\\u003e[[ 6.33207338]\\n [ 1.3943761 ]\\n [47.28214746]\\n [ 1.66087961]]\\u003cbr\\u003e2024-03-10 00:55:07.405794\\u003cbr\\u003eindex: 0\",\"GroundTruthState\\u003cbr\\u003e[[ 7.72032083]\\n [ 1.55462522]\\n [49.13474826]\\n [ 1.79492795]]\\u003cbr\\u003e2024-03-10 00:55:08.405794\\u003cbr\\u003eindex: 0\",\"GroundTruthState\\u003cbr\\u003e[[ 9.18010928]\\n [ 1.34354948]\\n [50.88760719]\\n [ 1.73136541]]\\u003cbr\\u003e2024-03-10 00:55:09.405794\\u003cbr\\u003eindex: 0\",\"GroundTruthState\\u003cbr\\u003e[[10.43069704]\\n [ 1.30019154]\\n [52.55178193]\\n [ 1.64771245]]\\u003cbr\\u003e2024-03-10 00:55:10.405794\\u003cbr\\u003eindex: 0\",\"GroundTruthState\\u003cbr\\u003e[[11.78337083]\\n [ 1.35441326]\\n [54.24696203]\\n [ 1.70933302]]\\u003cbr\\u003e2024-03-10 00:55:11.405794\\u003cbr\\u003eindex: 0\",\"GroundTruthState\\u003cbr\\u003e[[13.19867429]\\n [ 1.35459995]\\n [56.02253401]\\n [ 1.86730143]]\\u003cbr\\u003e2024-03-10 00:55:12.405794\\u003cbr\\u003eindex: 0\",\"GroundTruthState\\u003cbr\\u003e[[14.56897751]\\n [ 1.55422497]\\n [57.99389741]\\n [ 2.10254488]]\\u003cbr\\u003e2024-03-10 00:55:13.405794\\u003cbr\\u003eindex: 0\",\"GroundTruthState\\u003cbr\\u003e[[16.21263051]\\n [ 1.67487586]\\n [59.96641388]\\n [ 1.93311487]]\\u003cbr\\u003e2024-03-10 00:55:14.405794\\u003cbr\\u003eindex: 0\",\"GroundTruthState\\u003cbr\\u003e[[17.93882327]\\n [ 1.88615148]\\n [61.78060896]\\n [ 1.79905366]]\\u003cbr\\u003e2024-03-10 00:55:15.405794\\u003cbr\\u003eindex: 0\",\"GroundTruthState\\u003cbr\\u003e[[19.7278799 ]\\n [ 1.7835685 ]\\n [63.6157388 ]\\n [ 1.96678378]]\\u003cbr\\u003e2024-03-10 00:55:16.405794\\u003cbr\\u003eindex: 0\",\"GroundTruthState\\u003cbr\\u003e[[21.60196693]\\n [ 1.99034109]\\n [65.64221891]\\n [ 2.0391269 ]]\\u003cbr\\u003e2024-03-10 00:55:17.405794\\u003cbr\\u003eindex: 0\",\"GroundTruthState\\u003cbr\\u003e[[23.55107368]\\n [ 1.84123259]\\n [67.66992513]\\n [ 1.96505288]]\\u003cbr\\u003e2024-03-10 00:55:18.405794\\u003cbr\\u003eindex: 0\",\"GroundTruthState\\u003cbr\\u003e[[25.48731444]\\n [ 2.00509755]\\n [69.71568713]\\n [ 2.05509294]]\\u003cbr\\u003e2024-03-10 00:55:19.405794\\u003cbr\\u003eindex: 0\",\"GroundTruthState\\u003cbr\\u003e[[27.45778574]\\n [ 1.97431095]\\n [71.73990806]\\n [ 2.05158193]]\\u003cbr\\u003e2024-03-10 00:55:20.405794\\u003cbr\\u003eindex: 0\",\"GroundTruthState\\u003cbr\\u003e[[29.37622266]\\n [ 1.9153917 ]\\n [73.8303664 ]\\n [ 2.26927067]]\\u003cbr\\u003e2024-03-10 00:55:21.405794\\u003cbr\\u003eindex: 0\",\"GroundTruthState\\u003cbr\\u003e[[31.275566  ]\\n [ 1.97316839]\\n [76.17293355]\\n [ 2.32194663]]\\u003cbr\\u003e2024-03-10 00:55:22.405794\\u003cbr\\u003eindex: 0\",\"GroundTruthState\\u003cbr\\u003e[[33.4279665 ]\\n [ 2.18964482]\\n [78.45741943]\\n [ 2.23401351]]\\u003cbr\\u003e2024-03-10 00:55:23.405794\\u003cbr\\u003eindex: 0\",\"GroundTruthState\\u003cbr\\u003e[[35.63939577]\\n [ 2.21423256]\\n [80.6807713 ]\\n [ 2.23223482]]\\u003cbr\\u003e2024-03-10 00:55:24.405794\\u003cbr\\u003eindex: 0\",\"GroundTruthState\\u003cbr\\u003e[[38.0659027 ]\\n [ 2.51686202]\\n [82.86322446]\\n [ 2.24572837]]\\u003cbr\\u003e2024-03-10 00:55:25.405794\\u003cbr\\u003eindex: 0\",\"GroundTruthState\\u003cbr\\u003e[[40.72465935]\\n [ 2.63266849]\\n [85.1598949 ]\\n [ 2.31357818]]\\u003cbr\\u003e2024-03-10 00:55:26.405794\\u003cbr\\u003eindex: 0\",\"GroundTruthState\\u003cbr\\u003e[[43.40785369]\\n [ 2.64723734]\\n [87.32479158]\\n [ 2.14783202]]\\u003cbr\\u003e2024-03-10 00:55:27.405794\\u003cbr\\u003eindex: 0\",\"GroundTruthState\\u003cbr\\u003e[[46.14860528]\\n [ 2.82168067]\\n [89.42459182]\\n [ 1.9511331 ]]\\u003cbr\\u003e2024-03-10 00:55:28.405794\\u003cbr\\u003eindex: 0\",\"GroundTruthState\\u003cbr\\u003e[[48.96631804]\\n [ 2.85134856]\\n [91.45561827]\\n [ 2.0841434 ]]\\u003cbr\\u003e2024-03-10 00:55:29.405794\\u003cbr\\u003eindex: 0\",\"GroundTruthState\\u003cbr\\u003e[[51.83448056]\\n [ 2.84501813]\\n [93.54743047]\\n [ 2.1974087 ]]\\u003cbr\\u003e2024-03-10 00:55:30.405794\\u003cbr\\u003eindex: 0\",\"GroundTruthState\\u003cbr\\u003e[[54.93573147]\\n [ 3.30596539]\\n [95.73985124]\\n [ 2.19474482]]\\u003cbr\\u003e2024-03-10 00:55:31.405794\\u003cbr\\u003eindex: 0\",\"GroundTruthState\\u003cbr\\u003e[[58.23477946]\\n [ 3.28049864]\\n [97.92209121]\\n [ 2.20782869]]\\u003cbr\\u003e2024-03-10 00:55:32.405794\\u003cbr\\u003eindex: 0\",\"GroundTruthState\\u003cbr\\u003e[[61.74112102]\\n [ 3.58283989]\\n [99.98782594]\\n [ 1.9906089 ]]\\u003cbr\\u003e2024-03-10 00:55:33.405794\\u003cbr\\u003eindex: 0\",\"GroundTruthState\\u003cbr\\u003e[[ 65.28605468]\\n [  3.52830575]\\n [102.05102907]\\n [  2.08706834]]\\u003cbr\\u003e2024-03-10 00:55:34.405794\\u003cbr\\u003eindex: 0\",\"GroundTruthState\\u003cbr\\u003e[[ 68.77282285]\\n [  3.51747969]\\n [104.1320861 ]\\n [  2.01734972]]\\u003cbr\\u003e2024-03-10 00:55:35.405794\\u003cbr\\u003eindex: 0\",\"GroundTruthState\\u003cbr\\u003e[[ 72.27382398]\\n [  3.50264946]\\n [106.22506292]\\n [  2.06658518]]\\u003cbr\\u003e2024-03-10 00:55:36.405794\\u003cbr\\u003eindex: 0\",\"GroundTruthState\\u003cbr\\u003e[[ 75.73499004]\\n [  3.19240117]\\n [108.33098997]\\n [  2.02954791]]\\u003cbr\\u003e2024-03-10 00:55:37.405794\\u003cbr\\u003eindex: 0\",\"GroundTruthState\\u003cbr\\u003e[[ 78.73406822]\\n [  2.89008448]\\n [110.22640525]\\n [  1.8992766 ]]\\u003cbr\\u003e2024-03-10 00:55:38.405794\\u003cbr\\u003eindex: 0\",\"GroundTruthState\\u003cbr\\u003e[[ 81.63176964]\\n [  2.98616522]\\n [112.20326298]\\n [  2.03434892]]\\u003cbr\\u003e2024-03-10 00:55:39.405794\\u003cbr\\u003eindex: 0\",\"GroundTruthState\\u003cbr\\u003e[[ 84.57096627]\\n [  2.94700279]\\n [114.22076005]\\n [  2.0441866 ]]\\u003cbr\\u003e2024-03-10 00:55:40.405794\\u003cbr\\u003eindex: 0\",\"GroundTruthState\\u003cbr\\u003e[[ 87.62585935]\\n [  3.1666455 ]\\n [116.23578441]\\n [  2.08935822]]\\u003cbr\\u003e2024-03-10 00:55:41.405794\\u003cbr\\u003eindex: 0\",\"GroundTruthState\\u003cbr\\u003e[[ 90.70249823]\\n [  2.93347279]\\n [118.43502031]\\n [  2.29632199]]\\u003cbr\\u003e2024-03-10 00:55:42.405794\\u003cbr\\u003eindex: 0\",\"GroundTruthState\\u003cbr\\u003e[[ 93.60484898]\\n [  3.03917894]\\n [120.56898463]\\n [  2.01708724]]\\u003cbr\\u003e2024-03-10 00:55:43.405794\\u003cbr\\u003eindex: 0\",\"GroundTruthState\\u003cbr\\u003e[[ 96.62168122]\\n [  3.07211994]\\n [122.70753157]\\n [  2.25468629]]\\u003cbr\\u003e2024-03-10 00:55:44.405794\\u003cbr\\u003eindex: 0\",\"GroundTruthState\\u003cbr\\u003e[[ 99.67999514]\\n [  3.06576096]\\n [125.02557567]\\n [  2.29132511]]\\u003cbr\\u003e2024-03-10 00:55:45.405794\\u003cbr\\u003eindex: 0\",\"GroundTruthState\\u003cbr\\u003e[[102.69185672]\\n [  2.99636998]\\n [127.26604235]\\n [  2.15379625]]\\u003cbr\\u003e2024-03-10 00:55:46.405794\\u003cbr\\u003eindex: 0\",\"GroundTruthState\\u003cbr\\u003e[[105.66071771]\\n [  2.87782762]\\n [129.32545847]\\n [  1.88472287]]\\u003cbr\\u003e2024-03-10 00:55:47.405794\\u003cbr\\u003eindex: 0\",\"GroundTruthState\\u003cbr\\u003e[[108.42525158]\\n [  2.71673328]\\n [131.07183735]\\n [  1.73931256]]\\u003cbr\\u003e2024-03-10 00:55:48.405794\\u003cbr\\u003eindex: 0\"],\"x\":[-6.075457790076113,-4.5069866325228025,-2.8368971777765153,-1.260579016917018,0.32916317468802686,1.8850175881666327,3.390600670235095,4.862534516806671,6.33207337700526,7.720320831063729,9.180109284508584,10.430697040676709,11.783370825499194,13.19867429366351,14.568977509227834,16.212630506675772,17.938823265944407,19.72787990451282,21.601966930814065,23.55107368385035,25.487314440864875,27.45778574469905,29.376222663597698,31.27556600256788,33.42796649934722,35.63939577268038,38.0659027008848,40.72465935372254,43.407853691383856,46.14860528323501,48.96631804230176,51.834480556595196,54.93573146650488,58.23477945784279,61.74112102467972,65.28605468126847,68.77282284510534,72.27382397840651,75.73499004482484,78.73406821622132,81.63176964006782,84.5709662733044,87.62585934665383,90.70249823372696,93.60484898461463,96.62168122441348,99.67999513853566,102.691856717158,105.66071770505144,108.42525157591389],\"y\":[34.45923919058518,36.08742887974784,37.62212417124505,39.22622617668711,40.80097992986602,42.26872645653423,43.83864664710129,45.54459497228568,47.28214746008438,49.134748260396904,50.887607187031385,52.55178193206889,54.24696203394817,56.0225340072381,57.993897411375826,59.96641387630622,61.780608959233476,63.615738801921154,65.64221891337397,67.66992512664646,69.71568712981919,71.73990806092543,73.8303664008879,76.17293355025868,78.45741943132164,80.68077129650769,82.86322446472663,85.15989490014306,87.32479158176454,89.42459182469118,91.45561826820382,93.54743046814787,95.73985124046256,97.92209121158098,99.987825936673,102.05102907248516,104.13208609841014,106.22506291596268,108.3309899666616,110.22640525438217,112.20326298029705,114.22076005350117,116.2357844059981,118.4350203081805,120.56898463223727,122.70753157192532,125.02557566577242,127.26604235151149,129.32545846675555,131.07183735461345],\"type\":\"scatter\"},{\"legendgroup\":\"Measurements\\u003cbr\\u003e(Detections)\",\"legendrank\":200,\"marker\":{\"color\":\"#636EFA\"},\"mode\":\"markers\",\"name\":\"Measurements\\u003cbr\\u003e(Detections)\",\"showlegend\":true,\"text\":[\"TrueDetection\\u003cbr\\u003e[[Bearing(1.3085541120997348)]\\n [71.59413551472592]]\\u003cbr\\u003e2024-03-10 00:55:18.405794\",\"TrueDetection\\u003cbr\\u003e[[Bearing(1.2914011779993455)]\\n [66.89413795778725]]\\u003cbr\\u003e2024-03-10 00:55:16.405794\",\"TrueDetection\\u003cbr\\u003e[[Bearing(0.9788436312162361)]\\n [110.3921516019565]]\\u003cbr\\u003e2024-03-10 00:55:31.405794\",\"TrueDetection\\u003cbr\\u003e[[Bearing(1.3300803338325569)]\\n [55.64817142424719]]\\u003cbr\\u003e2024-03-10 00:55:11.405794\",\"TrueDetection\\u003cbr\\u003e[[Bearing(1.7849031808950375)]\\n [36.39587205022138]]\\u003cbr\\u003e2024-03-10 00:55:00.405794\",\"TrueDetection\\u003cbr\\u003e[[Bearing(1.5063101187770362)]\\n [40.43058989015857]]\\u003cbr\\u003e2024-03-10 00:55:03.405794\",\"TrueDetection\\u003cbr\\u003e[[Bearing(1.1190040720255965)]\\n [103.91503700005029]]\\u003cbr\\u003e2024-03-10 00:55:29.405794\",\"TrueDetection\\u003cbr\\u003e[[Bearing(0.8529574205815096)]\\n [152.56169254859014]]\\u003cbr\\u003e2024-03-10 00:55:43.405794\",\"TrueDetection\\u003cbr\\u003e[[Bearing(1.3340614045527488)]\\n [58.080496213496275]]\\u003cbr\\u003e2024-03-10 00:55:12.405794\",\"TrueDetection\\u003cbr\\u003e[[Bearing(1.6779598276569647)]\\n [38.23186124045029]]\\u003cbr\\u003e2024-03-10 00:55:01.405794\",\"TrueDetection\\u003cbr\\u003e[[Bearing(1.6055131987946254)]\\n [44.4941601887107]]\\u003cbr\\u003e2024-03-10 00:55:05.405794\",\"TrueDetection\\u003cbr\\u003e[[Bearing(0.9787194265785146)]\\n [117.0446201959726]]\\u003cbr\\u003e2024-03-10 00:55:33.405794\",\"TrueDetection\\u003cbr\\u003e[[Bearing(1.2341935169678084)]\\n [59.86958402784109]]\\u003cbr\\u003e2024-03-10 00:55:13.405794\",\"TrueDetection\\u003cbr\\u003e[[Bearing(0.9064695213332454)]\\n [135.49858237982417]]\\u003cbr\\u003e2024-03-10 00:55:38.405794\",\"TrueDetection\\u003cbr\\u003e[[Bearing(1.3284873287604952)]\\n [51.978853183328916]]\\u003cbr\\u003e2024-03-10 00:55:09.405794\",\"TrueDetection\\u003cbr\\u003e[[Bearing(1.193742240711262)]\\n [91.63056259713134]]\\u003cbr\\u003e2024-03-10 00:55:25.405794\",\"TrueDetection\\u003cbr\\u003e[[Bearing(1.32030748001897)]\\n [62.280139745028244]]\\u003cbr\\u003e2024-03-10 00:55:14.405794\",\"TrueDetection\\u003cbr\\u003e[[Bearing(1.0020061315395354)]\\n [128.59863903994184]]\\u003cbr\\u003e2024-03-10 00:55:36.405794\",\"TrueDetection\\u003cbr\\u003e[[Bearing(0.7943706478611694)]\\n [149.08234810211644]]\\u003cbr\\u003e2024-03-10 00:55:42.405794\",\"TrueDetection\\u003cbr\\u003e[[Bearing(0.9491756436986627)]\\n [120.96586389033054]]\\u003cbr\\u003e2024-03-10 00:55:34.405794\",\"TrueDetection\\u003cbr\\u003e[[Bearing(0.8708120366392276)]\\n [138.67732587044748]]\\u003cbr\\u003e2024-03-10 00:55:39.405794\",\"TrueDetection\\u003cbr\\u003e[[Bearing(1.55346347228312)]\\n [39.89786627963626]]\\u003cbr\\u003e2024-03-10 00:55:02.405794\",\"TrueDetection\\u003cbr\\u003e[[Bearing(0.8425892793174143)]\\n [166.96272957706225]]\\u003cbr\\u003e2024-03-10 00:55:47.405794\",\"TrueDetection\\u003cbr\\u003e[[Bearing(1.4169991410969285)]\\n [53.96386429771457]]\\u003cbr\\u003e2024-03-10 00:55:10.405794\",\"TrueDetection\\u003cbr\\u003e[[Bearing(1.1032856930120705)]\\n [97.411417305145]]\\u003cbr\\u003e2024-03-10 00:55:27.405794\",\"TrueDetection\\u003cbr\\u003e[[Bearing(1.6599803006777734)]\\n [34.27601977129833]]\\u003cbr\\u003e2024-03-10 00:54:59.405794\",\"TrueDetection\\u003cbr\\u003e[[Bearing(1.1334855584570924)]\\n [88.2986245969877]]\\u003cbr\\u003e2024-03-10 00:55:24.405794\",\"TrueDetection\\u003cbr\\u003e[[Bearing(1.2050637607990176)]\\n [85.0730052976553]]\\u003cbr\\u003e2024-03-10 00:55:23.405794\",\"TrueDetection\\u003cbr\\u003e[[Bearing(1.1555442516690784)]\\n [79.30118974637956]]\\u003cbr\\u003e2024-03-10 00:55:21.405794\",\"TrueDetection\\u003cbr\\u003e[[Bearing(0.830070286694899)]\\n [164.06691977116384]]\\u003cbr\\u003e2024-03-10 00:55:46.405794\",\"TrueDetection\\u003cbr\\u003e[[Bearing(1.412007742170637)]\\n [47.244459513703205]]\\u003cbr\\u003e2024-03-10 00:55:07.405794\",\"TrueDetection\\u003cbr\\u003e[[Bearing(1.0134297423484275)]\\n [141.67078910582046]]\\u003cbr\\u003e2024-03-10 00:55:40.405794\",\"TrueDetection\\u003cbr\\u003e[[Bearing(1.2846517992175066)]\\n [69.25736621670139]]\\u003cbr\\u003e2024-03-10 00:55:17.405794\",\"TrueDetection\\u003cbr\\u003e[[Bearing(0.8415964813814649)]\\n [170.13357255852324]]\\u003cbr\\u003e2024-03-10 00:55:48.405794\",\"TrueDetection\\u003cbr\\u003e[[Bearing(1.014075349101546)]\\n [124.64957023684998]]\\u003cbr\\u003e2024-03-10 00:55:35.405794\",\"TrueDetection\\u003cbr\\u003e[[Bearing(0.9405149980879957)]\\n [132.51814082353565]]\\u003cbr\\u003e2024-03-10 00:55:37.405794\",\"TrueDetection\\u003cbr\\u003e[[Bearing(0.8576811447697144)]\\n [160.0619188460738]]\\u003cbr\\u003e2024-03-10 00:55:45.405794\",\"TrueDetection\\u003cbr\\u003e[[Bearing(1.3526200958156416)]\\n [49.32173513221956]]\\u003cbr\\u003e2024-03-10 00:55:08.405794\",\"TrueDetection\\u003cbr\\u003e[[Bearing(1.2743735129528115)]\\n [77.15249030371781]]\\u003cbr\\u003e2024-03-10 00:55:20.405794\",\"TrueDetection\\u003cbr\\u003e[[Bearing(0.960212554823527)]\\n [100.31929053169966]]\\u003cbr\\u003e2024-03-10 00:55:28.405794\",\"TrueDetection\\u003cbr\\u003e[[Bearing(0.8670763941876434)]\\n [155.5641896283944]]\\u003cbr\\u003e2024-03-10 00:55:44.405794\",\"TrueDetection\\u003cbr\\u003e[[Bearing(1.4302273003781014)]\\n [45.36959030255932]]\\u003cbr\\u003e2024-03-10 00:55:06.405794\",\"TrueDetection\\u003cbr\\u003e[[Bearing(1.2180151957245942)]\\n [82.43520498234422]]\\u003cbr\\u003e2024-03-10 00:55:22.405794\",\"TrueDetection\\u003cbr\\u003e[[Bearing(1.3514867579362093)]\\n [64.20605076806865]]\\u003cbr\\u003e2024-03-10 00:55:15.405794\",\"TrueDetection\\u003cbr\\u003e[[Bearing(1.4795856672272478)]\\n [42.56178593801173]]\\u003cbr\\u003e2024-03-10 00:55:04.405794\",\"TrueDetection\\u003cbr\\u003e[[Bearing(0.9661152667451312)]\\n [146.3566401143514]]\\u003cbr\\u003e2024-03-10 00:55:41.405794\",\"TrueDetection\\u003cbr\\u003e[[Bearing(1.0096331726141763)]\\n [114.23374000344322]]\\u003cbr\\u003e2024-03-10 00:55:32.405794\",\"TrueDetection\\u003cbr\\u003e[[Bearing(1.0289904702880275)]\\n [106.96127879362928]]\\u003cbr\\u003e2024-03-10 00:55:30.405794\",\"TrueDetection\\u003cbr\\u003e[[Bearing(1.1879328220999463)]\\n [74.35101556548392]]\\u003cbr\\u003e2024-03-10 00:55:19.405794\",\"TrueDetection\\u003cbr\\u003e[[Bearing(1.0742500323004514)]\\n [94.56484389986679]]\\u003cbr\\u003e2024-03-10 00:55:26.405794\"],\"x\":[18.560547498756225,18.44768423721559,61.5968926351818,13.266414807537997,-7.733204210213209,2.605408800653244,45.36708815475158,100.34873643604887,13.62161128481102,-4.089222812636369,-1.5443877885982173,65.32091739468727,19.773873315101113,83.53883867469874,12.47205596047859,33.736824389971304,15.437850283941504,69.26491397961657,104.46705504457434,70.44488646794612,89.33671984896442,0.6915092855674829,111.11912307429287,8.266810363307352,43.8999596733179,-3.052820981956969,37.394894969616104,30.424957145464383,31.991733202055723,110.71627729053833,7.470395404969759,74.93721495720126,19.54828126573274,113.35543417960051,65.8654784533134,78.10248910905086,104.71139322585428,10.675662422768838,22.53631237263807,57.51764890117838,100.6591132679697,6.356576821322222,28.482104959831258,13.968397528129586,3.876708041880184,83.20370871399442,60.79192097096103,55.15822557900075,27.775917121696093,45.0499137050457],\"y\":[69.14641217480018,64.30014494073447,91.60922416983583,54.04369732926068,35.5648289035562,40.34655429956406,93.4888347722915,114.91388571003482,56.46056806667344,38.01254359678736,44.46734933922953,97.12168072853721,56.509831231256186,106.68237089521705,50.46037057308193,85.19381833177242,60.33646149113199,108.35119590628233,106.35873695166983,98.3374709724231,106.06767272456733,39.891873214675066,124.61578373152966,53.326902182287576,86.95848297939749,34.13979811619508,79.98918011788308,79.44644871277471,72.56175095682147,121.07790924079478,46.65010340004991,120.22905763717883,66.44130849727519,126.86992572505332,105.82652837709222,107.05633490035522,121.05924992906422,48.152505524509344,73.78767772947019,82.19294445184659,118.60843144922326,44.92208427195597,77.3584689451534,62.668180328839554,42.3848647159709,120.40518660671782,96.71447513084426,91.64215903253564,68.96790517093804,83.1445426770399],\"type\":\"scatter\"},{\"legendgroup\":\"Sensors\",\"legendrank\":50,\"marker\":{\"color\":\"black\",\"symbol\":\"x\"},\"mode\":\"markers\",\"name\":\"Sensors\",\"showlegend\":true,\"x\":[0],\"y\":[0],\"type\":\"scatter\"},{\"legendgroup\":\"EKF\",\"legendrank\":300,\"line\":{\"color\":\"orange\"},\"marker\":{\"symbol\":[\"square\",\"square\",\"square\",\"square\",\"square\",\"square\",\"square\",\"square\",\"square\",\"square\",\"square\",\"square\",\"square\",\"square\",\"square\",\"square\",\"square\",\"square\",\"square\",\"square\",\"square\",\"square\",\"square\",\"square\",\"square\",\"square\",\"square\",\"square\",\"square\",\"square\",\"square\",\"square\",\"square\",\"square\",\"square\",\"square\",\"square\",\"square\",\"square\",\"square\",\"square\",\"square\",\"square\",\"square\",\"square\",\"square\",\"square\",\"square\",\"square\",\"square\"]},\"mode\":\"markers+lines\",\"name\":\"EKF\",\"showlegend\":true,\"text\":[\"GaussianStateUpdate\\u003cbr\\u003e[[-3.05282098]\\n [ 0.        ]\\n [34.13979812]\\n [ 0.        ]]\\u003cbr\\u003e2024-03-10 00:54:59.405794\",\"GaussianStateUpdate\\u003cbr\\u003e[[-5.59187724]\\n [-0.62704622]\\n [35.86492733]\\n [ 1.72730639]]\\u003cbr\\u003e2024-03-10 00:55:00.405794\",\"GaussianStateUpdate\\u003cbr\\u003e[[-5.30288495]\\n [-0.28679905]\\n [37.84700471]\\n [ 1.90414494]]\\u003cbr\\u003e2024-03-10 00:55:01.405794\",\"GaussianStateUpdate\\u003cbr\\u003e[[-2.5574951 ]\\n [ 1.02759095]\\n [39.97079512]\\n [ 1.88550828]]\\u003cbr\\u003e2024-03-10 00:55:02.405794\",\"GaussianStateUpdate\\u003cbr\\u003e[[ 0.12355997]\\n [ 1.79939842]\\n [40.65445394]\\n [ 0.72099956]]\\u003cbr\\u003e2024-03-10 00:55:03.405794\",\"GaussianStateUpdate\\u003cbr\\u003e[[ 3.1967638 ]\\n [ 2.31564215]\\n [42.33061688]\\n [ 1.53661792]]\\u003cbr\\u003e2024-03-10 00:55:04.405794\",\"GaussianStateUpdate\\u003cbr\\u003e[[ 2.1489586 ]\\n [ 1.09543861]\\n [44.51786137]\\n [ 2.05412491]]\\u003cbr\\u003e2024-03-10 00:55:05.405794\",\"GaussianStateUpdate\\u003cbr\\u003e[[ 5.10790928]\\n [ 1.64806632]\\n [45.26601669]\\n [ 1.0212702 ]]\\u003cbr\\u003e2024-03-10 00:55:06.405794\",\"GaussianStateUpdate\\u003cbr\\u003e[[ 7.27679803]\\n [ 1.84678686]\\n [46.63017112]\\n [ 1.34588055]]\\u003cbr\\u003e2024-03-10 00:55:07.405794\",\"GaussianStateUpdate\\u003cbr\\u003e[[ 9.9640837 ]\\n [ 2.18506156]\\n [48.25368105]\\n [ 1.64642268]]\\u003cbr\\u003e2024-03-10 00:55:08.405794\",\"GaussianStateUpdate\\u003cbr\\u003e[[12.46835825]\\n [ 2.37059764]\\n [50.38526164]\\n [ 2.09433485]]\\u003cbr\\u003e2024-03-10 00:55:09.405794\",\"GaussianStateUpdate\\u003cbr\\u003e[[11.73449662]\\n [ 1.24682109]\\n [52.82526723]\\n [ 2.01797154]]\\u003cbr\\u003e2024-03-10 00:55:10.405794\",\"GaussianStateUpdate\\u003cbr\\u003e[[13.25034119]\\n [ 1.22308912]\\n [54.13491917]\\n [ 1.46276581]]\\u003cbr\\u003e2024-03-10 00:55:11.405794\",\"GaussianStateUpdate\\u003cbr\\u003e[[14.25907998]\\n [ 1.21770374]\\n [56.22421625]\\n [ 1.97295705]]\\u003cbr\\u003e2024-03-10 00:55:12.405794\",\"GaussianStateUpdate\\u003cbr\\u003e[[17.37679311]\\n [ 1.78157575]\\n [57.37414956]\\n [ 1.53058886]]\\u003cbr\\u003e2024-03-10 00:55:13.405794\",\"GaussianStateUpdate\\u003cbr\\u003e[[17.71028252]\\n [ 1.38371251]\\n [59.67831883]\\n [ 1.9815809 ]]\\u003cbr\\u003e2024-03-10 00:55:14.405794\",\"GaussianStateUpdate\\u003cbr\\u003e[[16.92248588]\\n [ 0.64039359]\\n [62.02407705]\\n [ 1.93197766]]\\u003cbr\\u003e2024-03-10 00:55:15.405794\",\"GaussianStateUpdate\\u003cbr\\u003e[[17.86909502]\\n [ 0.82596212]\\n [64.39115177]\\n [ 2.34437441]]\\u003cbr\\u003e2024-03-10 00:55:16.405794\",\"GaussianStateUpdate\\u003cbr\\u003e[[19.04407794]\\n [ 0.92593667]\\n [66.5951899 ]\\n [ 2.27878894]]\\u003cbr\\u003e2024-03-10 00:55:17.405794\",\"GaussianStateUpdate\\u003cbr\\u003e[[19.35618478]\\n [ 0.7301205 ]\\n [68.94450522]\\n [ 2.24420442]]\\u003cbr\\u003e2024-03-10 00:55:18.405794\",\"GaussianStateUpdate\\u003cbr\\u003e[[23.33029522]\\n [ 1.73127692]\\n [70.61915764]\\n [ 2.27916602]]\\u003cbr\\u003e2024-03-10 00:55:19.405794\",\"GaussianStateUpdate\\u003cbr\\u003e[[24.11629298]\\n [ 1.47940033]\\n [73.27807983]\\n [ 2.44954925]]\\u003cbr\\u003e2024-03-10 00:55:20.405794\",\"GaussianStateUpdate\\u003cbr\\u003e[[28.1867199 ]\\n [ 2.07617951]\\n [74.2558326 ]\\n [ 1.71039145]]\\u003cbr\\u003e2024-03-10 00:55:21.405794\",\"GaussianStateUpdate\\u003cbr\\u003e[[30.01555186]\\n [ 2.13721682]\\n [76.68899271]\\n [ 2.2557156 ]]\\u003cbr\\u003e2024-03-10 00:55:22.405794\",\"GaussianStateUpdate\\u003cbr\\u003e[[31.4706334 ]\\n [ 1.9130521 ]\\n [79.06340235]\\n [ 2.2133471 ]]\\u003cbr\\u003e2024-03-10 00:55:23.405794\",\"GaussianStateUpdate\\u003cbr\\u003e[[34.99258713]\\n [ 2.44330536]\\n [81.02629356]\\n [ 2.35524129]]\\u003cbr\\u003e2024-03-10 00:55:24.405794\",\"GaussianStateUpdate\\u003cbr\\u003e[[36.19548652]\\n [ 2.17637838]\\n [84.15518629]\\n [ 2.69895331]]\\u003cbr\\u003e2024-03-10 00:55:25.405794\",\"GaussianStateUpdate\\u003cbr\\u003e[[40.8865794 ]\\n [ 2.73076216]\\n [85.36465614]\\n [ 2.11910734]]\\u003cbr\\u003e2024-03-10 00:55:26.405794\",\"GaussianStateUpdate\\u003cbr\\u003e[[43.44974721]\\n [ 2.60867352]\\n [87.23046674]\\n [ 1.88290913]]\\u003cbr\\u003e2024-03-10 00:55:27.405794\",\"GaussianStateUpdate\\u003cbr\\u003e[[50.37590904]\\n [ 3.66598333]\\n [86.88959041]\\n [ 1.26413788]]\\u003cbr\\u003e2024-03-10 00:55:28.405794\",\"GaussianStateUpdate\\u003cbr\\u003e[[51.73761884]\\n [ 3.3089874 ]\\n [90.07175105]\\n [ 2.09748654]]\\u003cbr\\u003e2024-03-10 00:55:29.405794\",\"GaussianStateUpdate\\u003cbr\\u003e[[55.1626582 ]\\n [ 3.19500328]\\n [91.6938105 ]\\n [ 1.80505815]]\\u003cbr\\u003e2024-03-10 00:55:30.405794\",\"GaussianStateUpdate\\u003cbr\\u003e[[59.56215672]\\n [ 3.5373405 ]\\n [92.93168569]\\n [ 1.73869251]]\\u003cbr\\u003e2024-03-10 00:55:31.405794\",\"GaussianStateUpdate\\u003cbr\\u003e[[62.63398206]\\n [ 3.58044651]\\n [95.46563103]\\n [ 2.16091478]]\\u003cbr\\u003e2024-03-10 00:55:32.405794\",\"GaussianStateUpdate\\u003cbr\\u003e[[65.68357228]\\n [ 3.13584692]\\n [97.01120241]\\n [ 1.59841838]]\\u003cbr\\u003e2024-03-10 00:55:33.405794\",\"GaussianStateUpdate\\u003cbr\\u003e[[69.67111981]\\n [ 3.57607717]\\n [98.78337428]\\n [ 1.96531715]]\\u003cbr\\u003e2024-03-10 00:55:34.405794\",\"GaussianStateUpdate\\u003cbr\\u003e[[ 70.89567629]\\n [  3.09856966]\\n [102.54866172]\\n [  2.44404966]]\\u003cbr\\u003e2024-03-10 00:55:35.405794\",\"GaussianStateUpdate\\u003cbr\\u003e[[ 72.4665895 ]\\n [  2.80676324]\\n [106.2389445 ]\\n [  2.78170025]]\\u003cbr\\u003e2024-03-10 00:55:36.405794\",\"GaussianStateUpdate\\u003cbr\\u003e[[ 76.20147095]\\n [  3.02779458]\\n [108.41679663]\\n [  2.67344436]]\\u003cbr\\u003e2024-03-10 00:55:37.405794\",\"GaussianStateUpdate\\u003cbr\\u003e[[ 79.94315484]\\n [  2.87468127]\\n [109.55959156]\\n [  1.8616431 ]]\\u003cbr\\u003e2024-03-10 00:55:38.405794\",\"GaussianStateUpdate\\u003cbr\\u003e[[ 84.85333988]\\n [  3.23478833]\\n [109.74855331]\\n [  1.40192155]]\\u003cbr\\u003e2024-03-10 00:55:39.405794\",\"GaussianStateUpdate\\u003cbr\\u003e[[ 83.97481321]\\n [  2.37795425]\\n [114.22174239]\\n [  2.06711253]]\\u003cbr\\u003e2024-03-10 00:55:40.405794\",\"GaussianStateUpdate\\u003cbr\\u003e[[ 84.55000418]\\n [  2.59221278]\\n [119.30546791]\\n [  3.32065476]]\\u003cbr\\u003e2024-03-10 00:55:41.405794\",\"GaussianStateUpdate\\u003cbr\\u003e[[ 92.65283834]\\n [  3.36347047]\\n [117.23423583]\\n [  1.64002115]]\\u003cbr\\u003e2024-03-10 00:55:42.405794\",\"GaussianStateUpdate\\u003cbr\\u003e[[ 96.72911408]\\n [  3.4175502 ]\\n [118.03231353]\\n [  1.30779182]]\\u003cbr\\u003e2024-03-10 00:55:43.405794\",\"GaussianStateUpdate\\u003cbr\\u003e[[100.19414013]\\n [  3.32860331]\\n [119.03788955]\\n [  1.14287791]]\\u003cbr\\u003e2024-03-10 00:55:44.405794\",\"GaussianStateUpdate\\u003cbr\\u003e[[104.33414843]\\n [  4.1254921 ]\\n [121.15504535]\\n [  1.94138509]]\\u003cbr\\u003e2024-03-10 00:55:45.405794\",\"GaussianStateUpdate\\u003cbr\\u003e[[109.12420304]\\n [  4.25766186]\\n [122.51742972]\\n [  1.82072561]]\\u003cbr\\u003e2024-03-10 00:55:46.405794\",\"GaussianStateUpdate\\u003cbr\\u003e[[111.8386752 ]\\n [  3.41365213]\\n [124.18655963]\\n [  1.22646253]]\\u003cbr\\u003e2024-03-10 00:55:47.405794\",\"GaussianStateUpdate\\u003cbr\\u003e[[114.63759729]\\n [  3.21263206]\\n [125.74670299]\\n [  1.2104941 ]]\\u003cbr\\u003e2024-03-10 00:55:48.405794\"],\"x\":[-3.052820981956969,-5.591877244789243,-5.30288495486024,-2.55749509852171,0.12355996679618197,3.1967637998289806,2.148958602046168,5.107909281868392,7.276798025236365,9.964083695215457,12.468358247917093,11.734496619370951,13.250341191502626,14.25907997681099,17.376793109948018,17.710282515411567,16.922485879938193,17.869095021267697,19.044077944006823,19.356184780481662,23.33029521907055,24.11629298050639,28.186719899637534,30.015551859439082,31.470633397312938,34.992587134575444,36.195486519169464,40.88657940339758,43.449747205011235,50.37590904001671,51.73761884103884,55.1626581965913,59.56215672082974,62.63398205836667,65.6835722822361,69.67111981446097,70.89567628908911,72.46658950100564,76.20147095204571,79.94315484018809,84.8533398782292,83.9748132107395,84.5500041763328,92.65283834398689,96.72911407718189,100.19414013269311,104.33414843402619,109.12420303939784,111.83867520372887,114.63759728797203],\"y\":[34.13979811619508,35.864927325854495,37.8470047052074,39.970795123519714,40.654453940432155,42.33061687809712,44.517861374250764,45.26601669407921,46.630171118321115,48.25368105310775,50.38526163944632,52.825267231622156,54.13491916919213,56.224216248797184,57.37414956262435,59.67831882682448,62.02407704502393,64.39115177275639,66.59518989616136,68.94450521819276,70.61915763658271,73.2780798292534,74.25583259765014,76.68899271119815,79.06340234950183,81.02629356215937,84.15518629217591,85.36465613523757,87.23046673845099,86.88959040866494,90.07175105184159,91.69381050052966,92.9316856860662,95.46563102933816,97.01120241435864,98.78337428025895,102.5486617172815,106.23894449845383,108.41679662993616,109.55959155633278,109.74855331061282,114.22174239033755,119.30546791065086,117.23423583464785,118.0323135296001,119.03788955018719,121.15504534709936,122.51742972162955,124.18655963019535,125.74670299279836],\"type\":\"scatter\"},{\"legendgroup\":\"UKF\",\"legendrank\":300,\"line\":{\"color\":\"blue\"},\"marker\":{\"symbol\":[\"square\",\"square\",\"square\",\"square\",\"square\",\"square\",\"square\",\"square\",\"square\",\"square\",\"square\",\"square\",\"square\",\"square\",\"square\",\"square\",\"square\",\"square\",\"square\",\"square\",\"square\",\"square\",\"square\",\"square\",\"square\",\"square\",\"square\",\"square\",\"square\",\"square\",\"square\",\"square\",\"square\",\"square\",\"square\",\"square\",\"square\",\"square\",\"square\",\"square\",\"square\",\"square\",\"square\",\"square\",\"square\",\"square\",\"square\",\"square\",\"square\",\"square\"]},\"mode\":\"markers+lines\",\"name\":\"UKF\",\"showlegend\":true,\"text\":[\"GaussianStateUpdate\\u003cbr\\u003e[[-3.05282098]\\n [ 0.        ]\\n [34.13979812]\\n [ 0.        ]]\\u003cbr\\u003e2024-03-10 00:54:59.405794\",\"GaussianStateUpdate\\u003cbr\\u003e[[-5.58436733]\\n [-0.61986205]\\n [35.77580725]\\n [ 1.64592115]]\\u003cbr\\u003e2024-03-10 00:55:00.405794\",\"GaussianStateUpdate\\u003cbr\\u003e[[-5.31954586]\\n [-0.29514777]\\n [37.77108721]\\n [ 1.8973261 ]]\\u003cbr\\u003e2024-03-10 00:55:01.405794\",\"GaussianStateUpdate\\u003cbr\\u003e[[-2.56480425]\\n [ 1.02452905]\\n [39.90669158]\\n [ 1.89573829]]\\u003cbr\\u003e2024-03-10 00:55:02.405794\",\"GaussianStateUpdate\\u003cbr\\u003e[[ 0.1443739 ]\\n [ 1.80809975]\\n [40.60041193]\\n [ 0.750406  ]]\\u003cbr\\u003e2024-03-10 00:55:03.405794\",\"GaussianStateUpdate\\u003cbr\\u003e[[ 3.19242902]\\n [ 2.30610732]\\n [42.24446223]\\n [ 1.49441117]]\\u003cbr\\u003e2024-03-10 00:55:04.405794\",\"GaussianStateUpdate\\u003cbr\\u003e[[ 2.14573814]\\n [ 1.09079408]\\n [44.42929844]\\n [ 2.03596236]]\\u003cbr\\u003e2024-03-10 00:55:05.405794\",\"GaussianStateUpdate\\u003cbr\\u003e[[ 5.06108129]\\n [ 1.63978302]\\n [45.1994853 ]\\n [ 1.05543281]]\\u003cbr\\u003e2024-03-10 00:55:06.405794\",\"GaussianStateUpdate\\u003cbr\\u003e[[ 7.22089523]\\n [ 1.83749448]\\n [46.55835444]\\n [ 1.33827565]]\\u003cbr\\u003e2024-03-10 00:55:07.405794\",\"GaussianStateUpdate\\u003cbr\\u003e[[ 9.92548326]\\n [ 2.18221672]\\n [48.1760758 ]\\n [ 1.63301205]]\\u003cbr\\u003e2024-03-10 00:55:08.405794\",\"GaussianStateUpdate\\u003cbr\\u003e[[12.439526  ]\\n [ 2.36920722]\\n [50.30227244]\\n [ 2.07779581]]\\u003cbr\\u003e2024-03-10 00:55:09.405794\",\"GaussianStateUpdate\\u003cbr\\u003e[[11.72001504]\\n [ 1.25818274]\\n [52.74760087]\\n [ 2.03128264]]\\u003cbr\\u003e2024-03-10 00:55:10.405794\",\"GaussianStateUpdate\\u003cbr\\u003e[[13.22355388]\\n [ 1.22948197]\\n [54.06671795]\\n [ 1.48192719]]\\u003cbr\\u003e2024-03-10 00:55:11.405794\",\"GaussianStateUpdate\\u003cbr\\u003e[[14.21722927]\\n [ 1.21217879]\\n [56.14436114]\\n [ 1.95031334]]\\u003cbr\\u003e2024-03-10 00:55:12.405794\",\"GaussianStateUpdate\\u003cbr\\u003e[[17.3465882 ]\\n [ 1.78737598]\\n [57.29590362]\\n [ 1.53763489]]\\u003cbr\\u003e2024-03-10 00:55:13.405794\",\"GaussianStateUpdate\\u003cbr\\u003e[[17.67260042]\\n [ 1.38042966]\\n [59.59559543]\\n [ 1.96905037]]\\u003cbr\\u003e2024-03-10 00:55:14.405794\",\"GaussianStateUpdate\\u003cbr\\u003e[[16.87732721]\\n [ 0.64412796]\\n [61.9497765 ]\\n [ 1.94388456]]\\u003cbr\\u003e2024-03-10 00:55:15.405794\",\"GaussianStateUpdate\\u003cbr\\u003e[[17.84214182]\\n [ 0.82719257]\\n [64.3022989 ]\\n [ 2.32489638]]\\u003cbr\\u003e2024-03-10 00:55:16.405794\",\"GaussianStateUpdate\\u003cbr\\u003e[[19.02584936]\\n [ 0.9321828 ]\\n [66.506252  ]\\n [ 2.27761624]]\\u003cbr\\u003e2024-03-10 00:55:17.405794\",\"GaussianStateUpdate\\u003cbr\\u003e[[19.34062792]\\n [ 0.73617795]\\n [68.85681337]\\n [ 2.24693111]]\\u003cbr\\u003e2024-03-10 00:55:18.405794\",\"GaussianStateUpdate\\u003cbr\\u003e[[23.31488047]\\n [ 1.73064967]\\n [70.52329292]\\n [ 2.26280798]]\\u003cbr\\u003e2024-03-10 00:55:19.405794\",\"GaussianStateUpdate\\u003cbr\\u003e[[24.1040397 ]\\n [ 1.48143131]\\n [73.1810488 ]\\n [ 2.44304173]]\\u003cbr\\u003e2024-03-10 00:55:20.405794\",\"GaussianStateUpdate\\u003cbr\\u003e[[28.15552311]\\n [ 2.08294024]\\n [74.17606607]\\n [ 1.73200496]]\\u003cbr\\u003e2024-03-10 00:55:21.405794\",\"GaussianStateUpdate\\u003cbr\\u003e[[29.93312516]\\n [ 2.11571635]\\n [76.61435014]\\n [ 2.23807564]]\\u003cbr\\u003e2024-03-10 00:55:22.405794\",\"GaussianStateUpdate\\u003cbr\\u003e[[31.39382141]\\n [ 1.90895586]\\n [78.99121124]\\n [ 2.22009764]]\\u003cbr\\u003e2024-03-10 00:55:23.405794\",\"GaussianStateUpdate\\u003cbr\\u003e[[34.93013092]\\n [ 2.43624228]\\n [80.94323059]\\n [ 2.34164395]]\\u003cbr\\u003e2024-03-10 00:55:24.405794\",\"GaussianStateUpdate\\u003cbr\\u003e[[36.13832648]\\n [ 2.17299002]\\n [84.06682394]\\n [ 2.68781859]]\\u003cbr\\u003e2024-03-10 00:55:25.405794\",\"GaussianStateUpdate\\u003cbr\\u003e[[40.82636947]\\n [ 2.7376354 ]\\n [85.28825528]\\n [ 2.13270906]]\\u003cbr\\u003e2024-03-10 00:55:26.405794\",\"GaussianStateUpdate\\u003cbr\\u003e[[43.4120789 ]\\n [ 2.6198698 ]\\n [87.14668679]\\n [ 1.89294197]]\\u003cbr\\u003e2024-03-10 00:55:27.405794\",\"GaussianStateUpdate\\u003cbr\\u003e[[50.344655  ]\\n [ 3.66861393]\\n [86.7976822 ]\\n [ 1.25945179]]\\u003cbr\\u003e2024-03-10 00:55:28.405794\",\"GaussianStateUpdate\\u003cbr\\u003e[[51.63544159]\\n [ 3.28052644]\\n [90.00266704]\\n [ 2.07757969]]\\u003cbr\\u003e2024-03-10 00:55:29.405794\",\"GaussianStateUpdate\\u003cbr\\u003e[[55.02811492]\\n [ 3.19163714]\\n [91.65946778]\\n [ 1.82805083]]\\u003cbr\\u003e2024-03-10 00:55:30.405794\",\"GaussianStateUpdate\\u003cbr\\u003e[[59.44340148]\\n [ 3.52956945]\\n [92.88820609]\\n [ 1.74107882]]\\u003cbr\\u003e2024-03-10 00:55:31.405794\",\"GaussianStateUpdate\\u003cbr\\u003e[[62.51259952]\\n [ 3.56330967]\\n [95.41120604]\\n [ 2.14420856]]\\u003cbr\\u003e2024-03-10 00:55:32.405794\",\"GaussianStateUpdate\\u003cbr\\u003e[[65.56715818]\\n [ 3.15948408]\\n [96.97574598]\\n [ 1.63191256]]\\u003cbr\\u003e2024-03-10 00:55:33.405794\",\"GaussianStateUpdate\\u003cbr\\u003e[[69.55109425]\\n [ 3.55791815]\\n [98.72877657]\\n [ 1.93915217]]\\u003cbr\\u003e2024-03-10 00:55:34.405794\",\"GaussianStateUpdate\\u003cbr\\u003e[[ 70.79661694]\\n [  3.09772126]\\n [102.47414041]\\n [  2.43045787]]\\u003cbr\\u003e2024-03-10 00:55:35.405794\",\"GaussianStateUpdate\\u003cbr\\u003e[[ 72.38133468]\\n [  2.81274891]\\n [106.15756315]\\n [  2.77442575]]\\u003cbr\\u003e2024-03-10 00:55:36.405794\",\"GaussianStateUpdate\\u003cbr\\u003e[[ 76.12861798]\\n [  3.03618065]\\n [108.3301401 ]\\n [  2.66793376]]\\u003cbr\\u003e2024-03-10 00:55:37.405794\",\"GaussianStateUpdate\\u003cbr\\u003e[[ 79.94967377]\\n [  2.92080161]\\n [109.43894605]\\n [  1.88911787]]\\u003cbr\\u003e2024-03-10 00:55:38.405794\",\"GaussianStateUpdate\\u003cbr\\u003e[[ 84.82711646]\\n [  3.24680924]\\n [109.64045688]\\n [  1.40207146]]\\u003cbr\\u003e2024-03-10 00:55:39.405794\",\"GaussianStateUpdate\\u003cbr\\u003e[[ 83.9291315 ]\\n [  2.37731036]\\n [114.11645147]\\n [  2.05988508]]\\u003cbr\\u003e2024-03-10 00:55:40.405794\",\"GaussianStateUpdate\\u003cbr\\u003e[[ 84.67550711]\\n [  2.57954309]\\n [119.03256504]\\n [  3.23527486]]\\u003cbr\\u003e2024-03-10 00:55:41.405794\",\"GaussianStateUpdate\\u003cbr\\u003e[[ 92.71022625]\\n [  3.39315759]\\n [117.04328359]\\n [  1.68995143]]\\u003cbr\\u003e2024-03-10 00:55:42.405794\",\"GaussianStateUpdate\\u003cbr\\u003e[[ 96.76401232]\\n [  3.42516963]\\n [117.8721248 ]\\n [  1.34132324]]\\u003cbr\\u003e2024-03-10 00:55:43.405794\",\"GaussianStateUpdate\\u003cbr\\u003e[[100.17834135]\\n [  3.31966894]\\n [118.92153009]\\n [  1.17064914]]\\u003cbr\\u003e2024-03-10 00:55:44.405794\",\"GaussianStateUpdate\\u003cbr\\u003e[[104.28171246]\\n [  4.04716368]\\n [121.01586863]\\n [  1.90330778]]\\u003cbr\\u003e2024-03-10 00:55:45.405794\",\"GaussianStateUpdate\\u003cbr\\u003e[[109.05548924]\\n [  4.23014288]\\n [122.40077978]\\n [  1.83513632]]\\u003cbr\\u003e2024-03-10 00:55:46.405794\",\"GaussianStateUpdate\\u003cbr\\u003e[[111.82384366]\\n [  3.45596982]\\n [124.06947301]\\n [  1.2947632 ]]\\u003cbr\\u003e2024-03-10 00:55:47.405794\",\"GaussianStateUpdate\\u003cbr\\u003e[[114.59261973]\\n [  3.20692399]\\n [125.64492196]\\n [  1.23370807]]\\u003cbr\\u003e2024-03-10 00:55:48.405794\"],\"x\":[-3.052820981956969,-5.584367327168694,-5.31954585917383,-2.564804251702345,0.14437389598024986,3.192429023493765,2.145738140640174,5.061081294865506,7.22089522926408,9.92548326293158,12.439525999888643,11.720015040540392,13.223553876465836,14.217229265912978,17.346588200362774,17.67260042462576,16.877327206532687,17.842141820442887,19.025849361137855,19.34062791892134,23.314880465363377,24.104039704422366,28.155523111003802,29.933125163753196,31.39382140910517,34.93013092391064,36.138326476144876,40.82636947252192,43.41207889514189,50.34465499948883,51.635441585802205,55.028114917931426,59.443401477983144,62.5125995240712,65.56715818466435,69.55109425278523,70.79661694409015,72.38133468040527,76.12861798376127,79.94967376719455,84.82711646095856,83.9291314990591,84.67550710656772,92.71022625167032,96.7640123206961,100.1783413495328,104.28171245854558,109.05548923574177,111.82384366365736,114.59261973247173],\"y\":[34.13979811619508,35.775807251029796,37.77108720870142,39.90669157874817,40.600411927186826,42.24446222767027,44.429298439531635,45.19948530224909,46.55835443972258,48.176075798248746,50.30227243900614,52.747600865049996,54.06671794623183,56.14436114091361,57.29590361708167,59.595595430909015,61.949776504715324,64.30229889945599,66.50625199813733,68.85681337395083,70.52329291694559,73.18104880181951,74.17606607154408,76.61435013734736,78.99121124220856,80.94323058632806,84.06682394228488,85.2882552829514,87.14668679331682,86.79768220212516,90.00266704116235,91.65946777754151,92.88820608796924,95.4112060444294,96.97574597520946,98.72877657008719,102.47414040750556,106.15756315267407,108.33014009727265,109.43894605353475,109.64045688008807,114.11645146851045,119.03256504414863,117.0432835855575,117.87212479933788,118.92153009424932,121.01586862755272,122.40077977515652,124.06947300810953,125.64492195852834],\"type\":\"scatter\"},{\"legendgroup\":\"SIF\",\"legendrank\":300,\"line\":{\"color\":\"red\"},\"marker\":{\"symbol\":[\"square\",\"square\",\"square\",\"square\",\"square\",\"square\",\"square\",\"square\",\"square\",\"square\",\"square\",\"square\",\"square\",\"square\",\"square\",\"square\",\"square\",\"square\",\"square\",\"square\",\"square\",\"square\",\"square\",\"square\",\"square\",\"square\",\"square\",\"square\",\"square\",\"square\",\"square\",\"square\",\"square\",\"square\",\"square\",\"square\",\"square\",\"square\",\"square\",\"square\",\"square\",\"square\",\"square\",\"square\",\"square\",\"square\",\"square\",\"square\",\"square\",\"square\"]},\"mode\":\"markers+lines\",\"name\":\"SIF\",\"showlegend\":true,\"text\":[\"GaussianStateUpdate\\u003cbr\\u003e[[-3.05282098]\\n [ 0.        ]\\n [34.13979812]\\n [ 0.        ]]\\u003cbr\\u003e2024-03-10 00:54:59.405794\",\"GaussianStateUpdate\\u003cbr\\u003e[[-5.58874048]\\n [-0.62324118]\\n [35.78374832]\\n [ 1.65345496]]\\u003cbr\\u003e2024-03-10 00:55:00.405794\",\"GaussianStateUpdate\\u003cbr\\u003e[[-5.31921039]\\n [-0.2954265 ]\\n [37.77513215]\\n [ 1.89542687]]\\u003cbr\\u003e2024-03-10 00:55:01.405794\",\"GaussianStateUpdate\\u003cbr\\u003e[[-2.56413594]\\n [ 1.02406896]\\n [39.90556197]\\n [ 1.88897056]]\\u003cbr\\u003e2024-03-10 00:55:02.405794\",\"GaussianStateUpdate\\u003cbr\\u003e[[ 0.15090021]\\n [ 1.81060606]\\n [40.5965136 ]\\n [ 0.74925374]]\\u003cbr\\u003e2024-03-10 00:55:03.405794\",\"GaussianStateUpdate\\u003cbr\\u003e[[ 3.19900422]\\n [ 2.30823053]\\n [42.23908241]\\n [ 1.49201835]]\\u003cbr\\u003e2024-03-10 00:55:04.405794\",\"GaussianStateUpdate\\u003cbr\\u003e[[ 2.14360425]\\n [ 1.09030764]\\n [44.43533799]\\n [ 2.04051047]]\\u003cbr\\u003e2024-03-10 00:55:05.405794\",\"GaussianStateUpdate\\u003cbr\\u003e[[ 5.07504415]\\n [ 1.64121503]\\n [45.20464138]\\n [ 1.04643391]]\\u003cbr\\u003e2024-03-10 00:55:06.405794\",\"GaussianStateUpdate\\u003cbr\\u003e[[ 7.23048957]\\n [ 1.83699648]\\n [46.56175599]\\n [ 1.33294339]]\\u003cbr\\u003e2024-03-10 00:55:07.405794\",\"GaussianStateUpdate\\u003cbr\\u003e[[ 9.93280847]\\n [ 2.18238794]\\n [48.17530513]\\n [ 1.63484376]]\\u003cbr\\u003e2024-03-10 00:55:08.405794\",\"GaussianStateUpdate\\u003cbr\\u003e[[12.44362588]\\n [ 2.36845374]\\n [50.30035047]\\n [ 2.07981062]]\\u003cbr\\u003e2024-03-10 00:55:09.405794\",\"GaussianStateUpdate\\u003cbr\\u003e[[11.71549758]\\n [ 1.25487338]\\n [52.74341615]\\n [ 2.02972416]]\\u003cbr\\u003e2024-03-10 00:55:10.405794\",\"GaussianStateUpdate\\u003cbr\\u003e[[13.22844288]\\n [ 1.22864304]\\n [54.06788214]\\n [ 1.47797421]]\\u003cbr\\u003e2024-03-10 00:55:11.405794\",\"GaussianStateUpdate\\u003cbr\\u003e[[14.22215574]\\n [ 1.21192303]\\n [56.14776132]\\n [ 1.9489618 ]]\\u003cbr\\u003e2024-03-10 00:55:12.405794\",\"GaussianStateUpdate\\u003cbr\\u003e[[17.35028143]\\n [ 1.78599272]\\n [57.29724546]\\n [ 1.5334092 ]]\\u003cbr\\u003e2024-03-10 00:55:13.405794\",\"GaussianStateUpdate\\u003cbr\\u003e[[17.6697911 ]\\n [ 1.37764834]\\n [59.59812544]\\n [ 1.96444431]]\\u003cbr\\u003e2024-03-10 00:55:14.405794\",\"GaussianStateUpdate\\u003cbr\\u003e[[16.87083546]\\n [ 0.64146382]\\n [61.94887554]\\n [ 1.93827214]]\\u003cbr\\u003e2024-03-10 00:55:15.405794\",\"GaussianStateUpdate\\u003cbr\\u003e[[17.83380929]\\n [ 0.82770773]\\n [64.30598799]\\n [ 2.33207886]]\\u003cbr\\u003e2024-03-10 00:55:16.405794\",\"GaussianStateUpdate\\u003cbr\\u003e[[19.01966137]\\n [ 0.93216214]\\n [66.50885709]\\n [ 2.27798717]]\\u003cbr\\u003e2024-03-10 00:55:17.405794\",\"GaussianStateUpdate\\u003cbr\\u003e[[19.33592386]\\n [ 0.73629435]\\n [68.85787191]\\n [ 2.24523197]]\\u003cbr\\u003e2024-03-10 00:55:18.405794\",\"GaussianStateUpdate\\u003cbr\\u003e[[23.3163988 ]\\n [ 1.73356295]\\n [70.5282783 ]\\n [ 2.26794576]]\\u003cbr\\u003e2024-03-10 00:55:19.405794\",\"GaussianStateUpdate\\u003cbr\\u003e[[24.10313849]\\n [ 1.48193304]\\n [73.18273567]\\n [ 2.44287289]]\\u003cbr\\u003e2024-03-10 00:55:20.405794\",\"GaussianStateUpdate\\u003cbr\\u003e[[28.15756759]\\n [ 2.08048731]\\n [74.16804244]\\n [ 1.7235748 ]]\\u003cbr\\u003e2024-03-10 00:55:21.405794\",\"GaussianStateUpdate\\u003cbr\\u003e[[29.95950666]\\n [ 2.12768772]\\n [76.60828055]\\n [ 2.25118787]]\\u003cbr\\u003e2024-03-10 00:55:22.405794\",\"GaussianStateUpdate\\u003cbr\\u003e[[31.4166676 ]\\n [ 1.91095524]\\n [78.98586545]\\n [ 2.21872963]]\\u003cbr\\u003e2024-03-10 00:55:23.405794\",\"GaussianStateUpdate\\u003cbr\\u003e[[34.94592727]\\n [ 2.43640397]\\n [80.94104838]\\n [ 2.3424748 ]]\\u003cbr\\u003e2024-03-10 00:55:24.405794\",\"GaussianStateUpdate\\u003cbr\\u003e[[36.14965362]\\n [ 2.17275313]\\n [84.06543615]\\n [ 2.69032526]]\\u003cbr\\u003e2024-03-10 00:55:25.405794\",\"GaussianStateUpdate\\u003cbr\\u003e[[40.83774395]\\n [ 2.73388104]\\n [85.28224869]\\n [ 2.12705182]]\\u003cbr\\u003e2024-03-10 00:55:26.405794\",\"GaussianStateUpdate\\u003cbr\\u003e[[43.42128368]\\n [ 2.61818162]\\n [87.14517237]\\n [ 1.89351142]]\\u003cbr\\u003e2024-03-10 00:55:27.405794\",\"GaussianStateUpdate\\u003cbr\\u003e[[50.35189277]\\n [ 3.66473716]\\n [86.7933323 ]\\n [ 1.25749951]]\\u003cbr\\u003e2024-03-10 00:55:28.405794\",\"GaussianStateUpdate\\u003cbr\\u003e[[51.66790413]\\n [ 3.29235525]\\n [89.99325233]\\n [ 2.08748567]]\\u003cbr\\u003e2024-03-10 00:55:29.405794\",\"GaussianStateUpdate\\u003cbr\\u003e[[55.07440838]\\n [ 3.1925319 ]\\n [91.63958432]\\n [ 1.82081505]]\\u003cbr\\u003e2024-03-10 00:55:30.405794\",\"GaussianStateUpdate\\u003cbr\\u003e[[59.4716168 ]\\n [ 3.5255512 ]\\n [92.87053454]\\n [ 1.7351437 ]]\\u003cbr\\u003e2024-03-10 00:55:31.405794\",\"GaussianStateUpdate\\u003cbr\\u003e[[62.53065508]\\n [ 3.55835373]\\n [95.39553018]\\n [ 2.14146495]]\\u003cbr\\u003e2024-03-10 00:55:32.405794\",\"GaussianStateUpdate\\u003cbr\\u003e[[65.57076034]\\n [ 3.15642308]\\n [96.9633684 ]\\n [ 1.63468137]]\\u003cbr\\u003e2024-03-10 00:55:33.405794\",\"GaussianStateUpdate\\u003cbr\\u003e[[69.56004319]\\n [ 3.56458427]\\n [98.73056688]\\n [ 1.95550421]]\\u003cbr\\u003e2024-03-10 00:55:34.405794\",\"GaussianStateUpdate\\u003cbr\\u003e[[ 70.79368998]\\n [  3.09347587]\\n [102.47882805]\\n [  2.43429351]]\\u003cbr\\u003e2024-03-10 00:55:35.405794\",\"GaussianStateUpdate\\u003cbr\\u003e[[ 72.37572067]\\n [  2.80880486]\\n [106.16504274]\\n [  2.77753983]]\\u003cbr\\u003e2024-03-10 00:55:36.405794\",\"GaussianStateUpdate\\u003cbr\\u003e[[ 76.12160864]\\n [  3.03198621]\\n [108.33502174]\\n [  2.6690155 ]]\\u003cbr\\u003e2024-03-10 00:55:37.405794\",\"GaussianStateUpdate\\u003cbr\\u003e[[ 79.94135024]\\n [  2.91786775]\\n [109.43441013]\\n [  1.88910656]]\\u003cbr\\u003e2024-03-10 00:55:38.405794\",\"GaussianStateUpdate\\u003cbr\\u003e[[ 84.82418184]\\n [  3.24652232]\\n [109.63838003]\\n [  1.40506493]]\\u003cbr\\u003e2024-03-10 00:55:39.405794\",\"GaussianStateUpdate\\u003cbr\\u003e[[ 83.92472269]\\n [  2.37724571]\\n [114.11974354]\\n [  2.062987  ]]\\u003cbr\\u003e2024-03-10 00:55:40.405794\",\"GaussianStateUpdate\\u003cbr\\u003e[[ 84.61346216]\\n [  2.58353941]\\n [119.09551865]\\n [  3.26476341]]\\u003cbr\\u003e2024-03-10 00:55:41.405794\",\"GaussianStateUpdate\\u003cbr\\u003e[[ 92.67329147]\\n [  3.37871077]\\n [117.06699625]\\n [  1.6670837 ]]\\u003cbr\\u003e2024-03-10 00:55:42.405794\",\"GaussianStateUpdate\\u003cbr\\u003e[[ 96.74728234]\\n [  3.4249586 ]\\n [117.88321728]\\n [  1.32985542]]\\u003cbr\\u003e2024-03-10 00:55:43.405794\",\"GaussianStateUpdate\\u003cbr\\u003e[[100.1728871 ]\\n [  3.3269697 ]\\n [118.92775197]\\n [  1.16609467]]\\u003cbr\\u003e2024-03-10 00:55:44.405794\",\"GaussianStateUpdate\\u003cbr\\u003e[[104.28531413]\\n [  4.05533163]\\n [121.0362668 ]\\n [  1.8993048 ]]\\u003cbr\\u003e2024-03-10 00:55:45.405794\",\"GaussianStateUpdate\\u003cbr\\u003e[[109.05448069]\\n [  4.22907826]\\n [122.40620901]\\n [  1.82169707]]\\u003cbr\\u003e2024-03-10 00:55:46.405794\",\"GaussianStateUpdate\\u003cbr\\u003e[[111.79603048]\\n [  3.43361243]\\n [124.0599518 ]\\n [  1.26441276]]\\u003cbr\\u003e2024-03-10 00:55:47.405794\",\"GaussianStateUpdate\\u003cbr\\u003e[[114.5789917 ]\\n [  3.21009747]\\n [125.64027792]\\n [  1.22898706]]\\u003cbr\\u003e2024-03-10 00:55:48.405794\"],\"x\":[-3.052820981956969,-5.588740484435242,-5.3192103853651265,-2.564135941428674,0.15090020504175494,3.1990042217902133,2.14360424980109,5.07504415037119,7.2304895718534725,9.932808467302682,12.443625879109009,11.715497576557757,13.228442876484444,14.22215573625947,17.350281431450647,17.66979110385895,16.870835459081317,17.8338092856002,19.01966136643127,19.335923861100472,23.316398795187766,24.103138491245858,28.15756758762498,29.959506660652877,31.41666759531885,34.94592726922631,36.14965362458499,40.837743947891646,43.42128367650329,50.35189277183408,51.66790412506026,55.0744083794795,59.47161680103985,62.5306550811192,65.57076033571792,69.56004319465723,70.79368998499464,72.37572066598999,76.1216086422744,79.94135023683474,84.82418183505635,83.92472268979068,84.6134621586616,92.67329146680494,96.74728233971344,100.1728871028285,104.28531412848444,109.05448069200222,111.79603047744828,114.57899169691981],\"y\":[34.13979811619508,35.78374831535915,37.775132147112075,39.90556196717056,40.59651360169696,42.23908241169332,44.43533798781428,45.20464137651864,46.56175598755636,48.17530512565097,50.30035046811288,52.743416148235106,54.06788213587434,56.14776132318257,57.29724545546446,59.59812543729755,61.94887554156355,64.3059879894143,66.50885709337801,68.85787191024752,70.52827830390194,73.18273566783084,74.16804243870307,76.60828054611942,78.98586545103164,80.9410483801869,84.06543614713219,85.2822486902045,87.14517236821634,86.79333229584572,89.99325232549887,91.63958431710097,92.87053454166046,95.39553017909464,96.96336839962822,98.73056687551514,102.47882804692735,106.16504274356588,108.3350217385137,109.43441012843786,109.63838003053081,114.11974354476334,119.09551865044428,117.06699625371307,117.88321727738585,118.92775196652092,121.0362668033515,122.40620901361147,124.05995179726752,125.6402779153228],\"type\":\"scatter\"},{\"legendgroup\":\"PF\",\"legendrank\":300,\"line\":{\"color\":\"brown\"},\"marker\":{\"symbol\":[\"square\",\"circle\",\"circle\",\"circle\",\"circle\",\"circle\"]},\"mode\":\"markers+lines\",\"name\":\"PF\",\"showlegend\":true,\"text\":[\"ParticleStateUpdate\\u003cbr\\u003e[[ 1.04631915e+02]\\n [-2.42048429e-03]\\n [ 1.06198566e+02]\\n [-1.86247809e-02]]\\u003cbr\\u003e2024-03-10 00:55:42.405794\",\"ParticleStatePrediction\\u003cbr\\u003e[[ 1.04632092e+02]\\n [-3.60353205e-03]\\n [ 1.06180547e+02]\\n [-2.45421709e-02]]\\u003cbr\\u003e2024-03-10 00:55:43.405794\",\"ParticleStatePrediction\\u003cbr\\u003e[[ 1.04633999e+02]\\n [ 5.10931213e-03]\\n [ 1.06145327e+02]\\n [-2.96294757e-02]]\\u003cbr\\u003e2024-03-10 00:55:44.405794\",\"ParticleStatePrediction\\u003cbr\\u003e[[ 1.04645264e+02]\\n [ 6.32819751e-03]\\n [ 1.06125978e+02]\\n [-3.20571376e-03]]\\u003cbr\\u003e2024-03-10 00:55:45.405794\",\"ParticleStatePrediction\\u003cbr\\u003e[[ 1.04640194e+02]\\n [-2.15927911e-02]\\n [ 1.06120776e+02]\\n [-1.12126626e-02]]\\u003cbr\\u003e2024-03-10 00:55:46.405794\",\"ParticleStatePrediction\\u003cbr\\u003e[[ 1.04631237e+02]\\n [ 1.87226361e-03]\\n [ 1.06107202e+02]\\n [-1.82700941e-02]]\\u003cbr\\u003e2024-03-10 00:55:47.405794\"],\"x\":[104.63191479992015,104.63209219408347,104.6339994217742,104.64526381530754,104.6401942334033,104.63123744721841],\"y\":[106.1985660127977,106.18054686148324,106.14532660742246,106.12597829671893,106.12077639148046,106.10720170938872],\"type\":\"scatter\"},{\"legendgroup\":\"PF\",\"legendrank\":300,\"line\":{\"color\":\"brown\"},\"marker\":{\"symbol\":[\"square\",\"square\",\"square\",\"square\",\"square\",\"square\",\"square\",\"square\",\"square\",\"square\",\"square\",\"square\",\"square\",\"square\",\"square\",\"square\",\"square\",\"square\",\"square\",\"square\",\"square\",\"square\",\"square\",\"square\",\"square\",\"square\",\"square\",\"square\",\"square\",\"square\",\"square\",\"square\",\"square\",\"square\",\"square\",\"square\",\"square\",\"square\",\"square\",\"square\",\"square\",\"square\",\"square\",\"circle\",\"square\",\"square\",\"square\",\"square\",\"square\",\"square\"]},\"mode\":\"markers+lines\",\"name\":\"a0235e0c-309f-4684-9c5e-ca9002cd5428\",\"showlegend\":false,\"text\":[\"ParticleStateUpdate\\u003cbr\\u003e[[-3.13234066e+00]\\n [ 1.39267521e-02]\\n [ 3.41267157e+01]\\n [-1.17860050e-02]]\\u003cbr\\u003e2024-03-10 00:54:59.405794\",\"ParticleStateUpdate\\u003cbr\\u003e[[-5.82124445]\\n [-0.81947532]\\n [35.76248605]\\n [ 1.88264575]]\\u003cbr\\u003e2024-03-10 00:55:00.405794\",\"ParticleStateUpdate\\u003cbr\\u003e[[-5.22055189]\\n [-0.2196512 ]\\n [37.84692289]\\n [ 1.94358115]]\\u003cbr\\u003e2024-03-10 00:55:01.405794\",\"ParticleStateUpdate\\u003cbr\\u003e[[-2.30855808]\\n [ 1.02594965]\\n [39.82592829]\\n [ 1.84697681]]\\u003cbr\\u003e2024-03-10 00:55:02.405794\",\"ParticleStateUpdate\\u003cbr\\u003e[[ 0.32530755]\\n [ 1.68634696]\\n [40.54838513]\\n [ 0.80384098]]\\u003cbr\\u003e2024-03-10 00:55:03.405794\",\"ParticleStateUpdate\\u003cbr\\u003e[[ 2.8977101 ]\\n [ 2.19359742]\\n [42.30724985]\\n [ 1.67842509]]\\u003cbr\\u003e2024-03-10 00:55:04.405794\",\"ParticleStateUpdate\\u003cbr\\u003e[[ 1.86003391]\\n [ 0.89903012]\\n [44.37687612]\\n [ 1.94602521]]\\u003cbr\\u003e2024-03-10 00:55:05.405794\",\"ParticleStateUpdate\\u003cbr\\u003e[[ 4.38587888]\\n [ 1.40665865]\\n [45.27579178]\\n [ 1.02498362]]\\u003cbr\\u003e2024-03-10 00:55:06.405794\",\"ParticleStateUpdate\\u003cbr\\u003e[[ 6.86999526]\\n [ 1.80452523]\\n [46.64797199]\\n [ 1.37559288]]\\u003cbr\\u003e2024-03-10 00:55:07.405794\",\"ParticleStateUpdate\\u003cbr\\u003e[[ 9.80446054]\\n [ 2.18570048]\\n [48.2428145 ]\\n [ 1.66113842]]\\u003cbr\\u003e2024-03-10 00:55:08.405794\",\"ParticleStateUpdate\\u003cbr\\u003e[[12.41911196]\\n [ 2.36407663]\\n [50.35443375]\\n [ 2.04660468]]\\u003cbr\\u003e2024-03-10 00:55:09.405794\",\"ParticleStateUpdate\\u003cbr\\u003e[[11.77823671]\\n [ 1.34927878]\\n [52.69130789]\\n [ 1.92226842]]\\u003cbr\\u003e2024-03-10 00:55:10.405794\",\"ParticleStateUpdate\\u003cbr\\u003e[[13.06212544]\\n [ 1.28625946]\\n [54.12665699]\\n [ 1.47729046]]\\u003cbr\\u003e2024-03-10 00:55:11.405794\",\"ParticleStateUpdate\\u003cbr\\u003e[[14.07062506]\\n [ 1.24452688]\\n [56.22490236]\\n [ 1.95370901]]\\u003cbr\\u003e2024-03-10 00:55:12.405794\",\"ParticleStateUpdate\\u003cbr\\u003e[[17.33874446]\\n [ 1.80422189]\\n [57.28620484]\\n [ 1.48750126]]\\u003cbr\\u003e2024-03-10 00:55:13.405794\",\"ParticleStateUpdate\\u003cbr\\u003e[[17.65587175]\\n [ 1.43656062]\\n [59.61654375]\\n [ 1.92167469]]\\u003cbr\\u003e2024-03-10 00:55:14.405794\",\"ParticleStateUpdate\\u003cbr\\u003e[[16.70359659]\\n [ 0.6142041 ]\\n [61.98399445]\\n [ 1.91929466]]\\u003cbr\\u003e2024-03-10 00:55:15.405794\",\"ParticleStateUpdate\\u003cbr\\u003e[[18.00275397]\\n [ 0.85134999]\\n [64.28727032]\\n [ 2.33539068]]\\u003cbr\\u003e2024-03-10 00:55:16.405794\",\"ParticleStateUpdate\\u003cbr\\u003e[[19.13862173]\\n [ 0.92519413]\\n [66.51676186]\\n [ 2.28054028]]\\u003cbr\\u003e2024-03-10 00:55:17.405794\",\"ParticleStateUpdate\\u003cbr\\u003e[[19.42956966]\\n [ 0.70823117]\\n [68.87367792]\\n [ 2.21603365]]\\u003cbr\\u003e2024-03-10 00:55:18.405794\",\"ParticleStateUpdate\\u003cbr\\u003e[[23.37048816]\\n [ 1.70369509]\\n [70.47505879]\\n [ 2.17976618]]\\u003cbr\\u003e2024-03-10 00:55:19.405794\",\"ParticleStateUpdate\\u003cbr\\u003e[[24.1059365 ]\\n [ 1.47460522]\\n [73.20815983]\\n [ 2.46347147]]\\u003cbr\\u003e2024-03-10 00:55:20.405794\",\"ParticleStateUpdate\\u003cbr\\u003e[[28.12983468]\\n [ 2.01597169]\\n [74.16998479]\\n [ 1.6850433 ]]\\u003cbr\\u003e2024-03-10 00:55:21.405794\",\"ParticleStateUpdate\\u003cbr\\u003e[[29.44498618]\\n [ 1.96345611]\\n [76.83054735]\\n [ 2.36160568]]\\u003cbr\\u003e2024-03-10 00:55:22.405794\",\"ParticleStateUpdate\\u003cbr\\u003e[[30.92410467]\\n [ 1.80454175]\\n [79.21284746]\\n [ 2.27289454]]\\u003cbr\\u003e2024-03-10 00:55:23.405794\",\"ParticleStateUpdate\\u003cbr\\u003e[[34.50200556]\\n [ 2.34010935]\\n [81.16211274]\\n [ 2.36147432]]\\u003cbr\\u003e2024-03-10 00:55:24.405794\",\"ParticleStateUpdate\\u003cbr\\u003e[[35.65379673]\\n [ 2.06061336]\\n [84.3116509 ]\\n [ 2.72768703]]\\u003cbr\\u003e2024-03-10 00:55:25.405794\",\"ParticleStateUpdate\\u003cbr\\u003e[[40.36672232]\\n [ 2.62612078]\\n [85.49950943]\\n [ 2.10894216]]\\u003cbr\\u003e2024-03-10 00:55:26.405794\",\"ParticleStateUpdate\\u003cbr\\u003e[[43.32777571]\\n [ 2.61591794]\\n [87.19327319]\\n [ 1.87337813]]\\u003cbr\\u003e2024-03-10 00:55:27.405794\",\"ParticleStateUpdate\\u003cbr\\u003e[[50.68268918]\\n [ 3.65134042]\\n [86.51520009]\\n [ 1.22353748]]\\u003cbr\\u003e2024-03-10 00:55:28.405794\",\"ParticleStateUpdate\\u003cbr\\u003e[[51.56339907]\\n [ 3.22543424]\\n [90.05069898]\\n [ 2.10234882]]\\u003cbr\\u003e2024-03-10 00:55:29.405794\",\"ParticleStateUpdate\\u003cbr\\u003e[[54.91250258]\\n [ 3.16627953]\\n [91.75625532]\\n [ 1.84408544]]\\u003cbr\\u003e2024-03-10 00:55:30.405794\",\"ParticleStateUpdate\\u003cbr\\u003e[[59.46653245]\\n [ 3.62041858]\\n [92.90720464]\\n [ 1.72190304]]\\u003cbr\\u003e2024-03-10 00:55:31.405794\",\"ParticleStateUpdate\\u003cbr\\u003e[[62.44501435]\\n [ 3.60140746]\\n [95.50984588]\\n [ 2.14553438]]\\u003cbr\\u003e2024-03-10 00:55:32.405794\",\"ParticleStateUpdate\\u003cbr\\u003e[[65.58573396]\\n [ 3.17794157]\\n [96.99118991]\\n [ 1.54001842]]\\u003cbr\\u003e2024-03-10 00:55:33.405794\",\"ParticleStateUpdate\\u003cbr\\u003e[[69.99223245]\\n [ 3.68058994]\\n [98.47071539]\\n [ 1.83900679]]\\u003cbr\\u003e2024-03-10 00:55:34.405794\",\"ParticleStateUpdate\\u003cbr\\u003e[[ 71.02790469]\\n [  3.12958415]\\n [102.30965116]\\n [  2.37819208]]\\u003cbr\\u003e2024-03-10 00:55:35.405794\",\"ParticleStateUpdate\\u003cbr\\u003e[[ 72.43100445]\\n [  2.84698942]\\n [106.1307727 ]\\n [  2.74917724]]\\u003cbr\\u003e2024-03-10 00:55:36.405794\",\"ParticleStateUpdate\\u003cbr\\u003e[[ 76.30681751]\\n [  3.04615658]\\n [108.2352329 ]\\n [  2.64835169]]\\u003cbr\\u003e2024-03-10 00:55:37.405794\",\"ParticleStateUpdate\\u003cbr\\u003e[[ 79.99928833]\\n [  2.87897867]\\n [109.41276128]\\n [  1.83030504]]\\u003cbr\\u003e2024-03-10 00:55:38.405794\",\"ParticleStateUpdate\\u003cbr\\u003e[[ 84.83563284]\\n [  3.24114725]\\n [109.60676714]\\n [  1.37940389]]\\u003cbr\\u003e2024-03-10 00:55:39.405794\",\"ParticleStateUpdate\\u003cbr\\u003e[[ 84.25470173]\\n [  2.4677361 ]\\n [113.82685428]\\n [  1.91774809]]\\u003cbr\\u003e2024-03-10 00:55:40.405794\",\"ParticleStateUpdate\\u003cbr\\u003e[[ 86.27092629]\\n [  2.95462538]\\n [117.92709907]\\n [  3.14646747]]\\u003cbr\\u003e2024-03-10 00:55:41.405794\",\"ParticleStatePrediction\\u003cbr\\u003e[[ 89.22305613]\\n [  2.94284193]\\n [121.05796159]\\n [  3.11457185]]\\u003cbr\\u003e2024-03-10 00:55:42.405794\",\"ParticleStateUpdate\\u003cbr\\u003e[[ 93.75720252]\\n [  2.84315582]\\n [120.35177257]\\n [  1.79868029]]\\u003cbr\\u003e2024-03-10 00:55:43.405794\",\"ParticleStateUpdate\\u003cbr\\u003e[[ 97.86671285]\\n [  2.95156306]\\n [120.88937721]\\n [  1.42018578]]\\u003cbr\\u003e2024-03-10 00:55:44.405794\",\"ParticleStateUpdate\\u003cbr\\u003e[[102.91567082]\\n [  3.99798514]\\n [122.23320459]\\n [  2.00546288]]\\u003cbr\\u003e2024-03-10 00:55:45.405794\",\"ParticleStateUpdate\\u003cbr\\u003e[[107.81867145]\\n [  4.20357068]\\n [123.52856085]\\n [  1.87913929]]\\u003cbr\\u003e2024-03-10 00:55:46.405794\",\"ParticleStateUpdate\\u003cbr\\u003e[[110.59435492]\\n [  3.43774774]\\n [125.1934677 ]\\n [  1.22106017]]\\u003cbr\\u003e2024-03-10 00:55:47.405794\",\"ParticleStateUpdate\\u003cbr\\u003e[[113.31180087]\\n [  3.24533155]\\n [126.81385365]\\n [  1.12111468]]\\u003cbr\\u003e2024-03-10 00:55:48.405794\"],\"x\":[-3.1323406590902065,-5.82124444935522,-5.220551885291423,-2.3085580834864228,0.3253075523456949,2.8977101048100735,1.860033910325967,4.385878884205106,6.869995258415839,9.804460539395539,12.419111957459851,11.778236705270725,13.062125441764229,14.070625064004185,17.338744461740784,17.65587175010899,16.703596587801144,18.00275396696297,19.13862173284244,19.429569658236556,23.370488158202342,24.105936498825304,28.129834675231084,29.444986175987516,30.924104670552143,34.50200555589698,35.653796732538346,40.36672231549391,43.327775710667545,50.68268918116772,51.56339906507338,54.912502575654806,59.466532448719995,62.44501434597729,65.58573396133578,69.99223245104174,71.0279046883175,72.43100445029494,76.30681750749311,79.99928832672461,84.83563284153473,84.25470173013123,86.27092629323411,89.2230561268213,93.75720251648092,97.86671285157588,102.91567081967106,107.81867145449753,110.59435492377746,113.31180086589151],\"y\":[34.1267157419095,35.76248605304657,37.846922886572635,39.825928286744514,40.54838512845467,42.30724985100391,44.376876119506406,45.27579177740933,46.647971985623066,48.242814501009576,50.354433746872296,52.6913078868981,54.126656990748046,56.22490235521392,57.28620484204267,59.61654375460463,61.983994447281844,64.28727031880403,66.51676185711129,68.87367792367941,70.47505878820567,73.2081598339897,74.16998479420782,76.83054734960969,79.21284745510168,81.16211274327092,84.31165089719457,85.49950943092318,87.19327318825384,86.51520009149976,90.05069898309935,91.75625531912827,92.90720463878431,95.50984588429607,96.99118990701345,98.47071538813746,102.30965115830006,106.13077270316653,108.23523289883552,109.41276127689294,109.60676714382933,113.82685428449237,117.92709906954147,121.05796158936471,120.35177256933868,120.88937720834218,122.23320459329173,123.52856085025007,125.19346770103373,126.81385365357461],\"type\":\"scatter\"}],                        {\"colorway\":[\"#636EFA\",\"#EF553B\",\"#00CC96\",\"#AB63FA\",\"#FFA15A\",\"#19D3F3\",\"#FF6692\",\"#B6E880\",\"#FF97FF\",\"#FECB52\"],\"xaxis\":{\"title\":{\"text\":\"x\"}},\"yaxis\":{\"title\":{\"text\":\"y\"}},\"template\":{\"data\":{\"histogram2dcontour\":[{\"type\":\"histogram2dcontour\",\"colorbar\":{\"outlinewidth\":0,\"ticks\":\"\"},\"colorscale\":[[0.0,\"#0d0887\"],[0.1111111111111111,\"#46039f\"],[0.2222222222222222,\"#7201a8\"],[0.3333333333333333,\"#9c179e\"],[0.4444444444444444,\"#bd3786\"],[0.5555555555555556,\"#d8576b\"],[0.6666666666666666,\"#ed7953\"],[0.7777777777777778,\"#fb9f3a\"],[0.8888888888888888,\"#fdca26\"],[1.0,\"#f0f921\"]]}],\"choropleth\":[{\"type\":\"choropleth\",\"colorbar\":{\"outlinewidth\":0,\"ticks\":\"\"}}],\"histogram2d\":[{\"type\":\"histogram2d\",\"colorbar\":{\"outlinewidth\":0,\"ticks\":\"\"},\"colorscale\":[[0.0,\"#0d0887\"],[0.1111111111111111,\"#46039f\"],[0.2222222222222222,\"#7201a8\"],[0.3333333333333333,\"#9c179e\"],[0.4444444444444444,\"#bd3786\"],[0.5555555555555556,\"#d8576b\"],[0.6666666666666666,\"#ed7953\"],[0.7777777777777778,\"#fb9f3a\"],[0.8888888888888888,\"#fdca26\"],[1.0,\"#f0f921\"]]}],\"heatmap\":[{\"type\":\"heatmap\",\"colorbar\":{\"outlinewidth\":0,\"ticks\":\"\"},\"colorscale\":[[0.0,\"#0d0887\"],[0.1111111111111111,\"#46039f\"],[0.2222222222222222,\"#7201a8\"],[0.3333333333333333,\"#9c179e\"],[0.4444444444444444,\"#bd3786\"],[0.5555555555555556,\"#d8576b\"],[0.6666666666666666,\"#ed7953\"],[0.7777777777777778,\"#fb9f3a\"],[0.8888888888888888,\"#fdca26\"],[1.0,\"#f0f921\"]]}],\"heatmapgl\":[{\"type\":\"heatmapgl\",\"colorbar\":{\"outlinewidth\":0,\"ticks\":\"\"},\"colorscale\":[[0.0,\"#0d0887\"],[0.1111111111111111,\"#46039f\"],[0.2222222222222222,\"#7201a8\"],[0.3333333333333333,\"#9c179e\"],[0.4444444444444444,\"#bd3786\"],[0.5555555555555556,\"#d8576b\"],[0.6666666666666666,\"#ed7953\"],[0.7777777777777778,\"#fb9f3a\"],[0.8888888888888888,\"#fdca26\"],[1.0,\"#f0f921\"]]}],\"contourcarpet\":[{\"type\":\"contourcarpet\",\"colorbar\":{\"outlinewidth\":0,\"ticks\":\"\"}}],\"contour\":[{\"type\":\"contour\",\"colorbar\":{\"outlinewidth\":0,\"ticks\":\"\"},\"colorscale\":[[0.0,\"#0d0887\"],[0.1111111111111111,\"#46039f\"],[0.2222222222222222,\"#7201a8\"],[0.3333333333333333,\"#9c179e\"],[0.4444444444444444,\"#bd3786\"],[0.5555555555555556,\"#d8576b\"],[0.6666666666666666,\"#ed7953\"],[0.7777777777777778,\"#fb9f3a\"],[0.8888888888888888,\"#fdca26\"],[1.0,\"#f0f921\"]]}],\"surface\":[{\"type\":\"surface\",\"colorbar\":{\"outlinewidth\":0,\"ticks\":\"\"},\"colorscale\":[[0.0,\"#0d0887\"],[0.1111111111111111,\"#46039f\"],[0.2222222222222222,\"#7201a8\"],[0.3333333333333333,\"#9c179e\"],[0.4444444444444444,\"#bd3786\"],[0.5555555555555556,\"#d8576b\"],[0.6666666666666666,\"#ed7953\"],[0.7777777777777778,\"#fb9f3a\"],[0.8888888888888888,\"#fdca26\"],[1.0,\"#f0f921\"]]}],\"mesh3d\":[{\"type\":\"mesh3d\",\"colorbar\":{\"outlinewidth\":0,\"ticks\":\"\"}}],\"scatter\":[{\"fillpattern\":{\"fillmode\":\"overlay\",\"size\":10,\"solidity\":0.2},\"type\":\"scatter\"}],\"parcoords\":[{\"type\":\"parcoords\",\"line\":{\"colorbar\":{\"outlinewidth\":0,\"ticks\":\"\"}}}],\"scatterpolargl\":[{\"type\":\"scatterpolargl\",\"marker\":{\"colorbar\":{\"outlinewidth\":0,\"ticks\":\"\"}}}],\"bar\":[{\"error_x\":{\"color\":\"#2a3f5f\"},\"error_y\":{\"color\":\"#2a3f5f\"},\"marker\":{\"line\":{\"color\":\"#E5ECF6\",\"width\":0.5},\"pattern\":{\"fillmode\":\"overlay\",\"size\":10,\"solidity\":0.2}},\"type\":\"bar\"}],\"scattergeo\":[{\"type\":\"scattergeo\",\"marker\":{\"colorbar\":{\"outlinewidth\":0,\"ticks\":\"\"}}}],\"scatterpolar\":[{\"type\":\"scatterpolar\",\"marker\":{\"colorbar\":{\"outlinewidth\":0,\"ticks\":\"\"}}}],\"histogram\":[{\"marker\":{\"pattern\":{\"fillmode\":\"overlay\",\"size\":10,\"solidity\":0.2}},\"type\":\"histogram\"}],\"scattergl\":[{\"type\":\"scattergl\",\"marker\":{\"colorbar\":{\"outlinewidth\":0,\"ticks\":\"\"}}}],\"scatter3d\":[{\"type\":\"scatter3d\",\"line\":{\"colorbar\":{\"outlinewidth\":0,\"ticks\":\"\"}},\"marker\":{\"colorbar\":{\"outlinewidth\":0,\"ticks\":\"\"}}}],\"scattermapbox\":[{\"type\":\"scattermapbox\",\"marker\":{\"colorbar\":{\"outlinewidth\":0,\"ticks\":\"\"}}}],\"scatterternary\":[{\"type\":\"scatterternary\",\"marker\":{\"colorbar\":{\"outlinewidth\":0,\"ticks\":\"\"}}}],\"scattercarpet\":[{\"type\":\"scattercarpet\",\"marker\":{\"colorbar\":{\"outlinewidth\":0,\"ticks\":\"\"}}}],\"carpet\":[{\"aaxis\":{\"endlinecolor\":\"#2a3f5f\",\"gridcolor\":\"white\",\"linecolor\":\"white\",\"minorgridcolor\":\"white\",\"startlinecolor\":\"#2a3f5f\"},\"baxis\":{\"endlinecolor\":\"#2a3f5f\",\"gridcolor\":\"white\",\"linecolor\":\"white\",\"minorgridcolor\":\"white\",\"startlinecolor\":\"#2a3f5f\"},\"type\":\"carpet\"}],\"table\":[{\"cells\":{\"fill\":{\"color\":\"#EBF0F8\"},\"line\":{\"color\":\"white\"}},\"header\":{\"fill\":{\"color\":\"#C8D4E3\"},\"line\":{\"color\":\"white\"}},\"type\":\"table\"}],\"barpolar\":[{\"marker\":{\"line\":{\"color\":\"#E5ECF6\",\"width\":0.5},\"pattern\":{\"fillmode\":\"overlay\",\"size\":10,\"solidity\":0.2}},\"type\":\"barpolar\"}],\"pie\":[{\"automargin\":true,\"type\":\"pie\"}]},\"layout\":{\"autotypenumbers\":\"strict\",\"colorway\":[\"#636efa\",\"#EF553B\",\"#00cc96\",\"#ab63fa\",\"#FFA15A\",\"#19d3f3\",\"#FF6692\",\"#B6E880\",\"#FF97FF\",\"#FECB52\"],\"font\":{\"color\":\"#2a3f5f\"},\"hovermode\":\"closest\",\"hoverlabel\":{\"align\":\"left\"},\"paper_bgcolor\":\"white\",\"plot_bgcolor\":\"#E5ECF6\",\"polar\":{\"bgcolor\":\"#E5ECF6\",\"angularaxis\":{\"gridcolor\":\"white\",\"linecolor\":\"white\",\"ticks\":\"\"},\"radialaxis\":{\"gridcolor\":\"white\",\"linecolor\":\"white\",\"ticks\":\"\"}},\"ternary\":{\"bgcolor\":\"#E5ECF6\",\"aaxis\":{\"gridcolor\":\"white\",\"linecolor\":\"white\",\"ticks\":\"\"},\"baxis\":{\"gridcolor\":\"white\",\"linecolor\":\"white\",\"ticks\":\"\"},\"caxis\":{\"gridcolor\":\"white\",\"linecolor\":\"white\",\"ticks\":\"\"}},\"coloraxis\":{\"colorbar\":{\"outlinewidth\":0,\"ticks\":\"\"}},\"colorscale\":{\"sequential\":[[0.0,\"#0d0887\"],[0.1111111111111111,\"#46039f\"],[0.2222222222222222,\"#7201a8\"],[0.3333333333333333,\"#9c179e\"],[0.4444444444444444,\"#bd3786\"],[0.5555555555555556,\"#d8576b\"],[0.6666666666666666,\"#ed7953\"],[0.7777777777777778,\"#fb9f3a\"],[0.8888888888888888,\"#fdca26\"],[1.0,\"#f0f921\"]],\"sequentialminus\":[[0.0,\"#0d0887\"],[0.1111111111111111,\"#46039f\"],[0.2222222222222222,\"#7201a8\"],[0.3333333333333333,\"#9c179e\"],[0.4444444444444444,\"#bd3786\"],[0.5555555555555556,\"#d8576b\"],[0.6666666666666666,\"#ed7953\"],[0.7777777777777778,\"#fb9f3a\"],[0.8888888888888888,\"#fdca26\"],[1.0,\"#f0f921\"]],\"diverging\":[[0,\"#8e0152\"],[0.1,\"#c51b7d\"],[0.2,\"#de77ae\"],[0.3,\"#f1b6da\"],[0.4,\"#fde0ef\"],[0.5,\"#f7f7f7\"],[0.6,\"#e6f5d0\"],[0.7,\"#b8e186\"],[0.8,\"#7fbc41\"],[0.9,\"#4d9221\"],[1,\"#276419\"]]},\"xaxis\":{\"gridcolor\":\"white\",\"linecolor\":\"white\",\"ticks\":\"\",\"title\":{\"standoff\":15},\"zerolinecolor\":\"white\",\"automargin\":true,\"zerolinewidth\":2},\"yaxis\":{\"gridcolor\":\"white\",\"linecolor\":\"white\",\"ticks\":\"\",\"title\":{\"standoff\":15},\"zerolinecolor\":\"white\",\"automargin\":true,\"zerolinewidth\":2},\"scene\":{\"xaxis\":{\"backgroundcolor\":\"#E5ECF6\",\"gridcolor\":\"white\",\"linecolor\":\"white\",\"showbackground\":true,\"ticks\":\"\",\"zerolinecolor\":\"white\",\"gridwidth\":2},\"yaxis\":{\"backgroundcolor\":\"#E5ECF6\",\"gridcolor\":\"white\",\"linecolor\":\"white\",\"showbackground\":true,\"ticks\":\"\",\"zerolinecolor\":\"white\",\"gridwidth\":2},\"zaxis\":{\"backgroundcolor\":\"#E5ECF6\",\"gridcolor\":\"white\",\"linecolor\":\"white\",\"showbackground\":true,\"ticks\":\"\",\"zerolinecolor\":\"white\",\"gridwidth\":2}},\"shapedefaults\":{\"line\":{\"color\":\"#2a3f5f\"}},\"annotationdefaults\":{\"arrowcolor\":\"#2a3f5f\",\"arrowhead\":0,\"arrowwidth\":1},\"geo\":{\"bgcolor\":\"white\",\"landcolor\":\"#E5ECF6\",\"subunitcolor\":\"white\",\"showland\":true,\"showlakes\":true,\"lakecolor\":\"white\"},\"title\":{\"x\":0.05},\"mapbox\":{\"style\":\"light\"}}}},                        {\"responsive\": true}                    ).then(function(){\n",
       "                            \n",
       "var gd = document.getElementById('d5a4b583-8707-4e89-bb07-7fdd3dac6787');\n",
       "var x = new MutationObserver(function (mutations, observer) {{\n",
       "        var display = window.getComputedStyle(gd).display;\n",
       "        if (!display || display === 'none') {{\n",
       "            console.log([gd, 'removed!']);\n",
       "            Plotly.purge(gd);\n",
       "            observer.disconnect();\n",
       "        }}\n",
       "}});\n",
       "\n",
       "// Listen for the removal of the full notebook cells\n",
       "var notebookContainer = gd.closest('#notebook-container');\n",
       "if (notebookContainer) {{\n",
       "    x.observe(notebookContainer, {childList: true});\n",
       "}}\n",
       "\n",
       "// Listen for the clearing of the current output cell\n",
       "var outputEl = gd.closest('.output');\n",
       "if (outputEl) {{\n",
       "    x.observe(outputEl, {childList: true});\n",
       "}}\n",
       "\n",
       "                        })                };                });            </script>        </div>"
      ]
     },
     "metadata": {},
     "output_type": "display_data"
    }
   ],
   "source": [
    "plotter.plot_tracks(tracks_EKF, [0, 2], track_label=\"EKF\", line=dict(color=\"orange\"),\n",
    "                    uncertainty=False)\n",
    "plotter.plot_tracks(tracks_UKF, [0, 2], track_label=\"UKF\", line=dict(color=\"blue\"),\n",
    "                    uncertainty=False)\n",
    "plotter.plot_tracks(tracks_SIF, [0, 2], track_label=\"SIF\", line=dict(color=\"red\"),\n",
    "                    uncertainty=False)\n",
    "#plotter.plot_tracks(tracks_EnKF, [0, 2], track_label=\"EnKF\", line=dict(color=\"green\"),\n",
    "#                    uncertainty=False)\n",
    "plotter.plot_tracks(tracks_PF, [0, 2], track_label=\"PF\", line=dict(color=\"brown\"),\n",
    "                    uncertainty=False)\n",
    "plotter.fig"
   ]
  },
  {
   "cell_type": "markdown",
   "metadata": {},
   "source": [
    "## 4) Calculate and display metrics to show effectiveness of different tracking algorithms\n",
    "\n",
    "The final part of this example is to calculate metrics that can determine how well each tracking\n",
    "algorithm followed the target. None will be perfect due to the sensor measurement noise and error\n",
    "in data association where multiple tracks meet, but some will perform better than others.\n",
    "\n",
    "This section of the example follows code from the metrics example, which is also used in\n",
    "the sensor management tutorials. More complete documentation can be found there.\n",
    "\n",
    "Firstly, we calculate the Optimal Sub-Pattern Assignment (OSPA) distance at each time\n",
    "step for each tracker. This is a measure of how far the calculated tracks are\n",
    "from the ground truth. We first initialise the metrics before plotting:\n",
    "\n"
   ]
  },
  {
   "cell_type": "code",
   "execution_count": 51,
   "metadata": {
    "collapsed": false,
    "jupyter": {
     "outputs_hidden": false
    }
   },
   "outputs": [],
   "source": [
    "from stonesoup.metricgenerator.ospametric import OSPAMetric\n",
    "\n",
    "ospa_generator = OSPAMetric(c=40, p=1)\n",
    "\n",
    "from stonesoup.metricgenerator.tracktotruthmetrics import SIAPMetrics\n",
    "from stonesoup.measures import Euclidean\n",
    "\n",
    "siap_generator = SIAPMetrics(position_measure=Euclidean((0, 2)),\n",
    "                             velocity_measure=Euclidean((1, 3)))\n",
    "\n",
    "from stonesoup.dataassociator.tracktotrack import TrackToTruth\n",
    "\n",
    "associator = TrackToTruth(association_threshold=30)\n",
    "\n",
    "from stonesoup.metricgenerator.uncertaintymetric import SumofCovarianceNormsMetric\n",
    "\n",
    "uncertainty_generator = SumofCovarianceNormsMetric()"
   ]
  },
  {
   "cell_type": "code",
   "execution_count": 52,
   "metadata": {},
   "outputs": [
    {
     "data": {
      "text/plain": [
       "<matplotlib.legend.Legend at 0x2e97aa105b0>"
      ]
     },
     "execution_count": 52,
     "metadata": {},
     "output_type": "execute_result"
    },
    {
     "data": {
      "image/png": "[encoded data removed]",
      "text/plain": [
       "<Figure size 640x480 with 2 Axes>"
      ]
     },
     "metadata": {},
     "output_type": "display_data"
    }
   ],
   "source": [
    "import matplotlib.pyplot as plt\n",
    "\n",
    "from stonesoup.metricgenerator.manager import SimpleManager\n",
    "\n",
    "metric_managerSIF = SimpleManager([ospa_generator, siap_generator, uncertainty_generator],\n",
    "                                associator=associator)\n",
    "\n",
    "metric_managerUKF = SimpleManager([ospa_generator, siap_generator, uncertainty_generator],\n",
    "                                associator=associator)\n",
    "\n",
    "metric_managerSIF.add_data(ground_truth, tracks_SIF)\n",
    "metric_managerUKF.add_data(ground_truth, tracks_UKF)\n",
    "\n",
    "metricsSIF = metric_managerSIF.generate_metrics()\n",
    "metricsUKF = metric_managerUKF.generate_metrics()\n",
    "\n",
    "fig, axes = plt.subplots(2)\n",
    "\n",
    "times = metric_managerSIF.list_timestamps()\n",
    "\n",
    "pa_metricSIF = metricsSIF['SIAP Position Accuracy at times']\n",
    "va_metricSIF = metricsSIF['SIAP Velocity Accuracy at times']\n",
    "\n",
    "pa_metricUKF = metricsUKF['SIAP Position Accuracy at times']\n",
    "va_metricUKF = metricsUKF['SIAP Velocity Accuracy at times']\n",
    "\n",
    "axes[0].set(title='Positional Accuracy', xlabel='Time', ylabel='PA')\n",
    "axes[0].plot(times, [metric.value for metric in pa_metricSIF.value],\n",
    "             label='Stochastic Integration Filter')\n",
    "axes[0].plot(times, [metric.value for metric in pa_metricUKF.value],\n",
    "             label='Unscented Kalman Filter')\n",
    "axes[0].legend()\n",
    "\n",
    "axes[1].set(title='Velocity Accuracy', xlabel='Time', ylabel='VA')\n",
    "axes[1].plot(times, [metric.value for metric in va_metricSIF.value],\n",
    "             label='Stochastic Integration Filter')\n",
    "axes[1].plot(times, [metric.value for metric in va_metricUKF.value],\n",
    "             label='Unscented Kalman Filter')\n",
    "axes[1].legend()"
   ]
  },
  {
   "cell_type": "markdown",
   "metadata": {},
   "source": [
    "Now we initialise the metric managers for each tracker:\n",
    "\n"
   ]
  },
  {
   "cell_type": "code",
   "execution_count": 53,
   "metadata": {
    "collapsed": false,
    "jupyter": {
     "outputs_hidden": false
    }
   },
   "outputs": [],
   "source": [
    "from stonesoup.metricgenerator.manager import SimpleManager\n",
    "# ##################################################\n",
    "\n",
    "metric_manager_EKF = SimpleManager([ospa_generator, siap_generator, uncertainty_generator],\n",
    "                                   associator=associator)\n",
    "metric_manager_EKF.add_data(ground_truth, tracks_EKF)\n",
    "metrics_EKF = metric_manager_EKF.generate_metrics()\n",
    "\n",
    "# ##################################################\n",
    "\n",
    "metric_manager_UKF = SimpleManager([ospa_generator, siap_generator, uncertainty_generator],\n",
    "                                   associator=associator)\n",
    "metric_manager_UKF.add_data(ground_truth, tracks_UKF)\n",
    "metrics_UKF = metric_manager_UKF.generate_metrics()\n",
    "\n",
    "# ##################################################\n",
    "\n",
    "metric_manager_SIF = SimpleManager([ospa_generator, siap_generator, uncertainty_generator],\n",
    "                                  associator=associator)\n",
    "metric_manager_SIF.add_data(ground_truth, tracks_SIF)\n",
    "metrics_SIF = metric_manager_SIF.generate_metrics()\n",
    "\n",
    "# ##################################################\n",
    "\n",
    "metric_manager_PF = SimpleManager([ospa_generator, siap_generator, uncertainty_generator],\n",
    "                                  associator=associator)\n",
    "metric_manager_PF.add_data(ground_truth, tracks_PF)\n",
    "metrics_PF = metric_manager_PF.generate_metrics()"
   ]
  },
  {
   "cell_type": "markdown",
   "metadata": {},
   "source": [
    "Now we can plot the OSPA distance for each tracker:\n",
    "\n"
   ]
  },
  {
   "cell_type": "code",
   "execution_count": 54,
   "metadata": {
    "collapsed": false,
    "jupyter": {
     "outputs_hidden": false
    }
   },
   "outputs": [
    {
     "data": {
      "application/vnd.plotly.v1+json": {
       "config": {
        "plotlyServerURL": "https://plot.ly"
       },
       "data": [
        {
         "legendgroup": "orange",
         "line": {
          "color": "red"
         },
         "name": "EKF",
         "showlegend": true,
         "type": "scatter",
         "x": [
          "2024-03-10T00:54:59.405794",
          "2024-03-10T00:55:00.405794",
          "2024-03-10T00:55:01.405794",
          "2024-03-10T00:55:02.405794",
          "2024-03-10T00:55:03.405794",
          "2024-03-10T00:55:04.405794",
          "2024-03-10T00:55:05.405794",
          "2024-03-10T00:55:06.405794",
          "2024-03-10T00:55:07.405794",
          "2024-03-10T00:55:08.405794",
          "2024-03-10T00:55:09.405794",
          "2024-03-10T00:55:10.405794",
          "2024-03-10T00:55:11.405794",
          "2024-03-10T00:55:12.405794",
          "2024-03-10T00:55:13.405794",
          "2024-03-10T00:55:14.405794",
          "2024-03-10T00:55:15.405794",
          "2024-03-10T00:55:16.405794",
          "2024-03-10T00:55:17.405794",
          "2024-03-10T00:55:18.405794",
          "2024-03-10T00:55:19.405794",
          "2024-03-10T00:55:20.405794",
          "2024-03-10T00:55:21.405794",
          "2024-03-10T00:55:22.405794",
          "2024-03-10T00:55:23.405794",
          "2024-03-10T00:55:24.405794",
          "2024-03-10T00:55:25.405794",
          "2024-03-10T00:55:26.405794",
          "2024-03-10T00:55:27.405794",
          "2024-03-10T00:55:28.405794",
          "2024-03-10T00:55:29.405794",
          "2024-03-10T00:55:30.405794",
          "2024-03-10T00:55:31.405794",
          "2024-03-10T00:55:32.405794",
          "2024-03-10T00:55:33.405794",
          "2024-03-10T00:55:34.405794",
          "2024-03-10T00:55:35.405794",
          "2024-03-10T00:55:36.405794",
          "2024-03-10T00:55:37.405794",
          "2024-03-10T00:55:38.405794",
          "2024-03-10T00:55:39.405794",
          "2024-03-10T00:55:40.405794",
          "2024-03-10T00:55:41.405794",
          "2024-03-10T00:55:42.405794",
          "2024-03-10T00:55:43.405794",
          "2024-03-10T00:55:44.405794",
          "2024-03-10T00:55:45.405794",
          "2024-03-10T00:55:46.405794",
          "2024-03-10T00:55:47.405794",
          "2024-03-10T00:55:48.405794"
         ],
         "xaxis": "x",
         "y": [
          3.706919018016169,
          2.5307038959095625,
          3.1665366552458902,
          1.6186232654239274,
          0.9295940494718208,
          1.5307602065462282,
          1.538669723150871,
          0.7587487520478635,
          1.2733725741047974,
          2.4960478793880556,
          3.500215280888734,
          1.3837007436347828,
          1.4975303246054943,
          1.0931786770712586,
          2.940533610000097,
          1.5534108763138648,
          1.6315023475974684,
          2.261842432852482,
          2.9396163735577003,
          4.531461461095059,
          2.365201337047971,
          3.7329426452136034,
          1.3907325429560429,
          1.3730444765844592,
          2.067679569844728,
          0.77804369391571,
          2.3428538173729243,
          0.33998021153098046,
          0.28692080351670946,
          5.047884571443137,
          3.131262993991278,
          3.8456601447709313,
          5.436094421960806,
          5.047707378913519,
          4.975623139504206,
          5.47023486929618,
          2.7150134378972397,
          1.0163653092877392,
          0.8164956762917136,
          1.3813705191151016,
          4.106810464195084,
          0.8244642334365866,
          4.553010646577487,
          2.4210201759857783,
          4.103900274843031,
          5.246964532926093,
          6.155293326776454,
          8.100999590455334,
          8.080585046251255,
          8.214369103409677
         ],
         "yaxis": "y"
        },
        {
         "legendgroup": "red",
         "line": {
          "color": "red"
         },
         "name": "SIF",
         "showlegend": true,
         "type": "scatter",
         "x": [
          "2024-03-10T00:54:59.405794",
          "2024-03-10T00:55:00.405794",
          "2024-03-10T00:55:01.405794",
          "2024-03-10T00:55:02.405794",
          "2024-03-10T00:55:03.405794",
          "2024-03-10T00:55:04.405794",
          "2024-03-10T00:55:05.405794",
          "2024-03-10T00:55:06.405794",
          "2024-03-10T00:55:07.405794",
          "2024-03-10T00:55:08.405794",
          "2024-03-10T00:55:09.405794",
          "2024-03-10T00:55:10.405794",
          "2024-03-10T00:55:11.405794",
          "2024-03-10T00:55:12.405794",
          "2024-03-10T00:55:13.405794",
          "2024-03-10T00:55:14.405794",
          "2024-03-10T00:55:15.405794",
          "2024-03-10T00:55:16.405794",
          "2024-03-10T00:55:17.405794",
          "2024-03-10T00:55:18.405794",
          "2024-03-10T00:55:19.405794",
          "2024-03-10T00:55:20.405794",
          "2024-03-10T00:55:21.405794",
          "2024-03-10T00:55:22.405794",
          "2024-03-10T00:55:23.405794",
          "2024-03-10T00:55:24.405794",
          "2024-03-10T00:55:25.405794",
          "2024-03-10T00:55:26.405794",
          "2024-03-10T00:55:27.405794",
          "2024-03-10T00:55:28.405794",
          "2024-03-10T00:55:29.405794",
          "2024-03-10T00:55:30.405794",
          "2024-03-10T00:55:31.405794",
          "2024-03-10T00:55:32.405794",
          "2024-03-10T00:55:33.405794",
          "2024-03-10T00:55:34.405794",
          "2024-03-10T00:55:35.405794",
          "2024-03-10T00:55:36.405794",
          "2024-03-10T00:55:37.405794",
          "2024-03-10T00:55:38.405794",
          "2024-03-10T00:55:39.405794",
          "2024-03-10T00:55:40.405794",
          "2024-03-10T00:55:41.405794",
          "2024-03-10T00:55:42.405794",
          "2024-03-10T00:55:43.405794",
          "2024-03-10T00:55:44.405794",
          "2024-03-10T00:55:45.405794",
          "2024-03-10T00:55:46.405794",
          "2024-03-10T00:55:47.405794",
          "2024-03-10T00:55:48.405794"
         ],
         "xaxis": "x",
         "y": [
          3.706919018016169,
          2.5315324428276735,
          3.1794715440816437,
          1.5969939405028806,
          0.9116907796442225,
          1.5270627001289825,
          1.5057121371204236,
          0.7515176167053789,
          1.2765463148891683,
          2.4970674111684446,
          3.488159088788917,
          1.3547777578847855,
          1.4797458861165325,
          1.044136611653963,
          2.9323381756233498,
          1.5324095776097915,
          1.6545515250858696,
          2.260764862484941,
          2.9319209889374216,
          4.525272856391762,
          2.3435478482312124,
          3.7055302351964614,
          1.3871502577213206,
          1.3965751757122524,
          2.098208750055845,
          0.7811246452457168,
          2.3309656308047533,
          0.26980482499401826,
          0.3129962139375696,
          5.0776987117163515,
          3.1034786259265816,
          3.794680202051426,
          5.391352817101558,
          4.991960097850884,
          4.911414903154402,
          5.413970102166233,
          2.677832620995453,
          1.0004309996185712,
          0.7642917971863243,
          1.444181947286335,
          4.15137378784117,
          0.8676472133071235,
          4.355939257597757,
          2.519859810955758,
          4.208247521606224,
          5.305447876715098,
          6.185182149728767,
          8.107454809390399,
          8.127810571569803,
          8.238579716681032
         ],
         "yaxis": "y"
        },
        {
         "legendgroup": "blue",
         "line": {
          "color": "blue"
         },
         "name": "UKF",
         "showlegend": true,
         "type": "scatter",
         "x": [
          "2024-03-10T00:54:59.405794",
          "2024-03-10T00:55:00.405794",
          "2024-03-10T00:55:01.405794",
          "2024-03-10T00:55:02.405794",
          "2024-03-10T00:55:03.405794",
          "2024-03-10T00:55:04.405794",
          "2024-03-10T00:55:05.405794",
          "2024-03-10T00:55:06.405794",
          "2024-03-10T00:55:07.405794",
          "2024-03-10T00:55:08.405794",
          "2024-03-10T00:55:09.405794",
          "2024-03-10T00:55:10.405794",
          "2024-03-10T00:55:11.405794",
          "2024-03-10T00:55:12.405794",
          "2024-03-10T00:55:13.405794",
          "2024-03-10T00:55:14.405794",
          "2024-03-10T00:55:15.405794",
          "2024-03-10T00:55:16.405794",
          "2024-03-10T00:55:17.405794",
          "2024-03-10T00:55:18.405794",
          "2024-03-10T00:55:19.405794",
          "2024-03-10T00:55:20.405794",
          "2024-03-10T00:55:21.405794",
          "2024-03-10T00:55:22.405794",
          "2024-03-10T00:55:23.405794",
          "2024-03-10T00:55:24.405794",
          "2024-03-10T00:55:25.405794",
          "2024-03-10T00:55:26.405794",
          "2024-03-10T00:55:27.405794",
          "2024-03-10T00:55:28.405794",
          "2024-03-10T00:55:29.405794",
          "2024-03-10T00:55:30.405794",
          "2024-03-10T00:55:31.405794",
          "2024-03-10T00:55:32.405794",
          "2024-03-10T00:55:33.405794",
          "2024-03-10T00:55:34.405794",
          "2024-03-10T00:55:35.405794",
          "2024-03-10T00:55:36.405794",
          "2024-03-10T00:55:37.405794",
          "2024-03-10T00:55:38.405794",
          "2024-03-10T00:55:39.405794",
          "2024-03-10T00:55:40.405794",
          "2024-03-10T00:55:41.405794",
          "2024-03-10T00:55:42.405794",
          "2024-03-10T00:55:43.405794",
          "2024-03-10T00:55:44.405794",
          "2024-03-10T00:55:45.405794",
          "2024-03-10T00:55:46.405794",
          "2024-03-10T00:55:47.405794",
          "2024-03-10T00:55:48.405794"
         ],
         "xaxis": "x",
         "y": [
          3.706919018016169,
          2.527434444684468,
          3.179547763882387,
          1.5994219853871532,
          0.910409374812045,
          1.5202430836662153,
          1.5000807093438469,
          0.7423837797474288,
          1.2705541442448487,
          2.490357824030123,
          3.4840209383935985,
          1.3599914649642082,
          1.4744274777153792,
          1.038975864529179,
          2.928446547533253,
          1.5352551607402882,
          1.6489360070999597,
          2.2517265470455237,
          2.925664202264022,
          4.520747543330752,
          2.3431098271805015,
          3.7041423093933403,
          1.3879274527330445,
          1.4227966373808314,
          2.1217115480480535,
          0.7957387628900142,
          2.3404900164373488,
          0.2656181997954428,
          0.312181175112754,
          5.0698329717305635,
          3.0691243843655,
          3.744365570496197,
          5.357870904043621,
          4.968734088539459,
          4.900926366605256,
          5.408389808860931,
          2.681675214695998,
          0.9965519635537087,
          0.7660842128141345,
          1.4487358596153053,
          4.15282151062705,
          0.8646548827821668,
          4.264314065227732,
          2.5586907329270345,
          4.225992396457803,
          5.312255217167631,
          6.194131219331733,
          8.11112436651116,
          8.141977986770756,
          8.245226711212345
         ],
         "yaxis": "y"
        },
        {
         "legendgroup": "brown",
         "line": {
          "color": "brown"
         },
         "name": "Particle",
         "showlegend": true,
         "type": "scatter",
         "x": [
          "2024-03-10T00:54:59.405794",
          "2024-03-10T00:55:00.405794",
          "2024-03-10T00:55:01.405794",
          "2024-03-10T00:55:02.405794",
          "2024-03-10T00:55:03.405794",
          "2024-03-10T00:55:04.405794",
          "2024-03-10T00:55:05.405794",
          "2024-03-10T00:55:06.405794",
          "2024-03-10T00:55:07.405794",
          "2024-03-10T00:55:08.405794",
          "2024-03-10T00:55:09.405794",
          "2024-03-10T00:55:10.405794",
          "2024-03-10T00:55:11.405794",
          "2024-03-10T00:55:12.405794",
          "2024-03-10T00:55:13.405794",
          "2024-03-10T00:55:14.405794",
          "2024-03-10T00:55:15.405794",
          "2024-03-10T00:55:16.405794",
          "2024-03-10T00:55:17.405794",
          "2024-03-10T00:55:18.405794",
          "2024-03-10T00:55:19.405794",
          "2024-03-10T00:55:20.405794",
          "2024-03-10T00:55:21.405794",
          "2024-03-10T00:55:22.405794",
          "2024-03-10T00:55:23.405794",
          "2024-03-10T00:55:24.405794",
          "2024-03-10T00:55:25.405794",
          "2024-03-10T00:55:26.405794",
          "2024-03-10T00:55:27.405794",
          "2024-03-10T00:55:28.405794",
          "2024-03-10T00:55:29.405794",
          "2024-03-10T00:55:30.405794",
          "2024-03-10T00:55:31.405794",
          "2024-03-10T00:55:32.405794",
          "2024-03-10T00:55:33.405794",
          "2024-03-10T00:55:34.405794",
          "2024-03-10T00:55:35.405794",
          "2024-03-10T00:55:36.405794",
          "2024-03-10T00:55:37.405794",
          "2024-03-10T00:55:38.405794",
          "2024-03-10T00:55:39.405794",
          "2024-03-10T00:55:40.405794",
          "2024-03-10T00:55:41.405794",
          "2024-03-10T00:55:42.405794",
          "2024-03-10T00:55:43.405794",
          "2024-03-10T00:55:44.405794",
          "2024-03-10T00:55:45.405794",
          "2024-03-10T00:55:46.405794",
          "2024-03-10T00:55:47.405794",
          "2024-03-10T00:55:48.405794"
         ],
         "xaxis": "x",
         "y": [
          3.6427897551535557,
          2.8263178883289104,
          3.0652841542353224,
          1.3479469708702092,
          0.8299159155780151,
          1.226357689963693,
          1.7607003378599975,
          0.8413898121301383,
          0.9701284997400229,
          2.356976831879696,
          3.45199416133923,
          1.3831562375049198,
          1.3069718289054553,
          0.9059985899441964,
          2.934827910071459,
          1.5040875709368575,
          1.7887030610367984,
          2.1052117430673487,
          2.8329690044341413,
          4.447752216805709,
          2.272440468562254,
          3.7161829124882035,
          1.4213590736426307,
          1.9455450597163035,
          2.643825195582832,
          1.2481562037430751,
          2.8907855897145165,
          0.5342056970656013,
          0.31625213840473704,
          5.499109721565591,
          2.9763903590076697,
          3.5931287443804547,
          5.373500205773254,
          4.863318659516148,
          4.912010847280507,
          5.920429062886115,
          2.9474282669276204,
          0.9640634601444231,
          0.8605008175789994,
          1.5058814243753376,
          4.183359758761411,
          0.70772047624001,
          2.4205002281714245,
          21.560303699165352,
          20.197812624224106,
          21.17969425030372,
          22.191899430965186,
          23.2320955777294,
          23.246847802601167,
          6.532256417857881
         ],
         "yaxis": "y"
        }
       ],
       "layout": {
        "annotations": [
         {
          "font": {
           "size": 16
          },
          "showarrow": false,
          "text": "Tracker distance error from target - lower is better",
          "x": 0.5,
          "xanchor": "center",
          "xref": "paper",
          "y": 1,
          "yanchor": "bottom",
          "yref": "paper"
         }
        ],
        "autosize": true,
        "template": {
         "data": {
          "bar": [
           {
            "error_x": {
             "color": "#2a3f5f"
            },
            "error_y": {
             "color": "#2a3f5f"
            },
            "marker": {
             "line": {
              "color": "#E5ECF6",
              "width": 0.5
             },
             "pattern": {
              "fillmode": "overlay",
              "size": 10,
              "solidity": 0.2
             }
            },
            "type": "bar"
           }
          ],
          "barpolar": [
           {
            "marker": {
             "line": {
              "color": "#E5ECF6",
              "width": 0.5
             },
             "pattern": {
              "fillmode": "overlay",
              "size": 10,
              "solidity": 0.2
             }
            },
            "type": "barpolar"
           }
          ],
          "carpet": [
           {
            "aaxis": {
             "endlinecolor": "#2a3f5f",
             "gridcolor": "white",
             "linecolor": "white",
             "minorgridcolor": "white",
             "startlinecolor": "#2a3f5f"
            },
            "baxis": {
             "endlinecolor": "#2a3f5f",
             "gridcolor": "white",
             "linecolor": "white",
             "minorgridcolor": "white",
             "startlinecolor": "#2a3f5f"
            },
            "type": "carpet"
           }
          ],
          "choropleth": [
           {
            "colorbar": {
             "outlinewidth": 0,
             "ticks": ""
            },
            "type": "choropleth"
           }
          ],
          "contour": [
           {
            "colorbar": {
             "outlinewidth": 0,
             "ticks": ""
            },
            "colorscale": [
             [
              0,
              "#0d0887"
             ],
             [
              0.1111111111111111,
              "#46039f"
             ],
             [
              0.2222222222222222,
              "#7201a8"
             ],
             [
              0.3333333333333333,
              "#9c179e"
             ],
             [
              0.4444444444444444,
              "#bd3786"
             ],
             [
              0.5555555555555556,
              "#d8576b"
             ],
             [
              0.6666666666666666,
              "#ed7953"
             ],
             [
              0.7777777777777778,
              "#fb9f3a"
             ],
             [
              0.8888888888888888,
              "#fdca26"
             ],
             [
              1,
              "#f0f921"
             ]
            ],
            "type": "contour"
           }
          ],
          "contourcarpet": [
           {
            "colorbar": {
             "outlinewidth": 0,
             "ticks": ""
            },
            "type": "contourcarpet"
           }
          ],
          "heatmap": [
           {
            "colorbar": {
             "outlinewidth": 0,
             "ticks": ""
            },
            "colorscale": [
             [
              0,
              "#0d0887"
             ],
             [
              0.1111111111111111,
              "#46039f"
             ],
             [
              0.2222222222222222,
              "#7201a8"
             ],
             [
              0.3333333333333333,
              "#9c179e"
             ],
             [
              0.4444444444444444,
              "#bd3786"
             ],
             [
              0.5555555555555556,
              "#d8576b"
             ],
             [
              0.6666666666666666,
              "#ed7953"
             ],
             [
              0.7777777777777778,
              "#fb9f3a"
             ],
             [
              0.8888888888888888,
              "#fdca26"
             ],
             [
              1,
              "#f0f921"
             ]
            ],
            "type": "heatmap"
           }
          ],
          "heatmapgl": [
           {
            "colorbar": {
             "outlinewidth": 0,
             "ticks": ""
            },
            "colorscale": [
             [
              0,
              "#0d0887"
             ],
             [
              0.1111111111111111,
              "#46039f"
             ],
             [
              0.2222222222222222,
              "#7201a8"
             ],
             [
              0.3333333333333333,
              "#9c179e"
             ],
             [
              0.4444444444444444,
              "#bd3786"
             ],
             [
              0.5555555555555556,
              "#d8576b"
             ],
             [
              0.6666666666666666,
              "#ed7953"
             ],
             [
              0.7777777777777778,
              "#fb9f3a"
             ],
             [
              0.8888888888888888,
              "#fdca26"
             ],
             [
              1,
              "#f0f921"
             ]
            ],
            "type": "heatmapgl"
           }
          ],
          "histogram": [
           {
            "marker": {
             "pattern": {
              "fillmode": "overlay",
              "size": 10,
              "solidity": 0.2
             }
            },
            "type": "histogram"
           }
          ],
          "histogram2d": [
           {
            "colorbar": {
             "outlinewidth": 0,
             "ticks": ""
            },
            "colorscale": [
             [
              0,
              "#0d0887"
             ],
             [
              0.1111111111111111,
              "#46039f"
             ],
             [
              0.2222222222222222,
              "#7201a8"
             ],
             [
              0.3333333333333333,
              "#9c179e"
             ],
             [
              0.4444444444444444,
              "#bd3786"
             ],
             [
              0.5555555555555556,
              "#d8576b"
             ],
             [
              0.6666666666666666,
              "#ed7953"
             ],
             [
              0.7777777777777778,
              "#fb9f3a"
             ],
             [
              0.8888888888888888,
              "#fdca26"
             ],
             [
              1,
              "#f0f921"
             ]
            ],
            "type": "histogram2d"
           }
          ],
          "histogram2dcontour": [
           {
            "colorbar": {
             "outlinewidth": 0,
             "ticks": ""
            },
            "colorscale": [
             [
              0,
              "#0d0887"
             ],
             [
              0.1111111111111111,
              "#46039f"
             ],
             [
              0.2222222222222222,
              "#7201a8"
             ],
             [
              0.3333333333333333,
              "#9c179e"
             ],
             [
              0.4444444444444444,
              "#bd3786"
             ],
             [
              0.5555555555555556,
              "#d8576b"
             ],
             [
              0.6666666666666666,
              "#ed7953"
             ],
             [
              0.7777777777777778,
              "#fb9f3a"
             ],
             [
              0.8888888888888888,
              "#fdca26"
             ],
             [
              1,
              "#f0f921"
             ]
            ],
            "type": "histogram2dcontour"
           }
          ],
          "mesh3d": [
           {
            "colorbar": {
             "outlinewidth": 0,
             "ticks": ""
            },
            "type": "mesh3d"
           }
          ],
          "parcoords": [
           {
            "line": {
             "colorbar": {
              "outlinewidth": 0,
              "ticks": ""
             }
            },
            "type": "parcoords"
           }
          ],
          "pie": [
           {
            "automargin": true,
            "type": "pie"
           }
          ],
          "scatter": [
           {
            "fillpattern": {
             "fillmode": "overlay",
             "size": 10,
             "solidity": 0.2
            },
            "type": "scatter"
           }
          ],
          "scatter3d": [
           {
            "line": {
             "colorbar": {
              "outlinewidth": 0,
              "ticks": ""
             }
            },
            "marker": {
             "colorbar": {
              "outlinewidth": 0,
              "ticks": ""
             }
            },
            "type": "scatter3d"
           }
          ],
          "scattercarpet": [
           {
            "marker": {
             "colorbar": {
              "outlinewidth": 0,
              "ticks": ""
             }
            },
            "type": "scattercarpet"
           }
          ],
          "scattergeo": [
           {
            "marker": {
             "colorbar": {
              "outlinewidth": 0,
              "ticks": ""
             }
            },
            "type": "scattergeo"
           }
          ],
          "scattergl": [
           {
            "marker": {
             "colorbar": {
              "outlinewidth": 0,
              "ticks": ""
             }
            },
            "type": "scattergl"
           }
          ],
          "scattermapbox": [
           {
            "marker": {
             "colorbar": {
              "outlinewidth": 0,
              "ticks": ""
             }
            },
            "type": "scattermapbox"
           }
          ],
          "scatterpolar": [
           {
            "marker": {
             "colorbar": {
              "outlinewidth": 0,
              "ticks": ""
             }
            },
            "type": "scatterpolar"
           }
          ],
          "scatterpolargl": [
           {
            "marker": {
             "colorbar": {
              "outlinewidth": 0,
              "ticks": ""
             }
            },
            "type": "scatterpolargl"
           }
          ],
          "scatterternary": [
           {
            "marker": {
             "colorbar": {
              "outlinewidth": 0,
              "ticks": ""
             }
            },
            "type": "scatterternary"
           }
          ],
          "surface": [
           {
            "colorbar": {
             "outlinewidth": 0,
             "ticks": ""
            },
            "colorscale": [
             [
              0,
              "#0d0887"
             ],
             [
              0.1111111111111111,
              "#46039f"
             ],
             [
              0.2222222222222222,
              "#7201a8"
             ],
             [
              0.3333333333333333,
              "#9c179e"
             ],
             [
              0.4444444444444444,
              "#bd3786"
             ],
             [
              0.5555555555555556,
              "#d8576b"
             ],
             [
              0.6666666666666666,
              "#ed7953"
             ],
             [
              0.7777777777777778,
              "#fb9f3a"
             ],
             [
              0.8888888888888888,
              "#fdca26"
             ],
             [
              1,
              "#f0f921"
             ]
            ],
            "type": "surface"
           }
          ],
          "table": [
           {
            "cells": {
             "fill": {
              "color": "#EBF0F8"
             },
             "line": {
              "color": "white"
             }
            },
            "header": {
             "fill": {
              "color": "#C8D4E3"
             },
             "line": {
              "color": "white"
             }
            },
            "type": "table"
           }
          ]
         },
         "layout": {
          "annotationdefaults": {
           "arrowcolor": "#2a3f5f",
           "arrowhead": 0,
           "arrowwidth": 1
          },
          "autotypenumbers": "strict",
          "coloraxis": {
           "colorbar": {
            "outlinewidth": 0,
            "ticks": ""
           }
          },
          "colorscale": {
           "diverging": [
            [
             0,
             "#8e0152"
            ],
            [
             0.1,
             "#c51b7d"
            ],
            [
             0.2,
             "#de77ae"
            ],
            [
             0.3,
             "#f1b6da"
            ],
            [
             0.4,
             "#fde0ef"
            ],
            [
             0.5,
             "#f7f7f7"
            ],
            [
             0.6,
             "#e6f5d0"
            ],
            [
             0.7,
             "#b8e186"
            ],
            [
             0.8,
             "#7fbc41"
            ],
            [
             0.9,
             "#4d9221"
            ],
            [
             1,
             "#276419"
            ]
           ],
           "sequential": [
            [
             0,
             "#0d0887"
            ],
            [
             0.1111111111111111,
             "#46039f"
            ],
            [
             0.2222222222222222,
             "#7201a8"
            ],
            [
             0.3333333333333333,
             "#9c179e"
            ],
            [
             0.4444444444444444,
             "#bd3786"
            ],
            [
             0.5555555555555556,
             "#d8576b"
            ],
            [
             0.6666666666666666,
             "#ed7953"
            ],
            [
             0.7777777777777778,
             "#fb9f3a"
            ],
            [
             0.8888888888888888,
             "#fdca26"
            ],
            [
             1,
             "#f0f921"
            ]
           ],
           "sequentialminus": [
            [
             0,
             "#0d0887"
            ],
            [
             0.1111111111111111,
             "#46039f"
            ],
            [
             0.2222222222222222,
             "#7201a8"
            ],
            [
             0.3333333333333333,
             "#9c179e"
            ],
            [
             0.4444444444444444,
             "#bd3786"
            ],
            [
             0.5555555555555556,
             "#d8576b"
            ],
            [
             0.6666666666666666,
             "#ed7953"
            ],
            [
             0.7777777777777778,
             "#fb9f3a"
            ],
            [
             0.8888888888888888,
             "#fdca26"
            ],
            [
             1,
             "#f0f921"
            ]
           ]
          },
          "colorway": [
           "#636efa",
           "#EF553B",
           "#00cc96",
           "#ab63fa",
           "#FFA15A",
           "#19d3f3",
           "#FF6692",
           "#B6E880",
           "#FF97FF",
           "#FECB52"
          ],
          "font": {
           "color": "#2a3f5f"
          },
          "geo": {
           "bgcolor": "white",
           "lakecolor": "white",
           "landcolor": "#E5ECF6",
           "showlakes": true,
           "showland": true,
           "subunitcolor": "white"
          },
          "hoverlabel": {
           "align": "left"
          },
          "hovermode": "closest",
          "mapbox": {
           "style": "light"
          },
          "paper_bgcolor": "white",
          "plot_bgcolor": "#E5ECF6",
          "polar": {
           "angularaxis": {
            "gridcolor": "white",
            "linecolor": "white",
            "ticks": ""
           },
           "bgcolor": "#E5ECF6",
           "radialaxis": {
            "gridcolor": "white",
            "linecolor": "white",
            "ticks": ""
           }
          },
          "scene": {
           "xaxis": {
            "backgroundcolor": "#E5ECF6",
            "gridcolor": "white",
            "gridwidth": 2,
            "linecolor": "white",
            "showbackground": true,
            "ticks": "",
            "zerolinecolor": "white"
           },
           "yaxis": {
            "backgroundcolor": "#E5ECF6",
            "gridcolor": "white",
            "gridwidth": 2,
            "linecolor": "white",
            "showbackground": true,
            "ticks": "",
            "zerolinecolor": "white"
           },
           "zaxis": {
            "backgroundcolor": "#E5ECF6",
            "gridcolor": "white",
            "gridwidth": 2,
            "linecolor": "white",
            "showbackground": true,
            "ticks": "",
            "zerolinecolor": "white"
           }
          },
          "shapedefaults": {
           "line": {
            "color": "#2a3f5f"
           }
          },
          "ternary": {
           "aaxis": {
            "gridcolor": "white",
            "linecolor": "white",
            "ticks": ""
           },
           "baxis": {
            "gridcolor": "white",
            "linecolor": "white",
            "ticks": ""
           },
           "bgcolor": "#E5ECF6",
           "caxis": {
            "gridcolor": "white",
            "linecolor": "white",
            "ticks": ""
           }
          },
          "title": {
           "x": 0.05
          },
          "xaxis": {
           "automargin": true,
           "gridcolor": "white",
           "linecolor": "white",
           "ticks": "",
           "title": {
            "standoff": 15
           },
           "zerolinecolor": "white",
           "zerolinewidth": 2
          },
          "yaxis": {
           "automargin": true,
           "gridcolor": "white",
           "linecolor": "white",
           "ticks": "",
           "title": {
            "standoff": 15
           },
           "zerolinecolor": "white",
           "zerolinewidth": 2
          }
         }
        },
        "xaxis": {
         "anchor": "y",
         "autorange": true,
         "domain": [
          0,
          1
         ],
         "range": [
          "2024-03-10 00:54:59.4058",
          "2024-03-10 00:55:48.4058"
         ],
         "type": "date"
        },
        "yaxis": {
         "anchor": "x",
         "autorange": true,
         "domain": [
          0,
          1
         ],
         "range": [
          -1.0111167781382087,
          24.523582780534817
         ],
         "type": "linear"
        }
       }
      },
      "image/png": "[encoded data removed]",
      "text/html": [
       "<div>                            <div id=\"f75a0887-616f-41bc-b3fe-c6f7b403cc89\" class=\"plotly-graph-div\" style=\"height:525px; width:100%;\"></div>            <script type=\"text/javascript\">                require([\"plotly\"], function(Plotly) {                    window.PLOTLYENV=window.PLOTLYENV || {};                                    if (document.getElementById(\"f75a0887-616f-41bc-b3fe-c6f7b403cc89\")) {                    Plotly.newPlot(                        \"f75a0887-616f-41bc-b3fe-c6f7b403cc89\",                        [{\"legendgroup\":\"orange\",\"line\":{\"color\":\"red\"},\"name\":\"EKF\",\"showlegend\":true,\"x\":[\"2024-03-10T00:54:59.405794\",\"2024-03-10T00:55:00.405794\",\"2024-03-10T00:55:01.405794\",\"2024-03-10T00:55:02.405794\",\"2024-03-10T00:55:03.405794\",\"2024-03-10T00:55:04.405794\",\"2024-03-10T00:55:05.405794\",\"2024-03-10T00:55:06.405794\",\"2024-03-10T00:55:07.405794\",\"2024-03-10T00:55:08.405794\",\"2024-03-10T00:55:09.405794\",\"2024-03-10T00:55:10.405794\",\"2024-03-10T00:55:11.405794\",\"2024-03-10T00:55:12.405794\",\"2024-03-10T00:55:13.405794\",\"2024-03-10T00:55:14.405794\",\"2024-03-10T00:55:15.405794\",\"2024-03-10T00:55:16.405794\",\"2024-03-10T00:55:17.405794\",\"2024-03-10T00:55:18.405794\",\"2024-03-10T00:55:19.405794\",\"2024-03-10T00:55:20.405794\",\"2024-03-10T00:55:21.405794\",\"2024-03-10T00:55:22.405794\",\"2024-03-10T00:55:23.405794\",\"2024-03-10T00:55:24.405794\",\"2024-03-10T00:55:25.405794\",\"2024-03-10T00:55:26.405794\",\"2024-03-10T00:55:27.405794\",\"2024-03-10T00:55:28.405794\",\"2024-03-10T00:55:29.405794\",\"2024-03-10T00:55:30.405794\",\"2024-03-10T00:55:31.405794\",\"2024-03-10T00:55:32.405794\",\"2024-03-10T00:55:33.405794\",\"2024-03-10T00:55:34.405794\",\"2024-03-10T00:55:35.405794\",\"2024-03-10T00:55:36.405794\",\"2024-03-10T00:55:37.405794\",\"2024-03-10T00:55:38.405794\",\"2024-03-10T00:55:39.405794\",\"2024-03-10T00:55:40.405794\",\"2024-03-10T00:55:41.405794\",\"2024-03-10T00:55:42.405794\",\"2024-03-10T00:55:43.405794\",\"2024-03-10T00:55:44.405794\",\"2024-03-10T00:55:45.405794\",\"2024-03-10T00:55:46.405794\",\"2024-03-10T00:55:47.405794\",\"2024-03-10T00:55:48.405794\"],\"y\":[3.706919018016169,2.5307038959095625,3.1665366552458902,1.6186232654239274,0.9295940494718208,1.5307602065462282,1.538669723150871,0.7587487520478635,1.2733725741047974,2.4960478793880556,3.500215280888734,1.3837007436347828,1.4975303246054943,1.0931786770712586,2.940533610000097,1.5534108763138648,1.6315023475974684,2.261842432852482,2.9396163735577003,4.531461461095059,2.365201337047971,3.7329426452136034,1.3907325429560429,1.3730444765844592,2.067679569844728,0.77804369391571,2.3428538173729243,0.33998021153098046,0.28692080351670946,5.047884571443137,3.131262993991278,3.8456601447709313,5.436094421960806,5.047707378913519,4.975623139504206,5.47023486929618,2.7150134378972397,1.0163653092877392,0.8164956762917136,1.3813705191151016,4.106810464195084,0.8244642334365866,4.553010646577487,2.4210201759857783,4.103900274843031,5.246964532926093,6.155293326776454,8.100999590455334,8.080585046251255,8.214369103409677],\"yaxis\":\"y\",\"type\":\"scatter\",\"xaxis\":\"x\"},{\"legendgroup\":\"red\",\"line\":{\"color\":\"red\"},\"name\":\"SIF\",\"showlegend\":true,\"x\":[\"2024-03-10T00:54:59.405794\",\"2024-03-10T00:55:00.405794\",\"2024-03-10T00:55:01.405794\",\"2024-03-10T00:55:02.405794\",\"2024-03-10T00:55:03.405794\",\"2024-03-10T00:55:04.405794\",\"2024-03-10T00:55:05.405794\",\"2024-03-10T00:55:06.405794\",\"2024-03-10T00:55:07.405794\",\"2024-03-10T00:55:08.405794\",\"2024-03-10T00:55:09.405794\",\"2024-03-10T00:55:10.405794\",\"2024-03-10T00:55:11.405794\",\"2024-03-10T00:55:12.405794\",\"2024-03-10T00:55:13.405794\",\"2024-03-10T00:55:14.405794\",\"2024-03-10T00:55:15.405794\",\"2024-03-10T00:55:16.405794\",\"2024-03-10T00:55:17.405794\",\"2024-03-10T00:55:18.405794\",\"2024-03-10T00:55:19.405794\",\"2024-03-10T00:55:20.405794\",\"2024-03-10T00:55:21.405794\",\"2024-03-10T00:55:22.405794\",\"2024-03-10T00:55:23.405794\",\"2024-03-10T00:55:24.405794\",\"2024-03-10T00:55:25.405794\",\"2024-03-10T00:55:26.405794\",\"2024-03-10T00:55:27.405794\",\"2024-03-10T00:55:28.405794\",\"2024-03-10T00:55:29.405794\",\"2024-03-10T00:55:30.405794\",\"2024-03-10T00:55:31.405794\",\"2024-03-10T00:55:32.405794\",\"2024-03-10T00:55:33.405794\",\"2024-03-10T00:55:34.405794\",\"2024-03-10T00:55:35.405794\",\"2024-03-10T00:55:36.405794\",\"2024-03-10T00:55:37.405794\",\"2024-03-10T00:55:38.405794\",\"2024-03-10T00:55:39.405794\",\"2024-03-10T00:55:40.405794\",\"2024-03-10T00:55:41.405794\",\"2024-03-10T00:55:42.405794\",\"2024-03-10T00:55:43.405794\",\"2024-03-10T00:55:44.405794\",\"2024-03-10T00:55:45.405794\",\"2024-03-10T00:55:46.405794\",\"2024-03-10T00:55:47.405794\",\"2024-03-10T00:55:48.405794\"],\"y\":[3.706919018016169,2.5315324428276735,3.1794715440816437,1.5969939405028806,0.9116907796442225,1.5270627001289825,1.5057121371204236,0.7515176167053789,1.2765463148891683,2.4970674111684446,3.488159088788917,1.3547777578847855,1.4797458861165325,1.044136611653963,2.9323381756233498,1.5324095776097915,1.6545515250858696,2.260764862484941,2.9319209889374216,4.525272856391762,2.3435478482312124,3.7055302351964614,1.3871502577213206,1.3965751757122524,2.098208750055845,0.7811246452457168,2.3309656308047533,0.26980482499401826,0.3129962139375696,5.0776987117163515,3.1034786259265816,3.794680202051426,5.391352817101558,4.991960097850884,4.911414903154402,5.413970102166233,2.677832620995453,1.0004309996185712,0.7642917971863243,1.444181947286335,4.15137378784117,0.8676472133071235,4.355939257597757,2.519859810955758,4.208247521606224,5.305447876715098,6.185182149728767,8.107454809390399,8.127810571569803,8.238579716681032],\"yaxis\":\"y\",\"type\":\"scatter\",\"xaxis\":\"x\"},{\"legendgroup\":\"blue\",\"line\":{\"color\":\"blue\"},\"name\":\"UKF\",\"showlegend\":true,\"x\":[\"2024-03-10T00:54:59.405794\",\"2024-03-10T00:55:00.405794\",\"2024-03-10T00:55:01.405794\",\"2024-03-10T00:55:02.405794\",\"2024-03-10T00:55:03.405794\",\"2024-03-10T00:55:04.405794\",\"2024-03-10T00:55:05.405794\",\"2024-03-10T00:55:06.405794\",\"2024-03-10T00:55:07.405794\",\"2024-03-10T00:55:08.405794\",\"2024-03-10T00:55:09.405794\",\"2024-03-10T00:55:10.405794\",\"2024-03-10T00:55:11.405794\",\"2024-03-10T00:55:12.405794\",\"2024-03-10T00:55:13.405794\",\"2024-03-10T00:55:14.405794\",\"2024-03-10T00:55:15.405794\",\"2024-03-10T00:55:16.405794\",\"2024-03-10T00:55:17.405794\",\"2024-03-10T00:55:18.405794\",\"2024-03-10T00:55:19.405794\",\"2024-03-10T00:55:20.405794\",\"2024-03-10T00:55:21.405794\",\"2024-03-10T00:55:22.405794\",\"2024-03-10T00:55:23.405794\",\"2024-03-10T00:55:24.405794\",\"2024-03-10T00:55:25.405794\",\"2024-03-10T00:55:26.405794\",\"2024-03-10T00:55:27.405794\",\"2024-03-10T00:55:28.405794\",\"2024-03-10T00:55:29.405794\",\"2024-03-10T00:55:30.405794\",\"2024-03-10T00:55:31.405794\",\"2024-03-10T00:55:32.405794\",\"2024-03-10T00:55:33.405794\",\"2024-03-10T00:55:34.405794\",\"2024-03-10T00:55:35.405794\",\"2024-03-10T00:55:36.405794\",\"2024-03-10T00:55:37.405794\",\"2024-03-10T00:55:38.405794\",\"2024-03-10T00:55:39.405794\",\"2024-03-10T00:55:40.405794\",\"2024-03-10T00:55:41.405794\",\"2024-03-10T00:55:42.405794\",\"2024-03-10T00:55:43.405794\",\"2024-03-10T00:55:44.405794\",\"2024-03-10T00:55:45.405794\",\"2024-03-10T00:55:46.405794\",\"2024-03-10T00:55:47.405794\",\"2024-03-10T00:55:48.405794\"],\"y\":[3.706919018016169,2.527434444684468,3.179547763882387,1.5994219853871532,0.910409374812045,1.5202430836662153,1.5000807093438469,0.7423837797474288,1.2705541442448487,2.490357824030123,3.4840209383935985,1.3599914649642082,1.4744274777153792,1.038975864529179,2.928446547533253,1.5352551607402882,1.6489360070999597,2.2517265470455237,2.925664202264022,4.520747543330752,2.3431098271805015,3.7041423093933403,1.3879274527330445,1.4227966373808314,2.1217115480480535,0.7957387628900142,2.3404900164373488,0.2656181997954428,0.312181175112754,5.0698329717305635,3.0691243843655,3.744365570496197,5.357870904043621,4.968734088539459,4.900926366605256,5.408389808860931,2.681675214695998,0.9965519635537087,0.7660842128141345,1.4487358596153053,4.15282151062705,0.8646548827821668,4.264314065227732,2.5586907329270345,4.225992396457803,5.312255217167631,6.194131219331733,8.11112436651116,8.141977986770756,8.245226711212345],\"yaxis\":\"y\",\"type\":\"scatter\",\"xaxis\":\"x\"},{\"legendgroup\":\"brown\",\"line\":{\"color\":\"brown\"},\"name\":\"Particle\",\"showlegend\":true,\"x\":[\"2024-03-10T00:54:59.405794\",\"2024-03-10T00:55:00.405794\",\"2024-03-10T00:55:01.405794\",\"2024-03-10T00:55:02.405794\",\"2024-03-10T00:55:03.405794\",\"2024-03-10T00:55:04.405794\",\"2024-03-10T00:55:05.405794\",\"2024-03-10T00:55:06.405794\",\"2024-03-10T00:55:07.405794\",\"2024-03-10T00:55:08.405794\",\"2024-03-10T00:55:09.405794\",\"2024-03-10T00:55:10.405794\",\"2024-03-10T00:55:11.405794\",\"2024-03-10T00:55:12.405794\",\"2024-03-10T00:55:13.405794\",\"2024-03-10T00:55:14.405794\",\"2024-03-10T00:55:15.405794\",\"2024-03-10T00:55:16.405794\",\"2024-03-10T00:55:17.405794\",\"2024-03-10T00:55:18.405794\",\"2024-03-10T00:55:19.405794\",\"2024-03-10T00:55:20.405794\",\"2024-03-10T00:55:21.405794\",\"2024-03-10T00:55:22.405794\",\"2024-03-10T00:55:23.405794\",\"2024-03-10T00:55:24.405794\",\"2024-03-10T00:55:25.405794\",\"2024-03-10T00:55:26.405794\",\"2024-03-10T00:55:27.405794\",\"2024-03-10T00:55:28.405794\",\"2024-03-10T00:55:29.405794\",\"2024-03-10T00:55:30.405794\",\"2024-03-10T00:55:31.405794\",\"2024-03-10T00:55:32.405794\",\"2024-03-10T00:55:33.405794\",\"2024-03-10T00:55:34.405794\",\"2024-03-10T00:55:35.405794\",\"2024-03-10T00:55:36.405794\",\"2024-03-10T00:55:37.405794\",\"2024-03-10T00:55:38.405794\",\"2024-03-10T00:55:39.405794\",\"2024-03-10T00:55:40.405794\",\"2024-03-10T00:55:41.405794\",\"2024-03-10T00:55:42.405794\",\"2024-03-10T00:55:43.405794\",\"2024-03-10T00:55:44.405794\",\"2024-03-10T00:55:45.405794\",\"2024-03-10T00:55:46.405794\",\"2024-03-10T00:55:47.405794\",\"2024-03-10T00:55:48.405794\"],\"y\":[3.6427897551535557,2.8263178883289104,3.0652841542353224,1.3479469708702092,0.8299159155780151,1.226357689963693,1.7607003378599975,0.8413898121301383,0.9701284997400229,2.356976831879696,3.45199416133923,1.3831562375049198,1.3069718289054553,0.9059985899441964,2.934827910071459,1.5040875709368575,1.7887030610367984,2.1052117430673487,2.8329690044341413,4.447752216805709,2.272440468562254,3.7161829124882035,1.4213590736426307,1.9455450597163035,2.643825195582832,1.2481562037430751,2.8907855897145165,0.5342056970656013,0.31625213840473704,5.499109721565591,2.9763903590076697,3.5931287443804547,5.373500205773254,4.863318659516148,4.912010847280507,5.920429062886115,2.9474282669276204,0.9640634601444231,0.8605008175789994,1.5058814243753376,4.183359758761411,0.70772047624001,2.4205002281714245,21.560303699165352,20.197812624224106,21.17969425030372,22.191899430965186,23.2320955777294,23.246847802601167,6.532256417857881],\"yaxis\":\"y\",\"type\":\"scatter\",\"xaxis\":\"x\"}],                        {\"template\":{\"data\":{\"histogram2dcontour\":[{\"type\":\"histogram2dcontour\",\"colorbar\":{\"outlinewidth\":0,\"ticks\":\"\"},\"colorscale\":[[0.0,\"#0d0887\"],[0.1111111111111111,\"#46039f\"],[0.2222222222222222,\"#7201a8\"],[0.3333333333333333,\"#9c179e\"],[0.4444444444444444,\"#bd3786\"],[0.5555555555555556,\"#d8576b\"],[0.6666666666666666,\"#ed7953\"],[0.7777777777777778,\"#fb9f3a\"],[0.8888888888888888,\"#fdca26\"],[1.0,\"#f0f921\"]]}],\"choropleth\":[{\"type\":\"choropleth\",\"colorbar\":{\"outlinewidth\":0,\"ticks\":\"\"}}],\"histogram2d\":[{\"type\":\"histogram2d\",\"colorbar\":{\"outlinewidth\":0,\"ticks\":\"\"},\"colorscale\":[[0.0,\"#0d0887\"],[0.1111111111111111,\"#46039f\"],[0.2222222222222222,\"#7201a8\"],[0.3333333333333333,\"#9c179e\"],[0.4444444444444444,\"#bd3786\"],[0.5555555555555556,\"#d8576b\"],[0.6666666666666666,\"#ed7953\"],[0.7777777777777778,\"#fb9f3a\"],[0.8888888888888888,\"#fdca26\"],[1.0,\"#f0f921\"]]}],\"heatmap\":[{\"type\":\"heatmap\",\"colorbar\":{\"outlinewidth\":0,\"ticks\":\"\"},\"colorscale\":[[0.0,\"#0d0887\"],[0.1111111111111111,\"#46039f\"],[0.2222222222222222,\"#7201a8\"],[0.3333333333333333,\"#9c179e\"],[0.4444444444444444,\"#bd3786\"],[0.5555555555555556,\"#d8576b\"],[0.6666666666666666,\"#ed7953\"],[0.7777777777777778,\"#fb9f3a\"],[0.8888888888888888,\"#fdca26\"],[1.0,\"#f0f921\"]]}],\"heatmapgl\":[{\"type\":\"heatmapgl\",\"colorbar\":{\"outlinewidth\":0,\"ticks\":\"\"},\"colorscale\":[[0.0,\"#0d0887\"],[0.1111111111111111,\"#46039f\"],[0.2222222222222222,\"#7201a8\"],[0.3333333333333333,\"#9c179e\"],[0.4444444444444444,\"#bd3786\"],[0.5555555555555556,\"#d8576b\"],[0.6666666666666666,\"#ed7953\"],[0.7777777777777778,\"#fb9f3a\"],[0.8888888888888888,\"#fdca26\"],[1.0,\"#f0f921\"]]}],\"contourcarpet\":[{\"type\":\"contourcarpet\",\"colorbar\":{\"outlinewidth\":0,\"ticks\":\"\"}}],\"contour\":[{\"type\":\"contour\",\"colorbar\":{\"outlinewidth\":0,\"ticks\":\"\"},\"colorscale\":[[0.0,\"#0d0887\"],[0.1111111111111111,\"#46039f\"],[0.2222222222222222,\"#7201a8\"],[0.3333333333333333,\"#9c179e\"],[0.4444444444444444,\"#bd3786\"],[0.5555555555555556,\"#d8576b\"],[0.6666666666666666,\"#ed7953\"],[0.7777777777777778,\"#fb9f3a\"],[0.8888888888888888,\"#fdca26\"],[1.0,\"#f0f921\"]]}],\"surface\":[{\"type\":\"surface\",\"colorbar\":{\"outlinewidth\":0,\"ticks\":\"\"},\"colorscale\":[[0.0,\"#0d0887\"],[0.1111111111111111,\"#46039f\"],[0.2222222222222222,\"#7201a8\"],[0.3333333333333333,\"#9c179e\"],[0.4444444444444444,\"#bd3786\"],[0.5555555555555556,\"#d8576b\"],[0.6666666666666666,\"#ed7953\"],[0.7777777777777778,\"#fb9f3a\"],[0.8888888888888888,\"#fdca26\"],[1.0,\"#f0f921\"]]}],\"mesh3d\":[{\"type\":\"mesh3d\",\"colorbar\":{\"outlinewidth\":0,\"ticks\":\"\"}}],\"scatter\":[{\"fillpattern\":{\"fillmode\":\"overlay\",\"size\":10,\"solidity\":0.2},\"type\":\"scatter\"}],\"parcoords\":[{\"type\":\"parcoords\",\"line\":{\"colorbar\":{\"outlinewidth\":0,\"ticks\":\"\"}}}],\"scatterpolargl\":[{\"type\":\"scatterpolargl\",\"marker\":{\"colorbar\":{\"outlinewidth\":0,\"ticks\":\"\"}}}],\"bar\":[{\"error_x\":{\"color\":\"#2a3f5f\"},\"error_y\":{\"color\":\"#2a3f5f\"},\"marker\":{\"line\":{\"color\":\"#E5ECF6\",\"width\":0.5},\"pattern\":{\"fillmode\":\"overlay\",\"size\":10,\"solidity\":0.2}},\"type\":\"bar\"}],\"scattergeo\":[{\"type\":\"scattergeo\",\"marker\":{\"colorbar\":{\"outlinewidth\":0,\"ticks\":\"\"}}}],\"scatterpolar\":[{\"type\":\"scatterpolar\",\"marker\":{\"colorbar\":{\"outlinewidth\":0,\"ticks\":\"\"}}}],\"histogram\":[{\"marker\":{\"pattern\":{\"fillmode\":\"overlay\",\"size\":10,\"solidity\":0.2}},\"type\":\"histogram\"}],\"scattergl\":[{\"type\":\"scattergl\",\"marker\":{\"colorbar\":{\"outlinewidth\":0,\"ticks\":\"\"}}}],\"scatter3d\":[{\"type\":\"scatter3d\",\"line\":{\"colorbar\":{\"outlinewidth\":0,\"ticks\":\"\"}},\"marker\":{\"colorbar\":{\"outlinewidth\":0,\"ticks\":\"\"}}}],\"scattermapbox\":[{\"type\":\"scattermapbox\",\"marker\":{\"colorbar\":{\"outlinewidth\":0,\"ticks\":\"\"}}}],\"scatterternary\":[{\"type\":\"scatterternary\",\"marker\":{\"colorbar\":{\"outlinewidth\":0,\"ticks\":\"\"}}}],\"scattercarpet\":[{\"type\":\"scattercarpet\",\"marker\":{\"colorbar\":{\"outlinewidth\":0,\"ticks\":\"\"}}}],\"carpet\":[{\"aaxis\":{\"endlinecolor\":\"#2a3f5f\",\"gridcolor\":\"white\",\"linecolor\":\"white\",\"minorgridcolor\":\"white\",\"startlinecolor\":\"#2a3f5f\"},\"baxis\":{\"endlinecolor\":\"#2a3f5f\",\"gridcolor\":\"white\",\"linecolor\":\"white\",\"minorgridcolor\":\"white\",\"startlinecolor\":\"#2a3f5f\"},\"type\":\"carpet\"}],\"table\":[{\"cells\":{\"fill\":{\"color\":\"#EBF0F8\"},\"line\":{\"color\":\"white\"}},\"header\":{\"fill\":{\"color\":\"#C8D4E3\"},\"line\":{\"color\":\"white\"}},\"type\":\"table\"}],\"barpolar\":[{\"marker\":{\"line\":{\"color\":\"#E5ECF6\",\"width\":0.5},\"pattern\":{\"fillmode\":\"overlay\",\"size\":10,\"solidity\":0.2}},\"type\":\"barpolar\"}],\"pie\":[{\"automargin\":true,\"type\":\"pie\"}]},\"layout\":{\"autotypenumbers\":\"strict\",\"colorway\":[\"#636efa\",\"#EF553B\",\"#00cc96\",\"#ab63fa\",\"#FFA15A\",\"#19d3f3\",\"#FF6692\",\"#B6E880\",\"#FF97FF\",\"#FECB52\"],\"font\":{\"color\":\"#2a3f5f\"},\"hovermode\":\"closest\",\"hoverlabel\":{\"align\":\"left\"},\"paper_bgcolor\":\"white\",\"plot_bgcolor\":\"#E5ECF6\",\"polar\":{\"bgcolor\":\"#E5ECF6\",\"angularaxis\":{\"gridcolor\":\"white\",\"linecolor\":\"white\",\"ticks\":\"\"},\"radialaxis\":{\"gridcolor\":\"white\",\"linecolor\":\"white\",\"ticks\":\"\"}},\"ternary\":{\"bgcolor\":\"#E5ECF6\",\"aaxis\":{\"gridcolor\":\"white\",\"linecolor\":\"white\",\"ticks\":\"\"},\"baxis\":{\"gridcolor\":\"white\",\"linecolor\":\"white\",\"ticks\":\"\"},\"caxis\":{\"gridcolor\":\"white\",\"linecolor\":\"white\",\"ticks\":\"\"}},\"coloraxis\":{\"colorbar\":{\"outlinewidth\":0,\"ticks\":\"\"}},\"colorscale\":{\"sequential\":[[0.0,\"#0d0887\"],[0.1111111111111111,\"#46039f\"],[0.2222222222222222,\"#7201a8\"],[0.3333333333333333,\"#9c179e\"],[0.4444444444444444,\"#bd3786\"],[0.5555555555555556,\"#d8576b\"],[0.6666666666666666,\"#ed7953\"],[0.7777777777777778,\"#fb9f3a\"],[0.8888888888888888,\"#fdca26\"],[1.0,\"#f0f921\"]],\"sequentialminus\":[[0.0,\"#0d0887\"],[0.1111111111111111,\"#46039f\"],[0.2222222222222222,\"#7201a8\"],[0.3333333333333333,\"#9c179e\"],[0.4444444444444444,\"#bd3786\"],[0.5555555555555556,\"#d8576b\"],[0.6666666666666666,\"#ed7953\"],[0.7777777777777778,\"#fb9f3a\"],[0.8888888888888888,\"#fdca26\"],[1.0,\"#f0f921\"]],\"diverging\":[[0,\"#8e0152\"],[0.1,\"#c51b7d\"],[0.2,\"#de77ae\"],[0.3,\"#f1b6da\"],[0.4,\"#fde0ef\"],[0.5,\"#f7f7f7\"],[0.6,\"#e6f5d0\"],[0.7,\"#b8e186\"],[0.8,\"#7fbc41\"],[0.9,\"#4d9221\"],[1,\"#276419\"]]},\"xaxis\":{\"gridcolor\":\"white\",\"linecolor\":\"white\",\"ticks\":\"\",\"title\":{\"standoff\":15},\"zerolinecolor\":\"white\",\"automargin\":true,\"zerolinewidth\":2},\"yaxis\":{\"gridcolor\":\"white\",\"linecolor\":\"white\",\"ticks\":\"\",\"title\":{\"standoff\":15},\"zerolinecolor\":\"white\",\"automargin\":true,\"zerolinewidth\":2},\"scene\":{\"xaxis\":{\"backgroundcolor\":\"#E5ECF6\",\"gridcolor\":\"white\",\"linecolor\":\"white\",\"showbackground\":true,\"ticks\":\"\",\"zerolinecolor\":\"white\",\"gridwidth\":2},\"yaxis\":{\"backgroundcolor\":\"#E5ECF6\",\"gridcolor\":\"white\",\"linecolor\":\"white\",\"showbackground\":true,\"ticks\":\"\",\"zerolinecolor\":\"white\",\"gridwidth\":2},\"zaxis\":{\"backgroundcolor\":\"#E5ECF6\",\"gridcolor\":\"white\",\"linecolor\":\"white\",\"showbackground\":true,\"ticks\":\"\",\"zerolinecolor\":\"white\",\"gridwidth\":2}},\"shapedefaults\":{\"line\":{\"color\":\"#2a3f5f\"}},\"annotationdefaults\":{\"arrowcolor\":\"#2a3f5f\",\"arrowhead\":0,\"arrowwidth\":1},\"geo\":{\"bgcolor\":\"white\",\"landcolor\":\"#E5ECF6\",\"subunitcolor\":\"white\",\"showland\":true,\"showlakes\":true,\"lakecolor\":\"white\"},\"title\":{\"x\":0.05},\"mapbox\":{\"style\":\"light\"}}},\"xaxis\":{\"anchor\":\"y\",\"domain\":[0.0,1.0]},\"yaxis\":{\"anchor\":\"x\",\"domain\":[0.0,1.0]},\"annotations\":[{\"font\":{\"size\":16},\"showarrow\":false,\"text\":\"Tracker distance error from target - lower is better\",\"x\":0.5,\"xanchor\":\"center\",\"xref\":\"paper\",\"y\":1.0,\"yanchor\":\"bottom\",\"yref\":\"paper\"}]},                        {\"responsive\": true}                    ).then(function(){\n",
       "                            \n",
       "var gd = document.getElementById('f75a0887-616f-41bc-b3fe-c6f7b403cc89');\n",
       "var x = new MutationObserver(function (mutations, observer) {{\n",
       "        var display = window.getComputedStyle(gd).display;\n",
       "        if (!display || display === 'none') {{\n",
       "            console.log([gd, 'removed!']);\n",
       "            Plotly.purge(gd);\n",
       "            observer.disconnect();\n",
       "        }}\n",
       "}});\n",
       "\n",
       "// Listen for the removal of the full notebook cells\n",
       "var notebookContainer = gd.closest('#notebook-container');\n",
       "if (notebookContainer) {{\n",
       "    x.observe(notebookContainer, {childList: true});\n",
       "}}\n",
       "\n",
       "// Listen for the clearing of the current output cell\n",
       "var outputEl = gd.closest('.output');\n",
       "if (outputEl) {{\n",
       "    x.observe(outputEl, {childList: true});\n",
       "}}\n",
       "\n",
       "                        })                };                });            </script>        </div>"
      ]
     },
     "metadata": {},
     "output_type": "display_data"
    }
   ],
   "source": [
    "from plotly.subplots import make_subplots\n",
    "\n",
    "ospa_metric_EKF = metrics_EKF['OSPA distances']\n",
    "ospa_metric_UKF = metrics_UKF['OSPA distances']\n",
    "ospa_metric_SIF = metrics_SIF['OSPA distances']\n",
    "ospa_metric_PF = metrics_PF['OSPA distances']\n",
    "\n",
    "fig = make_subplots(\n",
    "    rows=1, cols=1,\n",
    "    shared_xaxes=False,\n",
    "    vertical_spacing=0.040,\n",
    "    subplot_titles=['Tracker distance error from target - lower is better'])\n",
    "fig.add_scatter(\n",
    "    x=[i.timestamp for i in ospa_metric_EKF.value],\n",
    "    y=[i.value for i in ospa_metric_EKF.value],\n",
    "    name='EKF',\n",
    "    legendgroup=\"orange\",\n",
    "    yaxis='y',\n",
    "    row=1,\n",
    "    col=1,\n",
    "    showlegend=True,\n",
    "    line_color='red',\n",
    ")\n",
    "fig.add_scatter(\n",
    "    x=[i.timestamp for i in ospa_metric_SIF.value],\n",
    "    y=[i.value for i in ospa_metric_SIF.value],\n",
    "    name='SIF',\n",
    "    legendgroup=\"red\",\n",
    "    yaxis='y',\n",
    "    row=1,\n",
    "    col=1,\n",
    "    showlegend=True,\n",
    "    line_color='red',\n",
    ")\n",
    "fig.add_scatter(\n",
    "    x=[i.timestamp for i in ospa_metric_UKF.value],\n",
    "    y=[i.value for i in ospa_metric_UKF.value],\n",
    "    name='UKF',\n",
    "    legendgroup=\"blue\",\n",
    "    yaxis='y',\n",
    "    row=1,\n",
    "    col=1,\n",
    "    showlegend=True,\n",
    "    line_color='blue',\n",
    ")\n",
    "fig.add_scatter(\n",
    "    x=[i.timestamp for i in ospa_metric_PF.value],\n",
    "    y=[i.value for i in ospa_metric_PF.value],\n",
    "    name='Particle',\n",
    "    legendgroup=\"brown\",\n",
    "    yaxis='y',\n",
    "    row=1,\n",
    "    col=1,\n",
    "    showlegend=True,\n",
    "    line_color='brown',\n",
    ")\n"
   ]
  },
  {
   "cell_type": "markdown",
   "metadata": {},
   "source": [
    "It can be seen that the EKF, UKF, and Particle Filter all behave very similarly,\n",
    "whereas the ESIF has very poor relative performance. A singular performance metric is calculated\n",
    "from this by summing the OSPA value over all timesteps:\n",
    "\n"
   ]
  },
  {
   "cell_type": "code",
   "execution_count": null,
   "metadata": {},
   "outputs": [],
   "source": []
  },
  {
   "cell_type": "code",
   "execution_count": null,
   "metadata": {},
   "outputs": [],
   "source": []
  },
  {
   "cell_type": "code",
   "execution_count": 55,
   "metadata": {
    "collapsed": false,
    "jupyter": {
     "outputs_hidden": false
    }
   },
   "outputs": [
    {
     "name": "stdout",
     "output_type": "stream",
     "text": [
      "OSPA total value for EKF is  147.793\n",
      "OSPA total value for UKF is  147.793\n",
      "OSPA total value for SIF is  147.953\n",
      "OSPA total value for PF is  147.793\n"
     ]
    }
   ],
   "source": [
    "# sum up distance error from ground truth over all timestamps\n",
    "ospa_EKF_total = sum([ospa_metric_EKF.value[i].value for i in range(0,\n",
    "                                                                    len(ospa_metric_EKF.value))])\n",
    "ospa_UKF_total = sum([ospa_metric_UKF.value[i].value for i in range(0,\n",
    "                                                                    len(ospa_metric_UKF.value))])\n",
    "ospa_SIF_total = sum([ospa_metric_SIF.value[i].value for i in range(0,\n",
    "                                                                    len(ospa_metric_SIF.value))])\n",
    "ospa_PF_total = sum([ospa_metric_PF.value[i].value for i in range(0,\n",
    "                                                                len(ospa_metric_PF.value))])\n",
    "print(\"OSPA total value for EKF is \", f'{ospa_UKF_total:.3f}')\n",
    "print(\"OSPA total value for UKF is \", f'{ospa_UKF_total:.3f}')\n",
    "print(\"OSPA total value for SIF is \", f'{ospa_SIF_total:.3f}')\n",
    "print(\"OSPA total value for PF is \", f'{ospa_UKF_total:.3f}')"
   ]
  },
  {
   "cell_type": "markdown",
   "metadata": {},
   "source": [
    "Monte Carlo Generation (I would like to dial in the above example simulation before running it many times)"
   ]
  },
  {
   "cell_type": "code",
   "execution_count": 75,
   "metadata": {},
   "outputs": [],
   "source": [
    "def root_mean_square_error(ground_truths, tracks):\n",
    "    for truth in ground_truths:\n",
    "        for track in tracks:\n",
    "            #truthState = np.zeros((4,len(track.states)))\n",
    "            mse = np.zeros((4,len(track.states)))\n",
    "            for ind in range(0,len(track.states)):\n",
    "                a = track.states[ind].mean\n",
    "                b = truth.states[ind].state_vector\n",
    "                a = a.ravel()\n",
    "                b = b.ravel()\n",
    "                mse[:,ind] = np.power((a-b),2)\n",
    "            return np.sqrt(mse)\n",
    "    "
   ]
  },
  {
   "cell_type": "code",
   "execution_count": 81,
   "metadata": {},
   "outputs": [
    {
     "name": "stdout",
     "output_type": "stream",
     "text": [
      "1\n",
      "2\n",
      "3\n",
      "4\n",
      "5\n",
      "6\n",
      "7\n",
      "8\n",
      "9\n",
      "10\n",
      "11\n",
      "12\n",
      "13\n",
      "14\n",
      "15\n",
      "16\n",
      "17\n",
      "18\n",
      "19\n",
      "20\n",
      "21\n",
      "22\n",
      "23\n",
      "24\n",
      "25\n",
      "26\n",
      "27\n",
      "28\n",
      "29\n",
      "30\n",
      "31\n",
      "32\n",
      "33\n",
      "34\n",
      "35\n",
      "36\n",
      "37\n",
      "38\n",
      "39\n",
      "40\n",
      "41\n",
      "42\n",
      "43\n",
      "44\n",
      "45\n",
      "46\n",
      "47\n",
      "48\n",
      "49\n",
      "50\n",
      "51\n",
      "52\n",
      "53\n",
      "54\n",
      "55\n",
      "56\n",
      "57\n",
      "58\n",
      "59\n",
      "60\n",
      "61\n",
      "62\n",
      "63\n",
      "64\n",
      "65\n",
      "66\n",
      "67\n",
      "68\n",
      "69\n",
      "70\n",
      "71\n",
      "72\n",
      "73\n",
      "74\n",
      "75\n",
      "76\n",
      "77\n",
      "78\n",
      "79\n",
      "80\n",
      "81\n",
      "82\n",
      "83\n",
      "84\n",
      "85\n",
      "86\n",
      "87\n",
      "88\n",
      "89\n",
      "90\n",
      "91\n",
      "92\n",
      "93\n",
      "94\n",
      "95\n",
      "96\n",
      "97\n",
      "98\n",
      "99\n",
      "100\n"
     ]
    },
    {
     "data": {
      "text/plain": [
       "<matplotlib.legend.Legend at 0x2e97be2c310>"
      ]
     },
     "execution_count": 81,
     "metadata": {},
     "output_type": "execute_result"
    },
    {
     "data": {
      "image/png": "[encoded data removed]",
      "text/plain": [
       "<Figure size 640x480 with 1 Axes>"
      ]
     },
     "metadata": {},
     "output_type": "display_data"
    }
   ],
   "source": [
    "monte_carlo_iterations = 100\n",
    "\n",
    "y_sum_EKF = np.zeros(np.array([i.value for i in ospa_metric_EKF.value]).shape)\n",
    "y_sum_UKF = np.zeros(np.array([i.value for i in ospa_metric_SIF.value]).shape)\n",
    "y_sum_SIF = np.zeros(y_sum_UKF.shape)\n",
    "y_sum_PF = np.zeros(y_sum_UKF.shape)\n",
    "\n",
    "rmseEKF = np.zeros([4,50])\n",
    "rmseUKF = np.zeros([4,50])\n",
    "rmseSIF = np.zeros([4,50])\n",
    "rmseEnKF = np.zeros([4,50])\n",
    "\n",
    "for i in range(monte_carlo_iterations):\n",
    "    print(i+1)\n",
    "    detector = PlatformDetectionSimulator(ground_truth_gen, platforms=[platform])\n",
    "    detector, *detectors = tee(detector, 6)\n",
    "    # Generate Ground Truth\n",
    "    detections = set()\n",
    "    ground_truth = set()\n",
    "    for time, dets in detector:\n",
    "        detections |= dets\n",
    "        ground_truth |= ground_truth_gen.groundtruth_paths\n",
    "    # Instantiate Trackers\n",
    "    kalman_tracker_EKF = MultiTargetTracker(\n",
    "    initiator=initiator_EKF,\n",
    "    deleter=deleter,\n",
    "    detector=detectors[0],\n",
    "    data_associator=data_associator_EKF,\n",
    "    updater=updater_EKF,\n",
    "    )\n",
    "    kalman_tracker_UKF = MultiTargetTracker(\n",
    "    initiator=initiator_UKF,\n",
    "    deleter=deleter,\n",
    "    detector=detectors[1],\n",
    "    data_associator=data_associator_UKF,\n",
    "    updater=updater_UKF,\n",
    "    )\n",
    "    kalman_tracker_SIF = MultiTargetTracker(\n",
    "    initiator=initiator_SIF,\n",
    "    deleter=deleter,\n",
    "    detector=detectors[2],\n",
    "    data_associator=data_associator_SIF,\n",
    "    updater=updater_SIF,\n",
    "    )\n",
    "    tracker_PF = MultiTargetTracker(\n",
    "    initiator=initiator_PF,\n",
    "    deleter=deleter,\n",
    "    detector=detectors[3],\n",
    "    data_associator=data_associator_PF,\n",
    "    updater=updater_PF,\n",
    "    )\n",
    "    # Run Tracks\n",
    "    tracks_EKF = set()\n",
    "    for step, (time, current_tracks) in enumerate(kalman_tracker_EKF, 1):\n",
    "        tracks_EKF.update(current_tracks)\n",
    "    tracks_UKF = set()\n",
    "    for step, (time, current_tracks) in enumerate(kalman_tracker_UKF, 1):\n",
    "        tracks_UKF.update(current_tracks)\n",
    "    tracks_SIF = set()\n",
    "    for step, (time, current_tracks) in enumerate(kalman_tracker_SIF, 1):\n",
    "        tracks_SIF.update(current_tracks)\n",
    "    tracks_PF = set()\n",
    "    for step, (time, current_tracks) in enumerate(tracker_PF, 1):\n",
    "        tracks_PF.update(current_tracks)\n",
    "    # Metrics Managers\n",
    "    metric_manager_EKF = SimpleManager([ospa_generator, siap_generator, uncertainty_generator],\n",
    "                                       associator=associator)\n",
    "    metric_manager_EKF.add_data(ground_truth, tracks_EKF)\n",
    "    metrics_EKF = metric_manager_EKF.generate_metrics()\n",
    "    #\n",
    "    metric_manager_UKF = SimpleManager([ospa_generator, siap_generator, uncertainty_generator],\n",
    "                                       associator=associator)\n",
    "    metric_manager_UKF.add_data(ground_truth, tracks_UKF)\n",
    "    metrics_UKF = metric_manager_UKF.generate_metrics()\n",
    "    #\n",
    "    metric_manager_SIF = SimpleManager([ospa_generator, siap_generator, uncertainty_generator],\n",
    "                                      associator=associator)\n",
    "    metric_manager_SIF.add_data(ground_truth, tracks_SIF)\n",
    "    metrics_SIF = metric_manager_SIF.generate_metrics()\n",
    "    #\n",
    "    metric_manager_PF = SimpleManager([ospa_generator, siap_generator, uncertainty_generator],\n",
    "                                      associator=associator)\n",
    "    metric_manager_PF.add_data(ground_truth, tracks_PF)\n",
    "    metrics_PF = metric_manager_PF.generate_metrics()\n",
    "    # Metric Generation\n",
    "    ospa_metric_EKF = metrics_EKF['OSPA distances']\n",
    "    ospa_metric_UKF = metrics_UKF['OSPA distances']\n",
    "    ospa_metric_SIF = metrics_SIF['OSPA distances']\n",
    "    ospa_metric_PF = metrics_PF['OSPA distances']\n",
    "    y_sum_EKF =+ np.array([i.value for i in ospa_metric_EKF.value])\n",
    "    y_sum_UKF =+ np.array([i.value for i in ospa_metric_UKF.value])\n",
    "    y_sum_SIF =+ np.array([i.value for i in ospa_metric_SIF.value])\n",
    "    y_sum_PF =+ np.array([i.value for i in ospa_metric_PF.value])\n",
    "\n",
    "    rmseEKF_sum =+ root_mean_square_error(ground_truth, tracks_EKF)\n",
    "    rmseUKF_sum =+ root_mean_square_error(ground_truth, tracks_UKF)\n",
    "    rmseSIF_sum =+ root_mean_square_error(ground_truth, tracks_SIF)\n",
    "    rmsePF_sum =+ root_mean_square_error(ground_truth, tracks_PF)\n",
    "\n",
    "\n",
    "fig = make_subplots(\n",
    "    rows=1, cols=1,\n",
    "    shared_xaxes=False,\n",
    "    vertical_spacing=0.040,\n",
    "    subplot_titles=['Tracker distance error from target - lower is better'])\n",
    "fig.add_scatter(\n",
    "    x=[i.timestamp for i in ospa_metric_EKF.value],\n",
    "    #y=[i.value for i in ospa_metric_EKF.value],\n",
    "    y = y_sum_EKF / (monte_carlo_iterations),\n",
    "    name='EKF',\n",
    "    legendgroup=\"orange\",\n",
    "    yaxis='y',\n",
    "    row=1,\n",
    "    col=1,\n",
    "    showlegend=True,\n",
    "    line_color='orange',\n",
    ")\n",
    "fig.add_scatter(\n",
    "    x=[i.timestamp for i in ospa_metric_SIF.value],\n",
    "    #y=[i.value for i in ospa_metric_SIF.value],\n",
    "    y = y_sum_SIF / (monte_carlo_iterations),\n",
    "    name='SIF',\n",
    "    legendgroup=\"red\",\n",
    "    yaxis='y',\n",
    "    row=1,\n",
    "    col=1,\n",
    "    showlegend=True,\n",
    "    line_color='red',\n",
    ")\n",
    "fig.add_scatter(\n",
    "    x=[i.timestamp for i in ospa_metric_UKF.value],\n",
    "    #y=[i.value for i in ospa_metric_UKF.value],\n",
    "    y = y_sum_UKF / (monte_carlo_iterations),\n",
    "    name='UKF',\n",
    "    legendgroup=\"blue\",\n",
    "    yaxis='y',\n",
    "    row=1,\n",
    "    col=1,\n",
    "    showlegend=True,\n",
    "    line_color='blue',\n",
    ")\n",
    "fig.add_scatter(\n",
    "    x=[i.timestamp for i in ospa_metric_PF.value],\n",
    "    #y=[i.value for i in ospa_metric_PF.value],\n",
    "    y = y_sum_PF / (monte_carlo_iterations),\n",
    "    name='Particle',\n",
    "    legendgroup=\"brown\",\n",
    "    yaxis='y',\n",
    "    row=1,\n",
    "    col=1,\n",
    "    showlegend=True,\n",
    "    line_color='brown',\n",
    ")\n",
    "\n",
    "import matplotlib.pyplot as plt\n",
    "\n",
    "fig, axes = plt.subplots(1)\n",
    "\n",
    "rmseEKF = rmseEKF_sum #/ monte_carlo_iterations\n",
    "rmseUKF = rmseUKF_sum #/ monte_carlo_iterations\n",
    "rmseSIF = rmseSIF_sum #/ monte_carlo_iterations\n",
    "rmsePF = rmsePF_sum #/ monte_carlo_iterations\n",
    "\n",
    "times = range(50)\n",
    "\n",
    "axes.set(title='Positional Accuracy', xlabel='Time (s)', ylabel='RMSE')\n",
    "axes.plot(times, np.mean(rmseEKF,0),\n",
    "             label='Extended Kalman Filter')\n",
    "axes.plot(times, np.mean(rmseUKF,0),\n",
    "             label='Unscented Kalman Filter')\n",
    "axes.plot(times, np.mean(rmseSIF,0),\n",
    "             label='Stochastic Integration Filter')\n",
    "axes.plot(times, np.mean(rmsePF,0),\n",
    "             label='Particle Filter')\n",
    "axes.legend()\n"
   ]
  },
  {
   "cell_type": "code",
   "execution_count": null,
   "metadata": {},
   "outputs": [],
   "source": []
  },
  {
   "cell_type": "code",
   "execution_count": null,
   "metadata": {},
   "outputs": [],
   "source": []
  },
  {
   "cell_type": "code",
   "execution_count": null,
   "metadata": {},
   "outputs": [],
   "source": []
  },
  {
   "cell_type": "code",
   "execution_count": null,
   "metadata": {},
   "outputs": [],
   "source": []
  },
  {
   "cell_type": "code",
   "execution_count": null,
   "metadata": {},
   "outputs": [],
   "source": []
  },
  {
   "cell_type": "code",
   "execution_count": null,
   "metadata": {},
   "outputs": [],
   "source": []
  }
 ],
 "metadata": {
  "kernelspec": {
   "display_name": "Python 3 (ipykernel)",
   "language": "python",
   "name": "python3"
  },
  "language_info": {
   "codemirror_mode": {
    "name": "ipython",
    "version": 3
   },
   "file_extension": ".py",
   "mimetype": "text/x-python",
   "name": "python",
   "nbconvert_exporter": "python",
   "pygments_lexer": "ipython3",
   "version": "3.9.18"
  }
 },
 "nbformat": 4,
 "nbformat_minor": 4
}
